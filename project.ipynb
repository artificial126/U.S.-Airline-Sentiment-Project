{
 "cells": [
  {
   "cell_type": "code",
   "execution_count": 1,
   "metadata": {
    "ExecuteTime": {
     "end_time": "2022-03-14T21:31:51.896305Z",
     "start_time": "2022-03-14T21:31:46.399135Z"
    }
   },
   "outputs": [
    {
     "name": "stderr",
     "output_type": "stream",
     "text": [
      "[nltk_data] Downloading package stopwords to\n",
      "[nltk_data]     C:\\Users\\AI\\AppData\\Roaming\\nltk_data...\n",
      "[nltk_data]   Package stopwords is already up-to-date!\n",
      "[nltk_data] Downloading package punkt to\n",
      "[nltk_data]     C:\\Users\\AI\\AppData\\Roaming\\nltk_data...\n",
      "[nltk_data]   Package punkt is already up-to-date!\n",
      "[nltk_data] Downloading package wordnet to\n",
      "[nltk_data]     C:\\Users\\AI\\AppData\\Roaming\\nltk_data...\n",
      "[nltk_data]   Package wordnet is already up-to-date!\n",
      "[nltk_data] Downloading package words to\n",
      "[nltk_data]     C:\\Users\\AI\\AppData\\Roaming\\nltk_data...\n",
      "[nltk_data]   Package words is already up-to-date!\n"
     ]
    }
   ],
   "source": [
    "# Importing necessary modules.\n",
    "import re\n",
    "import string   \n",
    "from nltk.tokenize import sent_tokenize, word_tokenize\n",
    "from nltk.corpus import stopwords\n",
    "from nltk.stem import WordNetLemmatizer, PorterStemmer\n",
    "from nltk.probability import FreqDist\n",
    "from nltk.tokenize import RegexpTokenizer\n",
    "from sklearn.pipeline import Pipeline\n",
    "from sklearn.linear_model import LogisticRegression\n",
    "from sklearn.ensemble import GradientBoostingClassifier\n",
    "from sklearn.ensemble import AdaBoostClassifier\n",
    "from xgboost import XGBClassifier\n",
    "from sklearn.tree import DecisionTreeClassifier\n",
    "from sklearn.ensemble import RandomForestClassifier\n",
    "from sklearn.naive_bayes import MultinomialNB, BernoulliNB\n",
    "from sklearn.metrics import confusion_matrix\n",
    "from sklearn.metrics import plot_confusion_matrix,classification_report, f1_score, recall_score\n",
    "from sklearn.pipeline import Pipeline\n",
    "from sklearn.feature_extraction.text import TfidfVectorizer\n",
    "from sklearn.feature_extraction.text import CountVectorizer\n",
    "from sklearn.model_selection import train_test_split\n",
    "from imblearn.over_sampling import SMOTE\n",
    "\n",
    "from keras.models import Sequential\n",
    "from keras.layers import Dense, LSTM, Bidirectional,Embedding\n",
    "from keras.layers import Dropout, Conv1D, MaxPooling1D\n",
    "from keras.callbacks import EarlyStopping\n",
    "from keras.preprocessing.text import Tokenizer\n",
    "from keras.preprocessing.sequence import pad_sequences\n",
    "\n",
    "from sklearn.svm import SVC\n",
    "from sklearn.model_selection import StratifiedKFold\n",
    "from sklearn.metrics import accuracy_score\n",
    "from tensorflow.keras import layers, models\n",
    "import gensim\n",
    "from gensim.models import Word2Vec\n",
    "\n",
    "import pandas as pd\n",
    "import numpy as np\n",
    "import seaborn as sns\n",
    "import matplotlib.pyplot as plt\n",
    "from collections import Counter\n",
    "\n",
    "import nltk\n",
    "nltk.download('stopwords')\n",
    "nltk.download('punkt')\n",
    "nltk.download('wordnet')\n",
    "nltk.download('words')\n",
    "\n",
    "import warnings\n",
    "warnings.filterwarnings(\"ignore\")\n",
    "plt.rcParams[\"figure.figsize\"] = (10,6)\n",
    "pd.set_option('display.max_columns', 50)"
   ]
  },
  {
   "cell_type": "markdown",
   "metadata": {},
   "source": [
    "## Business Value"
   ]
  },
  {
   "cell_type": "markdown",
   "metadata": {},
   "source": [
    "There are six different airline companies in this dataset; United, US Airways, American, Southwest, Delta and Virgin America. And their customers still complaining about some problems with their services/flights.\n",
    "For an airline company one customer, customer's review, one cancellation flight, one hour or one minute sometimes seconds too much important for a business value. Because of business  reputation and business economic status. Instead of other industries economic status is more important at airline industry because this is a transportation company and losing every second for every mile flight.\n",
    "We are going to analyze and making machine learning project for how airline companies could improve ourselves with our findings."
   ]
  },
  {
   "cell_type": "markdown",
   "metadata": {},
   "source": [
    "## Business Problem"
   ]
  },
  {
   "cell_type": "markdown",
   "metadata": {},
   "source": [
    "In this project, main goal is the predict airline sentiment of flights with machine learning model. Our problem is customers satisfaction of flights.Some customers not only half satisfied, almost completely not satisfied and have some problems like; customer service issue, late flight, cancellation of flight etc. This problems will make specific airline company to lose money.Since every seconds important for an airline company, we are going to analyze why is that and making machine learning model to prevent at the future. Depend on customer's review(positive , neutral or negative) airline companies could take action about it."
   ]
  },
  {
   "cell_type": "code",
   "execution_count": 2,
   "metadata": {
    "ExecuteTime": {
     "end_time": "2022-03-14T21:31:51.973155Z",
     "start_time": "2022-03-14T21:31:51.897294Z"
    },
    "scrolled": false
   },
   "outputs": [
    {
     "data": {
      "text/html": [
       "<div>\n",
       "<style scoped>\n",
       "    .dataframe tbody tr th:only-of-type {\n",
       "        vertical-align: middle;\n",
       "    }\n",
       "\n",
       "    .dataframe tbody tr th {\n",
       "        vertical-align: top;\n",
       "    }\n",
       "\n",
       "    .dataframe thead th {\n",
       "        text-align: right;\n",
       "    }\n",
       "</style>\n",
       "<table border=\"1\" class=\"dataframe\">\n",
       "  <thead>\n",
       "    <tr style=\"text-align: right;\">\n",
       "      <th></th>\n",
       "      <th>tweet_id</th>\n",
       "      <th>airline_sentiment</th>\n",
       "      <th>airline_sentiment_confidence</th>\n",
       "      <th>negativereason</th>\n",
       "      <th>negativereason_confidence</th>\n",
       "      <th>airline</th>\n",
       "      <th>airline_sentiment_gold</th>\n",
       "      <th>name</th>\n",
       "      <th>negativereason_gold</th>\n",
       "      <th>retweet_count</th>\n",
       "      <th>text</th>\n",
       "      <th>tweet_coord</th>\n",
       "      <th>tweet_created</th>\n",
       "      <th>tweet_location</th>\n",
       "      <th>user_timezone</th>\n",
       "    </tr>\n",
       "  </thead>\n",
       "  <tbody>\n",
       "    <tr>\n",
       "      <th>0</th>\n",
       "      <td>570306133677760513</td>\n",
       "      <td>neutral</td>\n",
       "      <td>1.0000</td>\n",
       "      <td>NaN</td>\n",
       "      <td>NaN</td>\n",
       "      <td>Virgin America</td>\n",
       "      <td>NaN</td>\n",
       "      <td>cairdin</td>\n",
       "      <td>NaN</td>\n",
       "      <td>0</td>\n",
       "      <td>@VirginAmerica What @dhepburn said.</td>\n",
       "      <td>NaN</td>\n",
       "      <td>2015-02-24 11:35:52 -0800</td>\n",
       "      <td>NaN</td>\n",
       "      <td>Eastern Time (US &amp; Canada)</td>\n",
       "    </tr>\n",
       "    <tr>\n",
       "      <th>1</th>\n",
       "      <td>570301130888122368</td>\n",
       "      <td>positive</td>\n",
       "      <td>0.3486</td>\n",
       "      <td>NaN</td>\n",
       "      <td>0.0000</td>\n",
       "      <td>Virgin America</td>\n",
       "      <td>NaN</td>\n",
       "      <td>jnardino</td>\n",
       "      <td>NaN</td>\n",
       "      <td>0</td>\n",
       "      <td>@VirginAmerica plus you've added commercials t...</td>\n",
       "      <td>NaN</td>\n",
       "      <td>2015-02-24 11:15:59 -0800</td>\n",
       "      <td>NaN</td>\n",
       "      <td>Pacific Time (US &amp; Canada)</td>\n",
       "    </tr>\n",
       "    <tr>\n",
       "      <th>2</th>\n",
       "      <td>570301083672813571</td>\n",
       "      <td>neutral</td>\n",
       "      <td>0.6837</td>\n",
       "      <td>NaN</td>\n",
       "      <td>NaN</td>\n",
       "      <td>Virgin America</td>\n",
       "      <td>NaN</td>\n",
       "      <td>yvonnalynn</td>\n",
       "      <td>NaN</td>\n",
       "      <td>0</td>\n",
       "      <td>@VirginAmerica I didn't today... Must mean I n...</td>\n",
       "      <td>NaN</td>\n",
       "      <td>2015-02-24 11:15:48 -0800</td>\n",
       "      <td>Lets Play</td>\n",
       "      <td>Central Time (US &amp; Canada)</td>\n",
       "    </tr>\n",
       "    <tr>\n",
       "      <th>3</th>\n",
       "      <td>570301031407624196</td>\n",
       "      <td>negative</td>\n",
       "      <td>1.0000</td>\n",
       "      <td>Bad Flight</td>\n",
       "      <td>0.7033</td>\n",
       "      <td>Virgin America</td>\n",
       "      <td>NaN</td>\n",
       "      <td>jnardino</td>\n",
       "      <td>NaN</td>\n",
       "      <td>0</td>\n",
       "      <td>@VirginAmerica it's really aggressive to blast...</td>\n",
       "      <td>NaN</td>\n",
       "      <td>2015-02-24 11:15:36 -0800</td>\n",
       "      <td>NaN</td>\n",
       "      <td>Pacific Time (US &amp; Canada)</td>\n",
       "    </tr>\n",
       "    <tr>\n",
       "      <th>4</th>\n",
       "      <td>570300817074462722</td>\n",
       "      <td>negative</td>\n",
       "      <td>1.0000</td>\n",
       "      <td>Can't Tell</td>\n",
       "      <td>1.0000</td>\n",
       "      <td>Virgin America</td>\n",
       "      <td>NaN</td>\n",
       "      <td>jnardino</td>\n",
       "      <td>NaN</td>\n",
       "      <td>0</td>\n",
       "      <td>@VirginAmerica and it's a really big bad thing...</td>\n",
       "      <td>NaN</td>\n",
       "      <td>2015-02-24 11:14:45 -0800</td>\n",
       "      <td>NaN</td>\n",
       "      <td>Pacific Time (US &amp; Canada)</td>\n",
       "    </tr>\n",
       "  </tbody>\n",
       "</table>\n",
       "</div>"
      ],
      "text/plain": [
       "             tweet_id airline_sentiment  airline_sentiment_confidence  \\\n",
       "0  570306133677760513           neutral                        1.0000   \n",
       "1  570301130888122368          positive                        0.3486   \n",
       "2  570301083672813571           neutral                        0.6837   \n",
       "3  570301031407624196          negative                        1.0000   \n",
       "4  570300817074462722          negative                        1.0000   \n",
       "\n",
       "  negativereason  negativereason_confidence         airline  \\\n",
       "0            NaN                        NaN  Virgin America   \n",
       "1            NaN                     0.0000  Virgin America   \n",
       "2            NaN                        NaN  Virgin America   \n",
       "3     Bad Flight                     0.7033  Virgin America   \n",
       "4     Can't Tell                     1.0000  Virgin America   \n",
       "\n",
       "  airline_sentiment_gold        name negativereason_gold  retweet_count  \\\n",
       "0                    NaN     cairdin                 NaN              0   \n",
       "1                    NaN    jnardino                 NaN              0   \n",
       "2                    NaN  yvonnalynn                 NaN              0   \n",
       "3                    NaN    jnardino                 NaN              0   \n",
       "4                    NaN    jnardino                 NaN              0   \n",
       "\n",
       "                                                text tweet_coord  \\\n",
       "0                @VirginAmerica What @dhepburn said.         NaN   \n",
       "1  @VirginAmerica plus you've added commercials t...         NaN   \n",
       "2  @VirginAmerica I didn't today... Must mean I n...         NaN   \n",
       "3  @VirginAmerica it's really aggressive to blast...         NaN   \n",
       "4  @VirginAmerica and it's a really big bad thing...         NaN   \n",
       "\n",
       "               tweet_created tweet_location               user_timezone  \n",
       "0  2015-02-24 11:35:52 -0800            NaN  Eastern Time (US & Canada)  \n",
       "1  2015-02-24 11:15:59 -0800            NaN  Pacific Time (US & Canada)  \n",
       "2  2015-02-24 11:15:48 -0800      Lets Play  Central Time (US & Canada)  \n",
       "3  2015-02-24 11:15:36 -0800            NaN  Pacific Time (US & Canada)  \n",
       "4  2015-02-24 11:14:45 -0800            NaN  Pacific Time (US & Canada)  "
      ]
     },
     "execution_count": 2,
     "metadata": {},
     "output_type": "execute_result"
    }
   ],
   "source": [
    "# Import and looking the data.\n",
    "df = pd.read_csv('Tweets.csv')\n",
    "df.head()"
   ]
  },
  {
   "cell_type": "code",
   "execution_count": 3,
   "metadata": {
    "ExecuteTime": {
     "end_time": "2022-03-14T21:31:52.003931Z",
     "start_time": "2022-03-14T21:31:51.974643Z"
    }
   },
   "outputs": [
    {
     "name": "stdout",
     "output_type": "stream",
     "text": [
      "<class 'pandas.core.frame.DataFrame'>\n",
      "RangeIndex: 14640 entries, 0 to 14639\n",
      "Data columns (total 15 columns):\n",
      " #   Column                        Non-Null Count  Dtype  \n",
      "---  ------                        --------------  -----  \n",
      " 0   tweet_id                      14640 non-null  int64  \n",
      " 1   airline_sentiment             14640 non-null  object \n",
      " 2   airline_sentiment_confidence  14640 non-null  float64\n",
      " 3   negativereason                9178 non-null   object \n",
      " 4   negativereason_confidence     10522 non-null  float64\n",
      " 5   airline                       14640 non-null  object \n",
      " 6   airline_sentiment_gold        40 non-null     object \n",
      " 7   name                          14640 non-null  object \n",
      " 8   negativereason_gold           32 non-null     object \n",
      " 9   retweet_count                 14640 non-null  int64  \n",
      " 10  text                          14640 non-null  object \n",
      " 11  tweet_coord                   1019 non-null   object \n",
      " 12  tweet_created                 14640 non-null  object \n",
      " 13  tweet_location                9907 non-null   object \n",
      " 14  user_timezone                 9820 non-null   object \n",
      "dtypes: float64(2), int64(2), object(11)\n",
      "memory usage: 1.7+ MB\n"
     ]
    }
   ],
   "source": [
    "df.info()"
   ]
  },
  {
   "cell_type": "code",
   "execution_count": 4,
   "metadata": {
    "ExecuteTime": {
     "end_time": "2022-03-14T21:31:52.019284Z",
     "start_time": "2022-03-14T21:31:52.005397Z"
    }
   },
   "outputs": [
    {
     "data": {
      "text/plain": [
       "0        2015-02-24 11:35:52 -0800\n",
       "1        2015-02-24 11:15:59 -0800\n",
       "2        2015-02-24 11:15:48 -0800\n",
       "3        2015-02-24 11:15:36 -0800\n",
       "4        2015-02-24 11:14:45 -0800\n",
       "                   ...            \n",
       "14635    2015-02-22 12:01:01 -0800\n",
       "14636    2015-02-22 11:59:46 -0800\n",
       "14637    2015-02-22 11:59:15 -0800\n",
       "14638    2015-02-22 11:59:02 -0800\n",
       "14639    2015-02-22 11:58:51 -0800\n",
       "Name: tweet_created, Length: 14640, dtype: object"
      ]
     },
     "execution_count": 4,
     "metadata": {},
     "output_type": "execute_result"
    }
   ],
   "source": [
    "df['tweet_created']"
   ]
  },
  {
   "cell_type": "code",
   "execution_count": 5,
   "metadata": {
    "ExecuteTime": {
     "end_time": "2022-03-14T21:31:52.034660Z",
     "start_time": "2022-03-14T21:31:52.020772Z"
    }
   },
   "outputs": [
    {
     "data": {
      "text/plain": [
       "'@VirginAmerica it\\'s really aggressive to blast obnoxious \"entertainment\" in your guests\\' faces &amp; they have little recourse'"
      ]
     },
     "execution_count": 5,
     "metadata": {},
     "output_type": "execute_result"
    }
   ],
   "source": [
    "# Example of a tweet.\n",
    "df['text'][3]"
   ]
  },
  {
   "cell_type": "code",
   "execution_count": 6,
   "metadata": {
    "ExecuteTime": {
     "end_time": "2022-03-14T21:31:52.050035Z",
     "start_time": "2022-03-14T21:31:52.036148Z"
    }
   },
   "outputs": [
    {
     "data": {
      "text/plain": [
       "negative    0.626913\n",
       "neutral     0.211680\n",
       "positive    0.161407\n",
       "Name: airline_sentiment, dtype: float64"
      ]
     },
     "execution_count": 6,
     "metadata": {},
     "output_type": "execute_result"
    }
   ],
   "source": [
    "# Target variable class balance.\n",
    "df['airline_sentiment'].value_counts(normalize=True)"
   ]
  },
  {
   "cell_type": "code",
   "execution_count": 7,
   "metadata": {
    "ExecuteTime": {
     "end_time": "2022-03-14T21:31:52.065412Z",
     "start_time": "2022-03-14T21:31:52.051028Z"
    }
   },
   "outputs": [
    {
     "data": {
      "text/plain": [
       "United            3822\n",
       "US Airways        2913\n",
       "American          2759\n",
       "Southwest         2420\n",
       "Delta             2222\n",
       "Virgin America     504\n",
       "Name: airline, dtype: int64"
      ]
     },
     "execution_count": 7,
     "metadata": {},
     "output_type": "execute_result"
    }
   ],
   "source": [
    "# Airline companies balance.\n",
    "df['airline'].value_counts()"
   ]
  },
  {
   "cell_type": "markdown",
   "metadata": {},
   "source": [
    "## Data Understanding"
   ]
  },
  {
   "cell_type": "code",
   "execution_count": 8,
   "metadata": {
    "ExecuteTime": {
     "end_time": "2022-03-14T21:31:52.219172Z",
     "start_time": "2022-03-14T21:31:52.067892Z"
    }
   },
   "outputs": [
    {
     "data": {
      "image/png": "[encoded data removed]",
      "text/plain": [
       "<Figure size 720x432 with 1 Axes>"
      ]
     },
     "metadata": {
      "needs_background": "light"
     },
     "output_type": "display_data"
    }
   ],
   "source": [
    "# Visual of airline companies review counts.\n",
    "ax = sns.countplot(data = df, y = 'airline', color='royalblue'\n",
    "                   ,order = df.airline.value_counts().index)\n",
    "ax.set_title('Count per Airlines',)\n",
    "                                    \n",
    "plt.show()"
   ]
  },
  {
   "cell_type": "code",
   "execution_count": 113,
   "metadata": {
    "ExecuteTime": {
     "end_time": "2022-03-14T23:45:25.626276Z",
     "start_time": "2022-03-14T23:45:25.432833Z"
    }
   },
   "outputs": [
    {
     "data": {
      "image/png": "[encoded data removed]",
      "text/plain": [
       "<Figure size 864x432 with 1 Axes>"
      ]
     },
     "metadata": {},
     "output_type": "display_data"
    }
   ],
   "source": [
    "#Airline companies sentiment visualization.\n",
    "sns.countplot(data = df, x =\"airline\", hue = \"airline_sentiment\");\n",
    "sns.set(rc={\"figure.figsize\":(12, 6)})"
   ]
  },
  {
   "cell_type": "code",
   "execution_count": null,
   "metadata": {},
   "outputs": [],
   "source": [
    "plt.bar()"
   ]
  },
  {
   "cell_type": "code",
   "execution_count": 10,
   "metadata": {
    "ExecuteTime": {
     "end_time": "2022-03-14T21:31:52.572847Z",
     "start_time": "2022-03-14T21:31:52.389301Z"
    }
   },
   "outputs": [
    {
     "data": {
      "image/png": "[encoded data removed]",
      "text/plain": [
       "<Figure size 576x360 with 1 Axes>"
      ]
     },
     "metadata": {},
     "output_type": "display_data"
    }
   ],
   "source": [
    "# Total negative reasons visual.\n",
    "plt.figure(figsize=(8,5))\n",
    "ax = sns.countplot(data = df, y = 'negativereason',\n",
    "                   color='mediumseagreen',\n",
    "                   order = df.negativereason.value_counts().index)\n",
    "ax.set_title('Count per NegativeReason')\n",
    "\n",
    "plt.show(a)"
   ]
  },
  {
   "cell_type": "code",
   "execution_count": 11,
   "metadata": {
    "ExecuteTime": {
     "end_time": "2022-03-14T21:31:53.326243Z",
     "start_time": "2022-03-14T21:31:52.573812Z"
    }
   },
   "outputs": [
    {
     "data": {
      "image/png": "[encoded data removed]",
      "text/plain": [
       "<Figure size 576x1296 with 6 Axes>"
      ]
     },
     "metadata": {},
     "output_type": "display_data"
    }
   ],
   "source": [
    "# Negative reasons per airline companies.\n",
    "fig, axes = plt.subplots(6,1, figsize=(8,18), sharex=True)\n",
    "axes = axes.flatten()\n",
    "names = df['airline'].unique()\n",
    "\n",
    "for name, n in zip(names, axes):\n",
    "    ax = sns.countplot(data = df[df.airline==name], y = 'negativereason',color='dodgerblue',\n",
    "                       order = df[df.airline==name].negativereason.value_counts().index, ax = n)\n",
    "    ax.set_title(f\"{name}: {format(len(df[df.airline==name]),',')}\")\n",
    "    ax.set_xlabel('')\n",
    "    ax.set_ylabel('')\n",
    "\n",
    "plt.suptitle(\"NegativeReasons per Airline Companies\", fontsize = 20)\n",
    "plt.show()\n",
    "\n"
   ]
  },
  {
   "cell_type": "markdown",
   "metadata": {
    "ExecuteTime": {
     "end_time": "2022-02-22T23:26:29.300975Z",
     "start_time": "2022-02-22T23:26:29.284111Z"
    }
   },
   "source": [
    "\n",
    "**American, US Airways, Southwest**: Complaints about customer sevice issue is relatively high.\n",
    "\n",
    "**United :**  Customer service issue is the most, but customers for this airline experienced late flight more frequently than others. Lost luggage issue happened relatively high.\n",
    "\n",
    "**Delta:** Customer service looks not bad, but most of customers experienced late flight.\n",
    "\n",
    "**Virgin America:** Mostly about customer service followed by flight booking problem.\n"
   ]
  },
  {
   "cell_type": "markdown",
   "metadata": {},
   "source": [
    "## Cleaning"
   ]
  },
  {
   "cell_type": "code",
   "execution_count": 12,
   "metadata": {
    "ExecuteTime": {
     "end_time": "2022-03-14T21:31:53.341660Z",
     "start_time": "2022-03-14T21:31:53.327731Z"
    }
   },
   "outputs": [],
   "source": [
    "# Copying data for secure original.\n",
    "df2 = df.copy()"
   ]
  },
  {
   "cell_type": "code",
   "execution_count": 13,
   "metadata": {
    "ExecuteTime": {
     "end_time": "2022-03-14T21:31:53.387951Z",
     "start_time": "2022-03-14T21:31:53.342653Z"
    }
   },
   "outputs": [
    {
     "data": {
      "text/plain": [
       "0                                          What  said.\n",
       "1     plus you've added commercials to the experien...\n",
       "2     I didn't today... Must mean I need to take an...\n",
       "3     it's really aggressive to blast obnoxious \"en...\n",
       "4             and it's a really big bad thing about it\n",
       "Name: text, dtype: object"
      ]
     },
     "execution_count": 13,
     "metadata": {},
     "output_type": "execute_result"
    }
   ],
   "source": [
    "# Cleaning process from non alphabetic characters.\n",
    "df2[\"text\"] = df2[\"text\"].str.replace(\"(@+\\w+)\", \"\")\n",
    "df2[\"text\"].head()"
   ]
  },
  {
   "cell_type": "code",
   "execution_count": 14,
   "metadata": {
    "ExecuteTime": {
     "end_time": "2022-03-14T21:31:53.403556Z",
     "start_time": "2022-03-14T21:31:53.389438Z"
    }
   },
   "outputs": [],
   "source": [
    "# Creating variable for english stopwords.\n",
    "stop_words = stopwords.words('english')"
   ]
  },
  {
   "cell_type": "code",
   "execution_count": 15,
   "metadata": {
    "ExecuteTime": {
     "end_time": "2022-03-14T21:31:53.418906Z",
     "start_time": "2022-03-14T21:31:53.405018Z"
    }
   },
   "outputs": [],
   "source": [
    "# Creating function for cleaning, tokenize and lemmatization.\n",
    "def cleaning(data):\n",
    "    \"\"\" This function cleans each word from punctuations, lowers each character, removes stopwords and \n",
    "    lemmatization for each word.\"\"\"\n",
    "    \n",
    "    #Tokenize\n",
    "    text_tokens = word_tokenize(data.replace(\"'\", \"\").lower()) \n",
    "        \n",
    "    #Remove punctuations\n",
    "    tokens_without_punc = [w for w in text_tokens if w.isalpha()] \n",
    "    \n",
    "    #Removing Stopwords\n",
    "    tokens_without_sw = [t for t in tokens_without_punc if t not in stop_words]  \n",
    "    \n",
    "    #lemma\n",
    "    text_cleaned = [WordNetLemmatizer().lemmatize(t) for t in tokens_without_sw]\n",
    "    \n",
    "    #joining\n",
    "    return \" \".join(text_cleaned)"
   ]
  },
  {
   "cell_type": "code",
   "execution_count": 16,
   "metadata": {
    "ExecuteTime": {
     "end_time": "2022-03-14T21:31:57.985477Z",
     "start_time": "2022-03-14T21:31:53.420393Z"
    }
   },
   "outputs": [
    {
     "data": {
      "text/plain": [
       "0                                                 said\n",
       "1         plus youve added commercial experience tacky\n",
       "2         didnt today must mean need take another trip\n",
       "3    really aggressive blast obnoxious entertainmen...\n",
       "4                                 really big bad thing\n",
       "Name: text, dtype: object"
      ]
     },
     "execution_count": 16,
     "metadata": {},
     "output_type": "execute_result"
    }
   ],
   "source": [
    "#Applying function to target.\n",
    "df2[\"text\"] = df2[\"text\"].apply(cleaning)\n",
    "df2[\"text\"].head()"
   ]
  },
  {
   "cell_type": "code",
   "execution_count": 17,
   "metadata": {
    "ExecuteTime": {
     "end_time": "2022-03-14T21:31:58.016229Z",
     "start_time": "2022-03-14T21:31:57.986469Z"
    }
   },
   "outputs": [
    {
     "data": {
      "text/plain": [
       "['said',\n",
       " 'plus',\n",
       " 'youve',\n",
       " 'added',\n",
       " 'commercial',\n",
       " 'experience',\n",
       " 'tacky',\n",
       " 'didnt',\n",
       " 'today',\n",
       " 'must',\n",
       " 'mean',\n",
       " 'need',\n",
       " 'take',\n",
       " 'another',\n",
       " 'trip',\n",
       " 'really',\n",
       " 'aggressive',\n",
       " 'blast',\n",
       " 'obnoxious',\n",
       " 'entertainment',\n",
       " 'guest',\n",
       " 'face',\n",
       " 'amp',\n",
       " 'little',\n",
       " 'recourse',\n",
       " 'really',\n",
       " 'big',\n",
       " 'bad',\n",
       " 'thing',\n",
       " 'seriously',\n",
       " 'would',\n",
       " 'pay',\n",
       " 'flight',\n",
       " 'seat',\n",
       " 'didnt',\n",
       " 'playing',\n",
       " 'really',\n",
       " 'bad',\n",
       " 'thing',\n",
       " 'flying',\n",
       " 'va',\n",
       " 'yes',\n",
       " 'nearly',\n",
       " 'every',\n",
       " 'time',\n",
       " 'fly',\n",
       " 'vx',\n",
       " 'ear',\n",
       " 'worm',\n",
       " 'go',\n",
       " 'away',\n",
       " 'really',\n",
       " 'missed',\n",
       " 'prime',\n",
       " 'opportunity',\n",
       " 'men',\n",
       " 'without',\n",
       " 'hat',\n",
       " 'parody',\n",
       " 'http',\n",
       " 'well',\n",
       " 'amazing',\n",
       " 'arrived',\n",
       " 'hour',\n",
       " 'early',\n",
       " 'youre',\n",
       " 'good',\n",
       " 'know',\n",
       " 'suicide',\n",
       " 'second',\n",
       " 'leading',\n",
       " 'cause',\n",
       " 'death',\n",
       " 'among',\n",
       " 'teen',\n",
       " 'lt',\n",
       " 'pretty',\n",
       " 'graphic',\n",
       " 'much',\n",
       " 'better',\n",
       " 'minimal',\n",
       " 'iconography',\n",
       " 'great',\n",
       " 'deal',\n",
       " 'already',\n",
       " 'thinking',\n",
       " 'trip',\n",
       " 'amp',\n",
       " 'havent',\n",
       " 'even',\n",
       " 'gone',\n",
       " 'trip',\n",
       " 'yet',\n",
       " 'p',\n",
       " 'im',\n",
       " 'flying',\n",
       " 'fabulous',\n",
       " 'seductive',\n",
       " 'sky',\n",
       " 'u',\n",
       " 'take',\n",
       " 'stress',\n",
       " 'away',\n",
       " 'travel',\n",
       " 'http',\n",
       " 'thanks',\n",
       " 'schedule',\n",
       " 'still',\n",
       " 'mia',\n",
       " 'excited',\n",
       " 'first',\n",
       " 'cross',\n",
       " 'country',\n",
       " 'flight',\n",
       " 'lax',\n",
       " 'mco',\n",
       " 'ive',\n",
       " 'heard',\n",
       " 'nothing',\n",
       " 'great',\n",
       " 'thing',\n",
       " 'virgin',\n",
       " 'america',\n",
       " 'flew',\n",
       " 'nyc',\n",
       " 'sfo',\n",
       " 'last',\n",
       " 'week',\n",
       " 'couldnt',\n",
       " 'fully',\n",
       " 'sit',\n",
       " 'seat',\n",
       " 'due',\n",
       " 'two',\n",
       " 'large',\n",
       " 'gentleman',\n",
       " 'either',\n",
       " 'side',\n",
       " 'help',\n",
       " 'flying',\n",
       " 'know',\n",
       " 'would',\n",
       " 'amazingly',\n",
       " 'awesome',\n",
       " 'please',\n",
       " 'want',\n",
       " 'fly',\n",
       " 'first',\n",
       " 'fare',\n",
       " 'may',\n",
       " 'three',\n",
       " 'time',\n",
       " 'carrier',\n",
       " 'seat',\n",
       " 'available',\n",
       " 'select',\n",
       " 'love',\n",
       " 'graphic',\n",
       " 'http',\n",
       " 'love',\n",
       " 'hipster',\n",
       " 'innovation',\n",
       " 'feel',\n",
       " 'good',\n",
       " 'brand',\n",
       " 'making',\n",
       " 'bos',\n",
       " 'gt',\n",
       " 'la',\n",
       " 'non',\n",
       " 'stop',\n",
       " 'permanently',\n",
       " 'anytime',\n",
       " 'soon',\n",
       " 'guy',\n",
       " 'messed',\n",
       " 'seating',\n",
       " 'reserved',\n",
       " 'seating',\n",
       " 'friend',\n",
       " 'guy',\n",
       " 'gave',\n",
       " 'seat',\n",
       " 'away',\n",
       " 'want',\n",
       " 'free',\n",
       " 'internet',\n",
       " 'status',\n",
       " 'match',\n",
       " 'program',\n",
       " 'applied',\n",
       " 'three',\n",
       " 'week',\n",
       " 'called',\n",
       " 'emailed',\n",
       " 'response',\n",
       " 'happened',\n",
       " 'ur',\n",
       " 'vegan',\n",
       " 'food',\n",
       " 'option',\n",
       " 'least',\n",
       " 'say',\n",
       " 'ur',\n",
       " 'site',\n",
       " 'know',\n",
       " 'wont',\n",
       " 'able',\n",
       " 'eat',\n",
       " 'anything',\n",
       " 'next',\n",
       " 'hr',\n",
       " 'fail',\n",
       " 'miss',\n",
       " 'dont',\n",
       " 'worry',\n",
       " 'well',\n",
       " 'together',\n",
       " 'soon',\n",
       " 'amazing',\n",
       " 'cant',\n",
       " 'get',\n",
       " 'cold',\n",
       " 'air',\n",
       " 'vent',\n",
       " 'noair',\n",
       " 'worstflightever',\n",
       " 'roasted',\n",
       " 'sfotobos',\n",
       " 'lax',\n",
       " 'ewr',\n",
       " 'middle',\n",
       " 'seat',\n",
       " 'red',\n",
       " 'eye',\n",
       " 'noob',\n",
       " 'maneuver',\n",
       " 'sendambien',\n",
       " 'andchexmix',\n",
       " 'hi',\n",
       " 'bked',\n",
       " 'cool',\n",
       " 'birthday',\n",
       " 'trip',\n",
       " 'cant',\n",
       " 'add',\n",
       " 'elevate',\n",
       " 'cause',\n",
       " 'entered',\n",
       " 'middle',\n",
       " 'name',\n",
       " 'flight',\n",
       " 'booking',\n",
       " 'problem',\n",
       " 'hour',\n",
       " 'operation',\n",
       " 'club',\n",
       " 'sfo',\n",
       " 'posted',\n",
       " 'online',\n",
       " 'current',\n",
       " 'help',\n",
       " 'left',\n",
       " 'expensive',\n",
       " 'headphone',\n",
       " 'flight',\n",
       " 'iad',\n",
       " 'lax',\n",
       " 'today',\n",
       " 'seat',\n",
       " 'one',\n",
       " 'answering',\n",
       " 'l',\n",
       " 'amp',\n",
       " 'f',\n",
       " 'number',\n",
       " 'lax',\n",
       " 'awaiting',\n",
       " 'return',\n",
       " 'phone',\n",
       " 'call',\n",
       " 'would',\n",
       " 'prefer',\n",
       " 'use',\n",
       " 'online',\n",
       " 'option',\n",
       " 'great',\n",
       " 'news',\n",
       " 'america',\n",
       " 'could',\n",
       " 'start',\n",
       " 'flight',\n",
       " 'hawaii',\n",
       " 'end',\n",
       " 'year',\n",
       " 'http',\n",
       " 'via',\n",
       " 'nice',\n",
       " 'rt',\n",
       " 'vibe',\n",
       " 'moodlight',\n",
       " 'takeoff',\n",
       " 'touchdown',\n",
       " 'moodlitmonday',\n",
       " 'sciencebehindtheexperience',\n",
       " 'http',\n",
       " 'moodlighting',\n",
       " 'way',\n",
       " 'fly',\n",
       " 'best',\n",
       " 'experience',\n",
       " 'ever',\n",
       " 'cool',\n",
       " 'calming',\n",
       " 'moodlitmonday',\n",
       " 'done',\n",
       " 'done',\n",
       " 'best',\n",
       " 'airline',\n",
       " 'around',\n",
       " 'hand',\n",
       " 'book',\n",
       " 'flight',\n",
       " 'hawaii',\n",
       " 'chat',\n",
       " 'support',\n",
       " 'working',\n",
       " 'site',\n",
       " 'http',\n",
       " 'view',\n",
       " 'downtown',\n",
       " 'los',\n",
       " 'angeles',\n",
       " 'hollywood',\n",
       " 'sign',\n",
       " 'beyond',\n",
       " 'rain',\n",
       " 'mountain',\n",
       " 'http',\n",
       " 'hey',\n",
       " 'first',\n",
       " 'time',\n",
       " 'flyer',\n",
       " 'next',\n",
       " 'week',\n",
       " 'excited',\n",
       " 'im',\n",
       " 'hard',\n",
       " 'time',\n",
       " 'getting',\n",
       " 'flight',\n",
       " 'added',\n",
       " 'elevate',\n",
       " 'account',\n",
       " 'help',\n",
       " 'plz',\n",
       " 'help',\n",
       " 'win',\n",
       " 'bid',\n",
       " 'upgrade',\n",
       " 'flight',\n",
       " 'lax',\n",
       " 'gt',\n",
       " 'sea',\n",
       " 'unused',\n",
       " 'ticket',\n",
       " 'moved',\n",
       " 'new',\n",
       " 'city',\n",
       " 'dont',\n",
       " 'fly',\n",
       " 'fly',\n",
       " 'expires',\n",
       " 'travelhelp',\n",
       " 'flight',\n",
       " 'leaving',\n",
       " 'dallas',\n",
       " 'seattle',\n",
       " 'time',\n",
       " 'feb',\n",
       " 'im',\n",
       " 'elevategold',\n",
       " 'good',\n",
       " 'reason',\n",
       " 'rock',\n",
       " 'dream',\n",
       " 'http',\n",
       " 'http',\n",
       " 'wow',\n",
       " 'blew',\n",
       " 'mind',\n",
       " 'last',\n",
       " 'night',\n",
       " 'tribute',\n",
       " 'soundofmusic',\n",
       " 'think',\n",
       " 'agree',\n",
       " 'entertaining',\n",
       " 'flight',\n",
       " 'way',\n",
       " 'supposed',\n",
       " 'take',\n",
       " 'minute',\n",
       " 'ago',\n",
       " 'website',\n",
       " 'still',\n",
       " 'show',\n",
       " 'time',\n",
       " 'flight',\n",
       " 'thanks',\n",
       " 'julie',\n",
       " 'andrew',\n",
       " 'way',\n",
       " 'though',\n",
       " 'impressive',\n",
       " 'wish',\n",
       " 'flew',\n",
       " 'atlanta',\n",
       " 'soon',\n",
       " 'julie',\n",
       " 'andrew',\n",
       " 'hand',\n",
       " 'flight',\n",
       " 'leaving',\n",
       " 'dallas',\n",
       " 'la',\n",
       " 'february',\n",
       " 'hi',\n",
       " 'im',\n",
       " 'excited',\n",
       " 'gt',\n",
       " 'dal',\n",
       " 'ive',\n",
       " 'trying',\n",
       " 'book',\n",
       " 'since',\n",
       " 'last',\n",
       " 'week',\n",
       " 'amp',\n",
       " 'page',\n",
       " 'never',\n",
       " 'load',\n",
       " 'thx',\n",
       " 'know',\n",
       " 'need',\n",
       " 'spotify',\n",
       " 'stat',\n",
       " 'guiltypleasures',\n",
       " 'im',\n",
       " 'lady',\n",
       " 'gaga',\n",
       " 'amazing',\n",
       " 'carrie',\n",
       " 'new',\n",
       " 'marketing',\n",
       " 'song',\n",
       " 'http',\n",
       " 'let',\n",
       " 'u',\n",
       " 'know',\n",
       " 'think',\n",
       " 'julie',\n",
       " 'andrew',\n",
       " 'first',\n",
       " 'lady',\n",
       " 'gaga',\n",
       " 'wowd',\n",
       " 'last',\n",
       " 'night',\n",
       " 'carrie',\n",
       " 'meh',\n",
       " 'called',\n",
       " 'week',\n",
       " 'ago',\n",
       " 'adding',\n",
       " 'flight',\n",
       " 'elevate',\n",
       " 'still',\n",
       " 'havent',\n",
       " 'shown',\n",
       " 'help',\n",
       " 'great',\n",
       " 'go',\n",
       " 'carrieunderwood',\n",
       " 'sorry',\n",
       " 'mary',\n",
       " 'martin',\n",
       " 'first',\n",
       " 'love',\n",
       " 'three',\n",
       " 'really',\n",
       " 'cant',\n",
       " 'beat',\n",
       " 'classic',\n",
       " 'flight',\n",
       " 'dal',\n",
       " 'dca',\n",
       " 'tried',\n",
       " 'check',\n",
       " 'could',\n",
       " 'status',\n",
       " 'please',\n",
       " 'heyyyy',\n",
       " 'guyyyys',\n",
       " 'trying',\n",
       " 'get',\n",
       " 'hour',\n",
       " 'someone',\n",
       " 'call',\n",
       " 'please',\n",
       " 'hi',\n",
       " 'virgin',\n",
       " 'im',\n",
       " 'hold',\n",
       " 'minute',\n",
       " 'earlier',\n",
       " 'flight',\n",
       " 'la',\n",
       " 'nyc',\n",
       " 'tonight',\n",
       " 'earlier',\n",
       " 'congrats',\n",
       " 'winning',\n",
       " 'award',\n",
       " 'best',\n",
       " 'deal',\n",
       " 'airline',\n",
       " 'u',\n",
       " 'http',\n",
       " 'everything',\n",
       " 'fine',\n",
       " 'lost',\n",
       " 'bag',\n",
       " 'need',\n",
       " 'change',\n",
       " 'reservation',\n",
       " 'virgin',\n",
       " 'credit',\n",
       " 'card',\n",
       " 'need',\n",
       " 'modify',\n",
       " 'phone',\n",
       " 'waive',\n",
       " 'change',\n",
       " 'fee',\n",
       " 'online',\n",
       " 'emailed',\n",
       " 'customer',\n",
       " 'service',\n",
       " 'team',\n",
       " 'let',\n",
       " 'know',\n",
       " 'need',\n",
       " 'tracking',\n",
       " 'number',\n",
       " 'hi',\n",
       " 'booked',\n",
       " 'flight',\n",
       " 'need',\n",
       " 'add',\n",
       " 'baggage',\n",
       " 'airline',\n",
       " 'awesome',\n",
       " 'lax',\n",
       " 'loft',\n",
       " 'need',\n",
       " 'step',\n",
       " 'game',\n",
       " 'dirty',\n",
       " 'table',\n",
       " 'floor',\n",
       " 'http',\n",
       " 'worried',\n",
       " 'great',\n",
       " 'ride',\n",
       " 'new',\n",
       " 'plane',\n",
       " 'great',\n",
       " 'crew',\n",
       " 'airline',\n",
       " 'like',\n",
       " 'awesome',\n",
       " 'flew',\n",
       " 'yall',\n",
       " 'sat',\n",
       " 'morning',\n",
       " 'way',\n",
       " 'correct',\n",
       " 'bill',\n",
       " 'watch',\n",
       " 'best',\n",
       " 'student',\n",
       " 'film',\n",
       " 'country',\n",
       " 'foot',\n",
       " 'http',\n",
       " 'first',\n",
       " 'time',\n",
       " 'flying',\n",
       " 'different',\n",
       " 'medium',\n",
       " 'bag',\n",
       " 'thanks',\n",
       " 'going',\n",
       " 'customer',\n",
       " 'service',\n",
       " 'anyway',\n",
       " 'speak',\n",
       " 'human',\n",
       " 'asap',\n",
       " 'thank',\n",
       " 'happened',\n",
       " 'doom',\n",
       " 'cant',\n",
       " 'supp',\n",
       " 'biz',\n",
       " 'traveler',\n",
       " 'like',\n",
       " 'customer',\n",
       " 'service',\n",
       " 'like',\n",
       " 'neverflyvirginforbusiness',\n",
       " 'ive',\n",
       " 'applied',\n",
       " 'member',\n",
       " 'inflight',\n",
       " 'crew',\n",
       " 'team',\n",
       " 'im',\n",
       " 'interested',\n",
       " 'flightattendant',\n",
       " 'dreampath',\n",
       " 'youre',\n",
       " 'best',\n",
       " 'whenever',\n",
       " 'begrudgingly',\n",
       " 'use',\n",
       " 'airline',\n",
       " 'im',\n",
       " 'delayed',\n",
       " 'late',\n",
       " 'flight',\n",
       " 'interesting',\n",
       " 'flying',\n",
       " 'cancelled',\n",
       " 'flight',\n",
       " 'next',\n",
       " 'four',\n",
       " 'flight',\n",
       " 'neverflyvirginforbusiness',\n",
       " 'disappointing',\n",
       " 'experience',\n",
       " 'shared',\n",
       " 'every',\n",
       " 'business',\n",
       " 'traveler',\n",
       " 'meet',\n",
       " 'neverflyvirgin',\n",
       " 'trouble',\n",
       " 'adding',\n",
       " 'flight',\n",
       " 'wife',\n",
       " 'booked',\n",
       " 'elevate',\n",
       " 'account',\n",
       " 'help',\n",
       " 'http',\n",
       " 'cant',\n",
       " 'bring',\n",
       " 'reservation',\n",
       " 'online',\n",
       " 'using',\n",
       " 'flight',\n",
       " 'booking',\n",
       " 'problem',\n",
       " 'code',\n",
       " 'random',\n",
       " 'q',\n",
       " 'whats',\n",
       " 'distribution',\n",
       " 'elevate',\n",
       " 'avatar',\n",
       " 'bet',\n",
       " 'kitty',\n",
       " 'disproportionate',\n",
       " 'share',\n",
       " 'http',\n",
       " 'lt',\n",
       " 'flying',\n",
       " 'va',\n",
       " 'life',\n",
       " 'happens',\n",
       " 'trying',\n",
       " 'change',\n",
       " 'trip',\n",
       " 'jperhi',\n",
       " 'home',\n",
       " 'page',\n",
       " 'let',\n",
       " 'site',\n",
       " 'back',\n",
       " 'rnp',\n",
       " 'yeah',\n",
       " 'know',\n",
       " 'hi',\n",
       " 'get',\n",
       " 'point',\n",
       " 'elevate',\n",
       " 'account',\n",
       " 'recent',\n",
       " 'flight',\n",
       " 'add',\n",
       " 'flight',\n",
       " 'point',\n",
       " 'account',\n",
       " 'like',\n",
       " 'tv',\n",
       " 'interesting',\n",
       " 'video',\n",
       " 'disappointed',\n",
       " 'cancelled',\n",
       " 'flightled',\n",
       " 'flight',\n",
       " 'flight',\n",
       " 'went',\n",
       " 'jfk',\n",
       " 'saturday',\n",
       " 'landed',\n",
       " 'lax',\n",
       " 'hour',\n",
       " 'late',\n",
       " 'flight',\n",
       " 'bag',\n",
       " 'check',\n",
       " 'business',\n",
       " 'travel',\n",
       " 'friendly',\n",
       " 'nomorevirgin',\n",
       " 'flight',\n",
       " 'redirected',\n",
       " 'website',\n",
       " 'btw',\n",
       " 'new',\n",
       " 'website',\n",
       " 'isnt',\n",
       " 'great',\n",
       " 'user',\n",
       " 'experience',\n",
       " 'time',\n",
       " 'another',\n",
       " 'redesign',\n",
       " 'cant',\n",
       " 'check',\n",
       " 'add',\n",
       " 'bag',\n",
       " 'website',\n",
       " 'isnt',\n",
       " 'working',\n",
       " 'ive',\n",
       " 'tried',\n",
       " 'desktop',\n",
       " 'mobile',\n",
       " 'http',\n",
       " 'let',\n",
       " 'scanned',\n",
       " 'passenger',\n",
       " 'leave',\n",
       " 'plane',\n",
       " 'told',\n",
       " 'someone',\n",
       " 'remove',\n",
       " 'bag',\n",
       " 'class',\n",
       " 'bin',\n",
       " 'uncomfortable',\n",
       " 'phone',\n",
       " 'number',\n",
       " 'cant',\n",
       " 'find',\n",
       " 'call',\n",
       " 'flight',\n",
       " 'reservation',\n",
       " 'anyone',\n",
       " 'anything',\n",
       " 'today',\n",
       " 'website',\n",
       " 'useless',\n",
       " 'one',\n",
       " 'answering',\n",
       " 'phone',\n",
       " 'trying',\n",
       " 'add',\n",
       " 'boy',\n",
       " 'prince',\n",
       " 'ressie',\n",
       " 'sf',\n",
       " 'thursday',\n",
       " 'lax',\n",
       " 'http',\n",
       " 'must',\n",
       " 'traveler',\n",
       " 'miss',\n",
       " 'flight',\n",
       " 'late',\n",
       " 'flight',\n",
       " 'check',\n",
       " 'bag',\n",
       " 'missed',\n",
       " 'morning',\n",
       " 'appointment',\n",
       " 'lost',\n",
       " 'business',\n",
       " 'check',\n",
       " 'new',\n",
       " 'music',\n",
       " 'http',\n",
       " 'hows',\n",
       " 'direct',\n",
       " 'flight',\n",
       " 'gt',\n",
       " 'sfo',\n",
       " 'unexpected',\n",
       " 'layover',\n",
       " 'vega',\n",
       " 'fuel',\n",
       " 'yet',\n",
       " 'peep',\n",
       " 'next',\n",
       " 'bought',\n",
       " 'vega',\n",
       " 'flight',\n",
       " 'sneaky',\n",
       " 'late',\n",
       " 'flight',\n",
       " 'bag',\n",
       " 'check',\n",
       " 'lost',\n",
       " 'business',\n",
       " 'missed',\n",
       " 'flight',\n",
       " 'apt',\n",
       " 'three',\n",
       " 'people',\n",
       " 'flight',\n",
       " 'exp',\n",
       " 'amazing',\n",
       " 'customer',\n",
       " 'service',\n",
       " 'raeann',\n",
       " 'sf',\n",
       " 'shes',\n",
       " 'best',\n",
       " 'customerservice',\n",
       " 'virginamerica',\n",
       " 'flying',\n",
       " 'called',\n",
       " 'service',\n",
       " 'line',\n",
       " 'hung',\n",
       " 'awesome',\n",
       " 'sarcasm',\n",
       " 'site',\n",
       " 'tripping',\n",
       " 'im',\n",
       " 'trying',\n",
       " 'check',\n",
       " 'im',\n",
       " 'getting',\n",
       " 'plain',\n",
       " 'text',\n",
       " 'version',\n",
       " 'reluctant',\n",
       " 'enter',\n",
       " 'card',\n",
       " 'info',\n",
       " 'scheduled',\n",
       " 'sfo',\n",
       " 'dal',\n",
       " 'flight',\n",
       " 'today',\n",
       " 'changed',\n",
       " 'due',\n",
       " 'weather',\n",
       " 'look',\n",
       " 'like',\n",
       " 'flight',\n",
       " 'still',\n",
       " 'getaway',\n",
       " 'deal',\n",
       " 'may',\n",
       " 'lot',\n",
       " 'cool',\n",
       " 'city',\n",
       " 'http',\n",
       " 'cheapflights',\n",
       " 'farecompare',\n",
       " 'getaway',\n",
       " 'deal',\n",
       " 'may',\n",
       " 'lot',\n",
       " 'cool',\n",
       " 'city',\n",
       " 'http',\n",
       " 'cheapflights',\n",
       " 'farecompare',\n",
       " 'getaway',\n",
       " 'deal',\n",
       " 'may',\n",
       " 'lot',\n",
       " 'cool',\n",
       " 'city',\n",
       " 'http',\n",
       " 'cheapflights',\n",
       " 'farecompare',\n",
       " 'getaway',\n",
       " 'deal',\n",
       " 'may',\n",
       " 'lot',\n",
       " 'cool',\n",
       " 'city',\n",
       " 'http',\n",
       " 'cheapflights',\n",
       " 'farecompare',\n",
       " 'great',\n",
       " 'week',\n",
       " 'come',\n",
       " 'back',\n",
       " 'phl',\n",
       " 'already',\n",
       " 'need',\n",
       " 'take',\n",
       " 'u',\n",
       " 'horrible',\n",
       " 'cold',\n",
       " 'pleasecomeback',\n",
       " 'http',\n",
       " 'concerned',\n",
       " 'fly',\n",
       " 'plane',\n",
       " 'need',\n",
       " 'delayed',\n",
       " 'due',\n",
       " 'tech',\n",
       " 'stop',\n",
       " 'best',\n",
       " 'airline',\n",
       " 'flown',\n",
       " 'change',\n",
       " 'reservation',\n",
       " 'helpful',\n",
       " 'representative',\n",
       " 'amp',\n",
       " 'comfortable',\n",
       " 'flying',\n",
       " 'experience',\n",
       " 'another',\n",
       " 'rep',\n",
       " 'kicked',\n",
       " 'butt',\n",
       " 'naelah',\n",
       " 'represents',\n",
       " 'team',\n",
       " 'beautifully',\n",
       " 'thank',\n",
       " 'beautiful',\n",
       " 'design',\n",
       " 'right',\n",
       " 'cool',\n",
       " 'still',\n",
       " 'book',\n",
       " 'ticket',\n",
       " 'secure',\n",
       " 'love',\n",
       " 'team',\n",
       " 'running',\n",
       " 'gate',\n",
       " 'la',\n",
       " 'tonight',\n",
       " 'waited',\n",
       " 'delayed',\n",
       " 'flight',\n",
       " 'kept',\n",
       " 'thing',\n",
       " 'entertaining',\n",
       " 'use',\n",
       " 'another',\n",
       " 'browser',\n",
       " 'amp',\n",
       " 'brand',\n",
       " 'reputation',\n",
       " 'built',\n",
       " 'tech',\n",
       " 'response',\n",
       " 'doesnt',\n",
       " 'compatible',\n",
       " 'website',\n",
       " 'flight',\n",
       " 'flight',\n",
       " 'booking',\n",
       " 'problem',\n",
       " ...]"
      ]
     },
     "execution_count": 17,
     "metadata": {},
     "output_type": "execute_result"
    }
   ],
   "source": [
    "\" \".join(df2[\"text\"]).split()"
   ]
  },
  {
   "cell_type": "code",
   "execution_count": 18,
   "metadata": {
    "ExecuteTime": {
     "end_time": "2022-03-14T21:31:58.031633Z",
     "start_time": "2022-03-14T21:31:58.017222Z"
    }
   },
   "outputs": [
    {
     "data": {
      "text/html": [
       "<div>\n",
       "<style scoped>\n",
       "    .dataframe tbody tr th:only-of-type {\n",
       "        vertical-align: middle;\n",
       "    }\n",
       "\n",
       "    .dataframe tbody tr th {\n",
       "        vertical-align: top;\n",
       "    }\n",
       "\n",
       "    .dataframe thead th {\n",
       "        text-align: right;\n",
       "    }\n",
       "</style>\n",
       "<table border=\"1\" class=\"dataframe\">\n",
       "  <thead>\n",
       "    <tr style=\"text-align: right;\">\n",
       "      <th></th>\n",
       "      <th>airline_sentiment</th>\n",
       "      <th>text</th>\n",
       "    </tr>\n",
       "  </thead>\n",
       "  <tbody>\n",
       "    <tr>\n",
       "      <th>0</th>\n",
       "      <td>neutral</td>\n",
       "      <td>said</td>\n",
       "    </tr>\n",
       "    <tr>\n",
       "      <th>1</th>\n",
       "      <td>positive</td>\n",
       "      <td>plus youve added commercial experience tacky</td>\n",
       "    </tr>\n",
       "    <tr>\n",
       "      <th>2</th>\n",
       "      <td>neutral</td>\n",
       "      <td>didnt today must mean need take another trip</td>\n",
       "    </tr>\n",
       "    <tr>\n",
       "      <th>3</th>\n",
       "      <td>negative</td>\n",
       "      <td>really aggressive blast obnoxious entertainmen...</td>\n",
       "    </tr>\n",
       "    <tr>\n",
       "      <th>4</th>\n",
       "      <td>negative</td>\n",
       "      <td>really big bad thing</td>\n",
       "    </tr>\n",
       "  </tbody>\n",
       "</table>\n",
       "</div>"
      ],
      "text/plain": [
       "  airline_sentiment                                               text\n",
       "0           neutral                                               said\n",
       "1          positive       plus youve added commercial experience tacky\n",
       "2           neutral       didnt today must mean need take another trip\n",
       "3          negative  really aggressive blast obnoxious entertainmen...\n",
       "4          negative                               really big bad thing"
      ]
     },
     "execution_count": 18,
     "metadata": {},
     "output_type": "execute_result"
    }
   ],
   "source": [
    "# Removing all unnecessary columns.\n",
    "df2 =df2[[\"airline_sentiment\", \"text\"]]\n",
    "df2.head()"
   ]
  },
  {
   "cell_type": "code",
   "execution_count": 19,
   "metadata": {
    "ExecuteTime": {
     "end_time": "2022-03-14T21:31:58.369682Z",
     "start_time": "2022-03-14T21:31:58.033109Z"
    }
   },
   "outputs": [
    {
     "data": {
      "text/plain": [
       "[('flight', 4544),\n",
       " ('get', 1374),\n",
       " ('http', 1210),\n",
       " ('hour', 1138),\n",
       " ('thanks', 1078),\n",
       " ('cancelled', 1056),\n",
       " ('u', 994),\n",
       " ('service', 989),\n",
       " ('time', 946),\n",
       " ('customer', 934),\n",
       " ('help', 869),\n",
       " ('bag', 766),\n",
       " ('im', 743),\n",
       " ('plane', 725),\n",
       " ('amp', 683),\n",
       " ('hold', 642),\n",
       " ('need', 633),\n",
       " ('thank', 602),\n",
       " ('still', 580),\n",
       " ('one', 580)]"
      ]
     },
     "execution_count": 19,
     "metadata": {},
     "output_type": "execute_result"
    }
   ],
   "source": [
    "# Counting most common words.\n",
    "corpus = \" \".join(df2[\"text\"])\n",
    "tokens_count = Counter(word_tokenize(corpus)).most_common(20)\n",
    "tokens_count"
   ]
  },
  {
   "cell_type": "code",
   "execution_count": 20,
   "metadata": {
    "ExecuteTime": {
     "end_time": "2022-03-14T21:31:58.600223Z",
     "start_time": "2022-03-14T21:31:58.370674Z"
    }
   },
   "outputs": [
    {
     "data": {
      "image/png": "[encoded data removed]",
      "text/plain": [
       "<Figure size 1152x432 with 1 Axes>"
      ]
     },
     "metadata": {},
     "output_type": "display_data"
    }
   ],
   "source": [
    "# Visaul of most common words.\n",
    "dic= dict(tokens_count)\n",
    "fig, ax = plt.subplots(figsize=(16,6))\n",
    "ax.bar(dic.keys(),dic.values())\n",
    "ax.set_title('Most Common Words',fontsize=18)\n",
    "plt.xlabel('Words',fontsize=14)\n",
    "plt.ylabel('Count',fontsize=14)\n",
    "ax = plt.gca()\n",
    "ax.tick_params(labelsize = 14)\n",
    "plt.xticks(rotation=45)\n",
    "plt.show()\n"
   ]
  },
  {
   "cell_type": "code",
   "execution_count": 21,
   "metadata": {
    "ExecuteTime": {
     "end_time": "2022-03-14T21:31:58.615717Z",
     "start_time": "2022-03-14T21:31:58.601217Z"
    }
   },
   "outputs": [],
   "source": [
    "# from sklearn import preprocessing\n",
    " \n",
    "# # label_encoder object knows how to understand word labels.\n",
    "# label_encoder = preprocessing.LabelEncoder()\n",
    " \n",
    "# # Encode labels in column 'species'.\n",
    "# df['airline_sentiment']= label_encoder.fit_transform(df['airline_sentiment'])\n",
    " \n",
    "# df['airline_sentiment'].value_counts()"
   ]
  },
  {
   "cell_type": "markdown",
   "metadata": {},
   "source": [
    "## Train Test Split"
   ]
  },
  {
   "cell_type": "code",
   "execution_count": 22,
   "metadata": {
    "ExecuteTime": {
     "end_time": "2022-03-14T21:31:58.630891Z",
     "start_time": "2022-03-14T21:31:58.616709Z"
    }
   },
   "outputs": [],
   "source": [
    "# Train test split.\n",
    "X =df2[\"text\"]\n",
    "y= df2[\"airline_sentiment\"]"
   ]
  },
  {
   "cell_type": "code",
   "execution_count": 23,
   "metadata": {
    "ExecuteTime": {
     "end_time": "2022-03-14T21:31:58.646268Z",
     "start_time": "2022-03-14T21:31:58.633868Z"
    }
   },
   "outputs": [
    {
     "data": {
      "text/plain": [
       "negative    9178\n",
       "neutral     3099\n",
       "positive    2363\n",
       "Name: airline_sentiment, dtype: int64"
      ]
     },
     "execution_count": 23,
     "metadata": {},
     "output_type": "execute_result"
    }
   ],
   "source": [
    "y.value_counts()"
   ]
  },
  {
   "cell_type": "code",
   "execution_count": 25,
   "metadata": {
    "ExecuteTime": {
     "end_time": "2022-03-14T21:33:48.738064Z",
     "start_time": "2022-03-14T21:33:48.610593Z"
    }
   },
   "outputs": [],
   "source": [
    "tfid = TfidfVectorizer()\n",
    "X_final =  tfid.fit_transform(X)"
   ]
  },
  {
   "cell_type": "code",
   "execution_count": 26,
   "metadata": {
    "ExecuteTime": {
     "end_time": "2022-03-14T21:33:49.860103Z",
     "start_time": "2022-03-14T21:33:49.541669Z"
    }
   },
   "outputs": [],
   "source": [
    "# Handling imbalanced using SMOTE\n",
    "smote = SMOTE()\n",
    "X_sm,y_sm = smote.fit_resample(X_final,y)"
   ]
  },
  {
   "cell_type": "code",
   "execution_count": 27,
   "metadata": {
    "ExecuteTime": {
     "end_time": "2022-03-14T21:33:50.505426Z",
     "start_time": "2022-03-14T21:33:50.492530Z"
    }
   },
   "outputs": [],
   "source": [
    "X_train, X_test, y_train, y_test = train_test_split(X_sm, y_sm, test_size=0.2,random_state=101)"
   ]
  },
  {
   "cell_type": "markdown",
   "metadata": {},
   "source": [
    "## Count Vectorizer"
   ]
  },
  {
   "cell_type": "code",
   "execution_count": 28,
   "metadata": {
    "ExecuteTime": {
     "end_time": "2022-03-14T21:33:52.354207Z",
     "start_time": "2022-03-14T21:33:52.221830Z"
    }
   },
   "outputs": [],
   "source": [
    "# Initializing Count Vectorizer.\n",
    "c_vec = CountVectorizer()\n",
    "X_final1= c_vec.fit_transform(X)"
   ]
  },
  {
   "cell_type": "code",
   "execution_count": 29,
   "metadata": {
    "ExecuteTime": {
     "end_time": "2022-03-14T21:33:52.845568Z",
     "start_time": "2022-03-14T21:33:52.740202Z"
    }
   },
   "outputs": [
    {
     "data": {
      "text/plain": [
       "array([[0, 0, 0, ..., 0, 0, 0],\n",
       "       [0, 0, 0, ..., 0, 0, 0],\n",
       "       [0, 0, 0, ..., 0, 0, 0],\n",
       "       ...,\n",
       "       [0, 0, 0, ..., 0, 0, 0],\n",
       "       [0, 0, 0, ..., 0, 0, 0],\n",
       "       [0, 0, 0, ..., 0, 0, 0]], dtype=int64)"
      ]
     },
     "execution_count": 29,
     "metadata": {},
     "output_type": "execute_result"
    }
   ],
   "source": [
    "# Looking train set into array.\n",
    "X_final1.toarray()"
   ]
  },
  {
   "cell_type": "code",
   "execution_count": 30,
   "metadata": {
    "ExecuteTime": {
     "end_time": "2022-03-14T21:33:53.260994Z",
     "start_time": "2022-03-14T21:33:53.091151Z"
    }
   },
   "outputs": [
    {
     "data": {
      "text/html": [
       "<div>\n",
       "<style scoped>\n",
       "    .dataframe tbody tr th:only-of-type {\n",
       "        vertical-align: middle;\n",
       "    }\n",
       "\n",
       "    .dataframe tbody tr th {\n",
       "        vertical-align: top;\n",
       "    }\n",
       "\n",
       "    .dataframe thead th {\n",
       "        text-align: right;\n",
       "    }\n",
       "</style>\n",
       "<table border=\"1\" class=\"dataframe\">\n",
       "  <thead>\n",
       "    <tr style=\"text-align: right;\">\n",
       "      <th></th>\n",
       "      <th>aa</th>\n",
       "      <th>aaaand</th>\n",
       "      <th>aaadvantage</th>\n",
       "      <th>aaalwayslate</th>\n",
       "      <th>aadavantage</th>\n",
       "      <th>aadelay</th>\n",
       "      <th>aadv</th>\n",
       "      <th>aadvantage</th>\n",
       "      <th>aafail</th>\n",
       "      <th>aal</th>\n",
       "      <th>aaron</th>\n",
       "      <th>aateam</th>\n",
       "      <th>ab</th>\n",
       "      <th>aback</th>\n",
       "      <th>abandon</th>\n",
       "      <th>abandoned</th>\n",
       "      <th>abandonment</th>\n",
       "      <th>abassinet</th>\n",
       "      <th>abbreve</th>\n",
       "      <th>abc</th>\n",
       "      <th>abcletjetbluestreamfeed</th>\n",
       "      <th>abcnews</th>\n",
       "      <th>abducted</th>\n",
       "      <th>abi</th>\n",
       "      <th>ability</th>\n",
       "      <th>...</th>\n",
       "      <th>ystrdy</th>\n",
       "      <th>yuck</th>\n",
       "      <th>yucki</th>\n",
       "      <th>yuma</th>\n",
       "      <th>yummy</th>\n",
       "      <th>yup</th>\n",
       "      <th>yvonne</th>\n",
       "      <th>yvr</th>\n",
       "      <th>yxe</th>\n",
       "      <th>yxu</th>\n",
       "      <th>yyc</th>\n",
       "      <th>yyj</th>\n",
       "      <th>yyz</th>\n",
       "      <th>zabsonre</th>\n",
       "      <th>zambia</th>\n",
       "      <th>zero</th>\n",
       "      <th>zfv</th>\n",
       "      <th>zip</th>\n",
       "      <th>zipper</th>\n",
       "      <th>zombie</th>\n",
       "      <th>zone</th>\n",
       "      <th>zoom</th>\n",
       "      <th>zrh</th>\n",
       "      <th>zukes</th>\n",
       "      <th>zurich</th>\n",
       "    </tr>\n",
       "  </thead>\n",
       "  <tbody>\n",
       "    <tr>\n",
       "      <th>0</th>\n",
       "      <td>0</td>\n",
       "      <td>0</td>\n",
       "      <td>0</td>\n",
       "      <td>0</td>\n",
       "      <td>0</td>\n",
       "      <td>0</td>\n",
       "      <td>0</td>\n",
       "      <td>0</td>\n",
       "      <td>0</td>\n",
       "      <td>0</td>\n",
       "      <td>0</td>\n",
       "      <td>0</td>\n",
       "      <td>0</td>\n",
       "      <td>0</td>\n",
       "      <td>0</td>\n",
       "      <td>0</td>\n",
       "      <td>0</td>\n",
       "      <td>0</td>\n",
       "      <td>0</td>\n",
       "      <td>0</td>\n",
       "      <td>0</td>\n",
       "      <td>0</td>\n",
       "      <td>0</td>\n",
       "      <td>0</td>\n",
       "      <td>0</td>\n",
       "      <td>...</td>\n",
       "      <td>0</td>\n",
       "      <td>0</td>\n",
       "      <td>0</td>\n",
       "      <td>0</td>\n",
       "      <td>0</td>\n",
       "      <td>0</td>\n",
       "      <td>0</td>\n",
       "      <td>0</td>\n",
       "      <td>0</td>\n",
       "      <td>0</td>\n",
       "      <td>0</td>\n",
       "      <td>0</td>\n",
       "      <td>0</td>\n",
       "      <td>0</td>\n",
       "      <td>0</td>\n",
       "      <td>0</td>\n",
       "      <td>0</td>\n",
       "      <td>0</td>\n",
       "      <td>0</td>\n",
       "      <td>0</td>\n",
       "      <td>0</td>\n",
       "      <td>0</td>\n",
       "      <td>0</td>\n",
       "      <td>0</td>\n",
       "      <td>0</td>\n",
       "    </tr>\n",
       "    <tr>\n",
       "      <th>1</th>\n",
       "      <td>0</td>\n",
       "      <td>0</td>\n",
       "      <td>0</td>\n",
       "      <td>0</td>\n",
       "      <td>0</td>\n",
       "      <td>0</td>\n",
       "      <td>0</td>\n",
       "      <td>0</td>\n",
       "      <td>0</td>\n",
       "      <td>0</td>\n",
       "      <td>0</td>\n",
       "      <td>0</td>\n",
       "      <td>0</td>\n",
       "      <td>0</td>\n",
       "      <td>0</td>\n",
       "      <td>0</td>\n",
       "      <td>0</td>\n",
       "      <td>0</td>\n",
       "      <td>0</td>\n",
       "      <td>0</td>\n",
       "      <td>0</td>\n",
       "      <td>0</td>\n",
       "      <td>0</td>\n",
       "      <td>0</td>\n",
       "      <td>0</td>\n",
       "      <td>...</td>\n",
       "      <td>0</td>\n",
       "      <td>0</td>\n",
       "      <td>0</td>\n",
       "      <td>0</td>\n",
       "      <td>0</td>\n",
       "      <td>0</td>\n",
       "      <td>0</td>\n",
       "      <td>0</td>\n",
       "      <td>0</td>\n",
       "      <td>0</td>\n",
       "      <td>0</td>\n",
       "      <td>0</td>\n",
       "      <td>0</td>\n",
       "      <td>0</td>\n",
       "      <td>0</td>\n",
       "      <td>0</td>\n",
       "      <td>0</td>\n",
       "      <td>0</td>\n",
       "      <td>0</td>\n",
       "      <td>0</td>\n",
       "      <td>0</td>\n",
       "      <td>0</td>\n",
       "      <td>0</td>\n",
       "      <td>0</td>\n",
       "      <td>0</td>\n",
       "    </tr>\n",
       "    <tr>\n",
       "      <th>2</th>\n",
       "      <td>0</td>\n",
       "      <td>0</td>\n",
       "      <td>0</td>\n",
       "      <td>0</td>\n",
       "      <td>0</td>\n",
       "      <td>0</td>\n",
       "      <td>0</td>\n",
       "      <td>0</td>\n",
       "      <td>0</td>\n",
       "      <td>0</td>\n",
       "      <td>0</td>\n",
       "      <td>0</td>\n",
       "      <td>0</td>\n",
       "      <td>0</td>\n",
       "      <td>0</td>\n",
       "      <td>0</td>\n",
       "      <td>0</td>\n",
       "      <td>0</td>\n",
       "      <td>0</td>\n",
       "      <td>0</td>\n",
       "      <td>0</td>\n",
       "      <td>0</td>\n",
       "      <td>0</td>\n",
       "      <td>0</td>\n",
       "      <td>0</td>\n",
       "      <td>...</td>\n",
       "      <td>0</td>\n",
       "      <td>0</td>\n",
       "      <td>0</td>\n",
       "      <td>0</td>\n",
       "      <td>0</td>\n",
       "      <td>0</td>\n",
       "      <td>0</td>\n",
       "      <td>0</td>\n",
       "      <td>0</td>\n",
       "      <td>0</td>\n",
       "      <td>0</td>\n",
       "      <td>0</td>\n",
       "      <td>0</td>\n",
       "      <td>0</td>\n",
       "      <td>0</td>\n",
       "      <td>0</td>\n",
       "      <td>0</td>\n",
       "      <td>0</td>\n",
       "      <td>0</td>\n",
       "      <td>0</td>\n",
       "      <td>0</td>\n",
       "      <td>0</td>\n",
       "      <td>0</td>\n",
       "      <td>0</td>\n",
       "      <td>0</td>\n",
       "    </tr>\n",
       "    <tr>\n",
       "      <th>3</th>\n",
       "      <td>0</td>\n",
       "      <td>0</td>\n",
       "      <td>0</td>\n",
       "      <td>0</td>\n",
       "      <td>0</td>\n",
       "      <td>0</td>\n",
       "      <td>0</td>\n",
       "      <td>0</td>\n",
       "      <td>0</td>\n",
       "      <td>0</td>\n",
       "      <td>0</td>\n",
       "      <td>0</td>\n",
       "      <td>0</td>\n",
       "      <td>0</td>\n",
       "      <td>0</td>\n",
       "      <td>0</td>\n",
       "      <td>0</td>\n",
       "      <td>0</td>\n",
       "      <td>0</td>\n",
       "      <td>0</td>\n",
       "      <td>0</td>\n",
       "      <td>0</td>\n",
       "      <td>0</td>\n",
       "      <td>0</td>\n",
       "      <td>0</td>\n",
       "      <td>...</td>\n",
       "      <td>0</td>\n",
       "      <td>0</td>\n",
       "      <td>0</td>\n",
       "      <td>0</td>\n",
       "      <td>0</td>\n",
       "      <td>0</td>\n",
       "      <td>0</td>\n",
       "      <td>0</td>\n",
       "      <td>0</td>\n",
       "      <td>0</td>\n",
       "      <td>0</td>\n",
       "      <td>0</td>\n",
       "      <td>0</td>\n",
       "      <td>0</td>\n",
       "      <td>0</td>\n",
       "      <td>0</td>\n",
       "      <td>0</td>\n",
       "      <td>0</td>\n",
       "      <td>0</td>\n",
       "      <td>0</td>\n",
       "      <td>0</td>\n",
       "      <td>0</td>\n",
       "      <td>0</td>\n",
       "      <td>0</td>\n",
       "      <td>0</td>\n",
       "    </tr>\n",
       "    <tr>\n",
       "      <th>4</th>\n",
       "      <td>0</td>\n",
       "      <td>0</td>\n",
       "      <td>0</td>\n",
       "      <td>0</td>\n",
       "      <td>0</td>\n",
       "      <td>0</td>\n",
       "      <td>0</td>\n",
       "      <td>0</td>\n",
       "      <td>0</td>\n",
       "      <td>0</td>\n",
       "      <td>0</td>\n",
       "      <td>0</td>\n",
       "      <td>0</td>\n",
       "      <td>0</td>\n",
       "      <td>0</td>\n",
       "      <td>0</td>\n",
       "      <td>0</td>\n",
       "      <td>0</td>\n",
       "      <td>0</td>\n",
       "      <td>0</td>\n",
       "      <td>0</td>\n",
       "      <td>0</td>\n",
       "      <td>0</td>\n",
       "      <td>0</td>\n",
       "      <td>0</td>\n",
       "      <td>...</td>\n",
       "      <td>0</td>\n",
       "      <td>0</td>\n",
       "      <td>0</td>\n",
       "      <td>0</td>\n",
       "      <td>0</td>\n",
       "      <td>0</td>\n",
       "      <td>0</td>\n",
       "      <td>0</td>\n",
       "      <td>0</td>\n",
       "      <td>0</td>\n",
       "      <td>0</td>\n",
       "      <td>0</td>\n",
       "      <td>0</td>\n",
       "      <td>0</td>\n",
       "      <td>0</td>\n",
       "      <td>0</td>\n",
       "      <td>0</td>\n",
       "      <td>0</td>\n",
       "      <td>0</td>\n",
       "      <td>0</td>\n",
       "      <td>0</td>\n",
       "      <td>0</td>\n",
       "      <td>0</td>\n",
       "      <td>0</td>\n",
       "      <td>0</td>\n",
       "    </tr>\n",
       "    <tr>\n",
       "      <th>...</th>\n",
       "      <td>...</td>\n",
       "      <td>...</td>\n",
       "      <td>...</td>\n",
       "      <td>...</td>\n",
       "      <td>...</td>\n",
       "      <td>...</td>\n",
       "      <td>...</td>\n",
       "      <td>...</td>\n",
       "      <td>...</td>\n",
       "      <td>...</td>\n",
       "      <td>...</td>\n",
       "      <td>...</td>\n",
       "      <td>...</td>\n",
       "      <td>...</td>\n",
       "      <td>...</td>\n",
       "      <td>...</td>\n",
       "      <td>...</td>\n",
       "      <td>...</td>\n",
       "      <td>...</td>\n",
       "      <td>...</td>\n",
       "      <td>...</td>\n",
       "      <td>...</td>\n",
       "      <td>...</td>\n",
       "      <td>...</td>\n",
       "      <td>...</td>\n",
       "      <td>...</td>\n",
       "      <td>...</td>\n",
       "      <td>...</td>\n",
       "      <td>...</td>\n",
       "      <td>...</td>\n",
       "      <td>...</td>\n",
       "      <td>...</td>\n",
       "      <td>...</td>\n",
       "      <td>...</td>\n",
       "      <td>...</td>\n",
       "      <td>...</td>\n",
       "      <td>...</td>\n",
       "      <td>...</td>\n",
       "      <td>...</td>\n",
       "      <td>...</td>\n",
       "      <td>...</td>\n",
       "      <td>...</td>\n",
       "      <td>...</td>\n",
       "      <td>...</td>\n",
       "      <td>...</td>\n",
       "      <td>...</td>\n",
       "      <td>...</td>\n",
       "      <td>...</td>\n",
       "      <td>...</td>\n",
       "      <td>...</td>\n",
       "      <td>...</td>\n",
       "    </tr>\n",
       "    <tr>\n",
       "      <th>14635</th>\n",
       "      <td>0</td>\n",
       "      <td>0</td>\n",
       "      <td>0</td>\n",
       "      <td>0</td>\n",
       "      <td>0</td>\n",
       "      <td>0</td>\n",
       "      <td>0</td>\n",
       "      <td>0</td>\n",
       "      <td>0</td>\n",
       "      <td>0</td>\n",
       "      <td>0</td>\n",
       "      <td>0</td>\n",
       "      <td>0</td>\n",
       "      <td>0</td>\n",
       "      <td>0</td>\n",
       "      <td>0</td>\n",
       "      <td>0</td>\n",
       "      <td>0</td>\n",
       "      <td>0</td>\n",
       "      <td>0</td>\n",
       "      <td>0</td>\n",
       "      <td>0</td>\n",
       "      <td>0</td>\n",
       "      <td>0</td>\n",
       "      <td>0</td>\n",
       "      <td>...</td>\n",
       "      <td>0</td>\n",
       "      <td>0</td>\n",
       "      <td>0</td>\n",
       "      <td>0</td>\n",
       "      <td>0</td>\n",
       "      <td>0</td>\n",
       "      <td>0</td>\n",
       "      <td>0</td>\n",
       "      <td>0</td>\n",
       "      <td>0</td>\n",
       "      <td>0</td>\n",
       "      <td>0</td>\n",
       "      <td>0</td>\n",
       "      <td>0</td>\n",
       "      <td>0</td>\n",
       "      <td>0</td>\n",
       "      <td>0</td>\n",
       "      <td>0</td>\n",
       "      <td>0</td>\n",
       "      <td>0</td>\n",
       "      <td>0</td>\n",
       "      <td>0</td>\n",
       "      <td>0</td>\n",
       "      <td>0</td>\n",
       "      <td>0</td>\n",
       "    </tr>\n",
       "    <tr>\n",
       "      <th>14636</th>\n",
       "      <td>0</td>\n",
       "      <td>0</td>\n",
       "      <td>0</td>\n",
       "      <td>0</td>\n",
       "      <td>0</td>\n",
       "      <td>0</td>\n",
       "      <td>0</td>\n",
       "      <td>0</td>\n",
       "      <td>0</td>\n",
       "      <td>0</td>\n",
       "      <td>0</td>\n",
       "      <td>0</td>\n",
       "      <td>0</td>\n",
       "      <td>0</td>\n",
       "      <td>0</td>\n",
       "      <td>0</td>\n",
       "      <td>0</td>\n",
       "      <td>0</td>\n",
       "      <td>0</td>\n",
       "      <td>0</td>\n",
       "      <td>0</td>\n",
       "      <td>0</td>\n",
       "      <td>0</td>\n",
       "      <td>0</td>\n",
       "      <td>0</td>\n",
       "      <td>...</td>\n",
       "      <td>0</td>\n",
       "      <td>0</td>\n",
       "      <td>0</td>\n",
       "      <td>0</td>\n",
       "      <td>0</td>\n",
       "      <td>0</td>\n",
       "      <td>0</td>\n",
       "      <td>0</td>\n",
       "      <td>0</td>\n",
       "      <td>0</td>\n",
       "      <td>0</td>\n",
       "      <td>0</td>\n",
       "      <td>0</td>\n",
       "      <td>0</td>\n",
       "      <td>0</td>\n",
       "      <td>0</td>\n",
       "      <td>0</td>\n",
       "      <td>0</td>\n",
       "      <td>0</td>\n",
       "      <td>0</td>\n",
       "      <td>0</td>\n",
       "      <td>0</td>\n",
       "      <td>0</td>\n",
       "      <td>0</td>\n",
       "      <td>0</td>\n",
       "    </tr>\n",
       "    <tr>\n",
       "      <th>14637</th>\n",
       "      <td>0</td>\n",
       "      <td>0</td>\n",
       "      <td>0</td>\n",
       "      <td>0</td>\n",
       "      <td>0</td>\n",
       "      <td>0</td>\n",
       "      <td>0</td>\n",
       "      <td>0</td>\n",
       "      <td>0</td>\n",
       "      <td>0</td>\n",
       "      <td>0</td>\n",
       "      <td>0</td>\n",
       "      <td>0</td>\n",
       "      <td>0</td>\n",
       "      <td>0</td>\n",
       "      <td>0</td>\n",
       "      <td>0</td>\n",
       "      <td>0</td>\n",
       "      <td>0</td>\n",
       "      <td>0</td>\n",
       "      <td>0</td>\n",
       "      <td>0</td>\n",
       "      <td>0</td>\n",
       "      <td>0</td>\n",
       "      <td>0</td>\n",
       "      <td>...</td>\n",
       "      <td>0</td>\n",
       "      <td>0</td>\n",
       "      <td>0</td>\n",
       "      <td>0</td>\n",
       "      <td>0</td>\n",
       "      <td>0</td>\n",
       "      <td>0</td>\n",
       "      <td>0</td>\n",
       "      <td>0</td>\n",
       "      <td>0</td>\n",
       "      <td>0</td>\n",
       "      <td>0</td>\n",
       "      <td>0</td>\n",
       "      <td>0</td>\n",
       "      <td>0</td>\n",
       "      <td>0</td>\n",
       "      <td>0</td>\n",
       "      <td>0</td>\n",
       "      <td>0</td>\n",
       "      <td>0</td>\n",
       "      <td>0</td>\n",
       "      <td>0</td>\n",
       "      <td>0</td>\n",
       "      <td>0</td>\n",
       "      <td>0</td>\n",
       "    </tr>\n",
       "    <tr>\n",
       "      <th>14638</th>\n",
       "      <td>0</td>\n",
       "      <td>0</td>\n",
       "      <td>0</td>\n",
       "      <td>0</td>\n",
       "      <td>0</td>\n",
       "      <td>0</td>\n",
       "      <td>0</td>\n",
       "      <td>0</td>\n",
       "      <td>0</td>\n",
       "      <td>0</td>\n",
       "      <td>0</td>\n",
       "      <td>0</td>\n",
       "      <td>0</td>\n",
       "      <td>0</td>\n",
       "      <td>0</td>\n",
       "      <td>0</td>\n",
       "      <td>0</td>\n",
       "      <td>0</td>\n",
       "      <td>0</td>\n",
       "      <td>0</td>\n",
       "      <td>0</td>\n",
       "      <td>0</td>\n",
       "      <td>0</td>\n",
       "      <td>0</td>\n",
       "      <td>0</td>\n",
       "      <td>...</td>\n",
       "      <td>0</td>\n",
       "      <td>0</td>\n",
       "      <td>0</td>\n",
       "      <td>0</td>\n",
       "      <td>0</td>\n",
       "      <td>0</td>\n",
       "      <td>0</td>\n",
       "      <td>0</td>\n",
       "      <td>0</td>\n",
       "      <td>0</td>\n",
       "      <td>0</td>\n",
       "      <td>0</td>\n",
       "      <td>0</td>\n",
       "      <td>0</td>\n",
       "      <td>0</td>\n",
       "      <td>0</td>\n",
       "      <td>0</td>\n",
       "      <td>0</td>\n",
       "      <td>0</td>\n",
       "      <td>0</td>\n",
       "      <td>0</td>\n",
       "      <td>0</td>\n",
       "      <td>0</td>\n",
       "      <td>0</td>\n",
       "      <td>0</td>\n",
       "    </tr>\n",
       "    <tr>\n",
       "      <th>14639</th>\n",
       "      <td>0</td>\n",
       "      <td>0</td>\n",
       "      <td>0</td>\n",
       "      <td>0</td>\n",
       "      <td>0</td>\n",
       "      <td>0</td>\n",
       "      <td>0</td>\n",
       "      <td>0</td>\n",
       "      <td>0</td>\n",
       "      <td>0</td>\n",
       "      <td>0</td>\n",
       "      <td>0</td>\n",
       "      <td>0</td>\n",
       "      <td>0</td>\n",
       "      <td>0</td>\n",
       "      <td>0</td>\n",
       "      <td>0</td>\n",
       "      <td>0</td>\n",
       "      <td>0</td>\n",
       "      <td>0</td>\n",
       "      <td>0</td>\n",
       "      <td>0</td>\n",
       "      <td>0</td>\n",
       "      <td>0</td>\n",
       "      <td>0</td>\n",
       "      <td>...</td>\n",
       "      <td>0</td>\n",
       "      <td>0</td>\n",
       "      <td>0</td>\n",
       "      <td>0</td>\n",
       "      <td>0</td>\n",
       "      <td>0</td>\n",
       "      <td>0</td>\n",
       "      <td>0</td>\n",
       "      <td>0</td>\n",
       "      <td>0</td>\n",
       "      <td>0</td>\n",
       "      <td>0</td>\n",
       "      <td>0</td>\n",
       "      <td>0</td>\n",
       "      <td>0</td>\n",
       "      <td>0</td>\n",
       "      <td>0</td>\n",
       "      <td>0</td>\n",
       "      <td>0</td>\n",
       "      <td>0</td>\n",
       "      <td>0</td>\n",
       "      <td>0</td>\n",
       "      <td>0</td>\n",
       "      <td>0</td>\n",
       "      <td>0</td>\n",
       "    </tr>\n",
       "  </tbody>\n",
       "</table>\n",
       "<p>14640 rows × 9861 columns</p>\n",
       "</div>"
      ],
      "text/plain": [
       "       aa  aaaand  aaadvantage  aaalwayslate  aadavantage  aadelay  aadv  \\\n",
       "0       0       0            0             0            0        0     0   \n",
       "1       0       0            0             0            0        0     0   \n",
       "2       0       0            0             0            0        0     0   \n",
       "3       0       0            0             0            0        0     0   \n",
       "4       0       0            0             0            0        0     0   \n",
       "...    ..     ...          ...           ...          ...      ...   ...   \n",
       "14635   0       0            0             0            0        0     0   \n",
       "14636   0       0            0             0            0        0     0   \n",
       "14637   0       0            0             0            0        0     0   \n",
       "14638   0       0            0             0            0        0     0   \n",
       "14639   0       0            0             0            0        0     0   \n",
       "\n",
       "       aadvantage  aafail  aal  aaron  aateam  ab  aback  abandon  abandoned  \\\n",
       "0               0       0    0      0       0   0      0        0          0   \n",
       "1               0       0    0      0       0   0      0        0          0   \n",
       "2               0       0    0      0       0   0      0        0          0   \n",
       "3               0       0    0      0       0   0      0        0          0   \n",
       "4               0       0    0      0       0   0      0        0          0   \n",
       "...           ...     ...  ...    ...     ...  ..    ...      ...        ...   \n",
       "14635           0       0    0      0       0   0      0        0          0   \n",
       "14636           0       0    0      0       0   0      0        0          0   \n",
       "14637           0       0    0      0       0   0      0        0          0   \n",
       "14638           0       0    0      0       0   0      0        0          0   \n",
       "14639           0       0    0      0       0   0      0        0          0   \n",
       "\n",
       "       abandonment  abassinet  abbreve  abc  abcletjetbluestreamfeed  abcnews  \\\n",
       "0                0          0        0    0                        0        0   \n",
       "1                0          0        0    0                        0        0   \n",
       "2                0          0        0    0                        0        0   \n",
       "3                0          0        0    0                        0        0   \n",
       "4                0          0        0    0                        0        0   \n",
       "...            ...        ...      ...  ...                      ...      ...   \n",
       "14635            0          0        0    0                        0        0   \n",
       "14636            0          0        0    0                        0        0   \n",
       "14637            0          0        0    0                        0        0   \n",
       "14638            0          0        0    0                        0        0   \n",
       "14639            0          0        0    0                        0        0   \n",
       "\n",
       "       abducted  abi  ability  ...  ystrdy  yuck  yucki  yuma  yummy  yup  \\\n",
       "0             0    0        0  ...       0     0      0     0      0    0   \n",
       "1             0    0        0  ...       0     0      0     0      0    0   \n",
       "2             0    0        0  ...       0     0      0     0      0    0   \n",
       "3             0    0        0  ...       0     0      0     0      0    0   \n",
       "4             0    0        0  ...       0     0      0     0      0    0   \n",
       "...         ...  ...      ...  ...     ...   ...    ...   ...    ...  ...   \n",
       "14635         0    0        0  ...       0     0      0     0      0    0   \n",
       "14636         0    0        0  ...       0     0      0     0      0    0   \n",
       "14637         0    0        0  ...       0     0      0     0      0    0   \n",
       "14638         0    0        0  ...       0     0      0     0      0    0   \n",
       "14639         0    0        0  ...       0     0      0     0      0    0   \n",
       "\n",
       "       yvonne  yvr  yxe  yxu  yyc  yyj  yyz  zabsonre  zambia  zero  zfv  zip  \\\n",
       "0           0    0    0    0    0    0    0         0       0     0    0    0   \n",
       "1           0    0    0    0    0    0    0         0       0     0    0    0   \n",
       "2           0    0    0    0    0    0    0         0       0     0    0    0   \n",
       "3           0    0    0    0    0    0    0         0       0     0    0    0   \n",
       "4           0    0    0    0    0    0    0         0       0     0    0    0   \n",
       "...       ...  ...  ...  ...  ...  ...  ...       ...     ...   ...  ...  ...   \n",
       "14635       0    0    0    0    0    0    0         0       0     0    0    0   \n",
       "14636       0    0    0    0    0    0    0         0       0     0    0    0   \n",
       "14637       0    0    0    0    0    0    0         0       0     0    0    0   \n",
       "14638       0    0    0    0    0    0    0         0       0     0    0    0   \n",
       "14639       0    0    0    0    0    0    0         0       0     0    0    0   \n",
       "\n",
       "       zipper  zombie  zone  zoom  zrh  zukes  zurich  \n",
       "0           0       0     0     0    0      0       0  \n",
       "1           0       0     0     0    0      0       0  \n",
       "2           0       0     0     0    0      0       0  \n",
       "3           0       0     0     0    0      0       0  \n",
       "4           0       0     0     0    0      0       0  \n",
       "...       ...     ...   ...   ...  ...    ...     ...  \n",
       "14635       0       0     0     0    0      0       0  \n",
       "14636       0       0     0     0    0      0       0  \n",
       "14637       0       0     0     0    0      0       0  \n",
       "14638       0       0     0     0    0      0       0  \n",
       "14639       0       0     0     0    0      0       0  \n",
       "\n",
       "[14640 rows x 9861 columns]"
      ]
     },
     "execution_count": 30,
     "metadata": {},
     "output_type": "execute_result"
    }
   ],
   "source": [
    "# Look dataframe after process.\n",
    "pd.DataFrame(X_final1.toarray(), columns = c_vec.get_feature_names())"
   ]
  },
  {
   "cell_type": "code",
   "execution_count": 31,
   "metadata": {
    "ExecuteTime": {
     "end_time": "2022-03-14T21:33:56.043245Z",
     "start_time": "2022-03-14T21:33:56.025388Z"
    }
   },
   "outputs": [],
   "source": [
    "#Creating function to evaluate our models.\n",
    "def evaluation(model, X_train, X_test):\n",
    "    \n",
    "    \"\"\" This function created for visualization and resul to see train and test both sets results.\"\"\"\n",
    "    \n",
    "    y_pred = model.predict(X_test)\n",
    "    y_pred_train = model.predict(X_train)\n",
    "    \n",
    "    print(\"==== Train Set ====\")\n",
    "    \n",
    "    print(classification_report(y_train,y_pred_train))\n",
    "    \n",
    "    print(\"==== Test Set ====\")\n",
    "    \n",
    "    print(classification_report(y_test,y_pred))\n",
    "    plot_confusion_matrix(model,X_test, y_test)\n",
    "    plt.grid(None)\n",
    "    "
   ]
  },
  {
   "cell_type": "markdown",
   "metadata": {},
   "source": [
    "### Logistic Regression"
   ]
  },
  {
   "cell_type": "code",
   "execution_count": 32,
   "metadata": {
    "ExecuteTime": {
     "end_time": "2022-03-14T21:33:56.550153Z",
     "start_time": "2022-03-14T21:33:56.044732Z"
    }
   },
   "outputs": [
    {
     "data": {
      "text/plain": [
       "LogisticRegression(C=0.02, max_iter=1000)"
      ]
     },
     "execution_count": 32,
     "metadata": {},
     "output_type": "execute_result"
    }
   ],
   "source": [
    "# Initiliazing first model.\n",
    "log = LogisticRegression(C = 0.02, max_iter=1000)\n",
    "log.fit(X_train,y_train)    "
   ]
  },
  {
   "cell_type": "code",
   "execution_count": 33,
   "metadata": {
    "ExecuteTime": {
     "end_time": "2022-03-14T21:33:57.272665Z",
     "start_time": "2022-03-14T21:33:56.552633Z"
    },
    "scrolled": false
   },
   "outputs": [
    {
     "name": "stdout",
     "output_type": "stream",
     "text": [
      "LOG MODEL\n",
      "==== Train Set ====\n",
      "              precision    recall  f1-score   support\n",
      "\n",
      "    negative       0.78      0.79      0.78      7353\n",
      "     neutral       0.62      0.80      0.70      7343\n",
      "    positive       0.85      0.60      0.71      7331\n",
      "\n",
      "    accuracy                           0.73     22027\n",
      "   macro avg       0.75      0.73      0.73     22027\n",
      "weighted avg       0.75      0.73      0.73     22027\n",
      "\n",
      "==== Test Set ====\n",
      "              precision    recall  f1-score   support\n",
      "\n",
      "    negative       0.77      0.78      0.77      1825\n",
      "     neutral       0.61      0.78      0.69      1835\n",
      "    positive       0.83      0.59      0.69      1847\n",
      "\n",
      "    accuracy                           0.72      5507\n",
      "   macro avg       0.74      0.72      0.72      5507\n",
      "weighted avg       0.74      0.72      0.72      5507\n",
      "\n"
     ]
    },
    {
     "data": {
      "image/png": "[encoded data removed]",
      "text/plain": [
       "<Figure size 864x432 with 2 Axes>"
      ]
     },
     "metadata": {},
     "output_type": "display_data"
    }
   ],
   "source": [
    "print(\"LOG MODEL\")\n",
    "evaluation(log, X_train, X_test)"
   ]
  },
  {
   "cell_type": "markdown",
   "metadata": {},
   "source": [
    "### Naive Bayes"
   ]
  },
  {
   "cell_type": "code",
   "execution_count": 34,
   "metadata": {
    "ExecuteTime": {
     "end_time": "2022-03-14T21:33:57.334187Z",
     "start_time": "2022-03-14T21:33:57.274125Z"
    }
   },
   "outputs": [
    {
     "data": {
      "text/plain": [
       "MultinomialNB()"
      ]
     },
     "execution_count": 34,
     "metadata": {},
     "output_type": "execute_result"
    }
   ],
   "source": [
    "#Initiliazing second model.\n",
    "nb = MultinomialNB()\n",
    "nb.fit(X_train,y_train)"
   ]
  },
  {
   "cell_type": "code",
   "execution_count": 35,
   "metadata": {
    "ExecuteTime": {
     "end_time": "2022-03-14T21:33:57.872345Z",
     "start_time": "2022-03-14T21:33:57.335673Z"
    }
   },
   "outputs": [
    {
     "name": "stdout",
     "output_type": "stream",
     "text": [
      "NB MODEL\n",
      "==== Train Set ====\n",
      "              precision    recall  f1-score   support\n",
      "\n",
      "    negative       0.78      0.92      0.84      7353\n",
      "     neutral       0.88      0.75      0.81      7343\n",
      "    positive       0.90      0.89      0.89      7331\n",
      "\n",
      "    accuracy                           0.85     22027\n",
      "   macro avg       0.85      0.85      0.85     22027\n",
      "weighted avg       0.85      0.85      0.85     22027\n",
      "\n",
      "==== Test Set ====\n",
      "              precision    recall  f1-score   support\n",
      "\n",
      "    negative       0.74      0.86      0.79      1825\n",
      "     neutral       0.81      0.69      0.74      1835\n",
      "    positive       0.87      0.86      0.86      1847\n",
      "\n",
      "    accuracy                           0.80      5507\n",
      "   macro avg       0.81      0.80      0.80      5507\n",
      "weighted avg       0.81      0.80      0.80      5507\n",
      "\n"
     ]
    },
    {
     "data": {
      "image/png": "[encoded data removed]",
      "text/plain": [
       "<Figure size 864x432 with 2 Axes>"
      ]
     },
     "metadata": {},
     "output_type": "display_data"
    }
   ],
   "source": [
    "print(\"NB MODEL\")\n",
    "evaluation(nb, X_train, X_test)"
   ]
  },
  {
   "cell_type": "markdown",
   "metadata": {},
   "source": [
    "### Ada Boost"
   ]
  },
  {
   "cell_type": "code",
   "execution_count": 36,
   "metadata": {
    "ExecuteTime": {
     "end_time": "2022-03-14T21:34:59.575550Z",
     "start_time": "2022-03-14T21:33:57.872842Z"
    }
   },
   "outputs": [
    {
     "data": {
      "text/plain": [
       "AdaBoostClassifier(n_estimators=500, random_state=42)"
      ]
     },
     "execution_count": 36,
     "metadata": {},
     "output_type": "execute_result"
    }
   ],
   "source": [
    "#Initiliazing third model.\n",
    "ada = AdaBoostClassifier(n_estimators= 500, random_state = 42)\n",
    "ada.fit(X_train, y_train)"
   ]
  },
  {
   "cell_type": "code",
   "execution_count": 37,
   "metadata": {
    "ExecuteTime": {
     "end_time": "2022-03-14T21:35:02.174065Z",
     "start_time": "2022-03-14T21:34:59.576514Z"
    }
   },
   "outputs": [
    {
     "name": "stdout",
     "output_type": "stream",
     "text": [
      "Ada MODEL\n",
      "==== Train Set ====\n",
      "              precision    recall  f1-score   support\n",
      "\n",
      "    negative       0.85      0.81      0.83      7353\n",
      "     neutral       0.74      0.80      0.77      7343\n",
      "    positive       0.86      0.84      0.85      7331\n",
      "\n",
      "    accuracy                           0.81     22027\n",
      "   macro avg       0.82      0.81      0.81     22027\n",
      "weighted avg       0.82      0.81      0.81     22027\n",
      "\n",
      "==== Test Set ====\n",
      "              precision    recall  f1-score   support\n",
      "\n",
      "    negative       0.81      0.77      0.79      1825\n",
      "     neutral       0.70      0.76      0.73      1835\n",
      "    positive       0.83      0.80      0.82      1847\n",
      "\n",
      "    accuracy                           0.78      5507\n",
      "   macro avg       0.78      0.78      0.78      5507\n",
      "weighted avg       0.78      0.78      0.78      5507\n",
      "\n"
     ]
    },
    {
     "data": {
      "image/png": "[encoded data removed]",
      "text/plain": [
       "<Figure size 864x432 with 2 Axes>"
      ]
     },
     "metadata": {},
     "output_type": "display_data"
    }
   ],
   "source": [
    "print(\"Ada MODEL\")\n",
    "evaluation(ada, X_train, X_test)\n"
   ]
  },
  {
   "cell_type": "markdown",
   "metadata": {},
   "source": [
    "## TF-IDF"
   ]
  },
  {
   "cell_type": "code",
   "execution_count": 38,
   "metadata": {
    "ExecuteTime": {
     "end_time": "2022-03-14T21:35:02.266321Z",
     "start_time": "2022-03-14T21:35:02.176050Z"
    }
   },
   "outputs": [
    {
     "data": {
      "text/plain": [
       "array([[0., 0., 0., ..., 0., 0., 0.],\n",
       "       [0., 0., 0., ..., 0., 0., 0.],\n",
       "       [0., 0., 0., ..., 0., 0., 0.],\n",
       "       ...,\n",
       "       [0., 0., 0., ..., 0., 0., 0.],\n",
       "       [0., 0., 0., ..., 0., 0., 0.],\n",
       "       [0., 0., 0., ..., 0., 0., 0.]])"
      ]
     },
     "execution_count": 38,
     "metadata": {},
     "output_type": "execute_result"
    }
   ],
   "source": [
    "# Looking train set into array.\n",
    "X_final.toarray()"
   ]
  },
  {
   "cell_type": "code",
   "execution_count": 39,
   "metadata": {
    "ExecuteTime": {
     "end_time": "2022-03-14T21:35:02.420082Z",
     "start_time": "2022-03-14T21:35:02.267809Z"
    }
   },
   "outputs": [
    {
     "data": {
      "text/html": [
       "<div>\n",
       "<style scoped>\n",
       "    .dataframe tbody tr th:only-of-type {\n",
       "        vertical-align: middle;\n",
       "    }\n",
       "\n",
       "    .dataframe tbody tr th {\n",
       "        vertical-align: top;\n",
       "    }\n",
       "\n",
       "    .dataframe thead th {\n",
       "        text-align: right;\n",
       "    }\n",
       "</style>\n",
       "<table border=\"1\" class=\"dataframe\">\n",
       "  <thead>\n",
       "    <tr style=\"text-align: right;\">\n",
       "      <th></th>\n",
       "      <th>aa</th>\n",
       "      <th>aaaand</th>\n",
       "      <th>aaadvantage</th>\n",
       "      <th>aaalwayslate</th>\n",
       "      <th>aadavantage</th>\n",
       "      <th>aadelay</th>\n",
       "      <th>aadv</th>\n",
       "      <th>aadvantage</th>\n",
       "      <th>aafail</th>\n",
       "      <th>aal</th>\n",
       "      <th>aaron</th>\n",
       "      <th>aateam</th>\n",
       "      <th>ab</th>\n",
       "      <th>aback</th>\n",
       "      <th>abandon</th>\n",
       "      <th>abandoned</th>\n",
       "      <th>abandonment</th>\n",
       "      <th>abassinet</th>\n",
       "      <th>abbreve</th>\n",
       "      <th>abc</th>\n",
       "      <th>abcletjetbluestreamfeed</th>\n",
       "      <th>abcnews</th>\n",
       "      <th>abducted</th>\n",
       "      <th>abi</th>\n",
       "      <th>ability</th>\n",
       "      <th>...</th>\n",
       "      <th>ystrdy</th>\n",
       "      <th>yuck</th>\n",
       "      <th>yucki</th>\n",
       "      <th>yuma</th>\n",
       "      <th>yummy</th>\n",
       "      <th>yup</th>\n",
       "      <th>yvonne</th>\n",
       "      <th>yvr</th>\n",
       "      <th>yxe</th>\n",
       "      <th>yxu</th>\n",
       "      <th>yyc</th>\n",
       "      <th>yyj</th>\n",
       "      <th>yyz</th>\n",
       "      <th>zabsonre</th>\n",
       "      <th>zambia</th>\n",
       "      <th>zero</th>\n",
       "      <th>zfv</th>\n",
       "      <th>zip</th>\n",
       "      <th>zipper</th>\n",
       "      <th>zombie</th>\n",
       "      <th>zone</th>\n",
       "      <th>zoom</th>\n",
       "      <th>zrh</th>\n",
       "      <th>zukes</th>\n",
       "      <th>zurich</th>\n",
       "    </tr>\n",
       "  </thead>\n",
       "  <tbody>\n",
       "    <tr>\n",
       "      <th>0</th>\n",
       "      <td>0.0</td>\n",
       "      <td>0.0</td>\n",
       "      <td>0.0</td>\n",
       "      <td>0.0</td>\n",
       "      <td>0.0</td>\n",
       "      <td>0.0</td>\n",
       "      <td>0.0</td>\n",
       "      <td>0.0</td>\n",
       "      <td>0.0</td>\n",
       "      <td>0.0</td>\n",
       "      <td>0.0</td>\n",
       "      <td>0.0</td>\n",
       "      <td>0.0</td>\n",
       "      <td>0.0</td>\n",
       "      <td>0.0</td>\n",
       "      <td>0.0</td>\n",
       "      <td>0.0</td>\n",
       "      <td>0.0</td>\n",
       "      <td>0.0</td>\n",
       "      <td>0.0</td>\n",
       "      <td>0.0</td>\n",
       "      <td>0.0</td>\n",
       "      <td>0.0</td>\n",
       "      <td>0.0</td>\n",
       "      <td>0.0</td>\n",
       "      <td>...</td>\n",
       "      <td>0.0</td>\n",
       "      <td>0.0</td>\n",
       "      <td>0.0</td>\n",
       "      <td>0.0</td>\n",
       "      <td>0.0</td>\n",
       "      <td>0.0</td>\n",
       "      <td>0.0</td>\n",
       "      <td>0.0</td>\n",
       "      <td>0.0</td>\n",
       "      <td>0.0</td>\n",
       "      <td>0.0</td>\n",
       "      <td>0.0</td>\n",
       "      <td>0.0</td>\n",
       "      <td>0.0</td>\n",
       "      <td>0.0</td>\n",
       "      <td>0.0</td>\n",
       "      <td>0.0</td>\n",
       "      <td>0.0</td>\n",
       "      <td>0.0</td>\n",
       "      <td>0.0</td>\n",
       "      <td>0.0</td>\n",
       "      <td>0.0</td>\n",
       "      <td>0.0</td>\n",
       "      <td>0.0</td>\n",
       "      <td>0.0</td>\n",
       "    </tr>\n",
       "    <tr>\n",
       "      <th>1</th>\n",
       "      <td>0.0</td>\n",
       "      <td>0.0</td>\n",
       "      <td>0.0</td>\n",
       "      <td>0.0</td>\n",
       "      <td>0.0</td>\n",
       "      <td>0.0</td>\n",
       "      <td>0.0</td>\n",
       "      <td>0.0</td>\n",
       "      <td>0.0</td>\n",
       "      <td>0.0</td>\n",
       "      <td>0.0</td>\n",
       "      <td>0.0</td>\n",
       "      <td>0.0</td>\n",
       "      <td>0.0</td>\n",
       "      <td>0.0</td>\n",
       "      <td>0.0</td>\n",
       "      <td>0.0</td>\n",
       "      <td>0.0</td>\n",
       "      <td>0.0</td>\n",
       "      <td>0.0</td>\n",
       "      <td>0.0</td>\n",
       "      <td>0.0</td>\n",
       "      <td>0.0</td>\n",
       "      <td>0.0</td>\n",
       "      <td>0.0</td>\n",
       "      <td>...</td>\n",
       "      <td>0.0</td>\n",
       "      <td>0.0</td>\n",
       "      <td>0.0</td>\n",
       "      <td>0.0</td>\n",
       "      <td>0.0</td>\n",
       "      <td>0.0</td>\n",
       "      <td>0.0</td>\n",
       "      <td>0.0</td>\n",
       "      <td>0.0</td>\n",
       "      <td>0.0</td>\n",
       "      <td>0.0</td>\n",
       "      <td>0.0</td>\n",
       "      <td>0.0</td>\n",
       "      <td>0.0</td>\n",
       "      <td>0.0</td>\n",
       "      <td>0.0</td>\n",
       "      <td>0.0</td>\n",
       "      <td>0.0</td>\n",
       "      <td>0.0</td>\n",
       "      <td>0.0</td>\n",
       "      <td>0.0</td>\n",
       "      <td>0.0</td>\n",
       "      <td>0.0</td>\n",
       "      <td>0.0</td>\n",
       "      <td>0.0</td>\n",
       "    </tr>\n",
       "    <tr>\n",
       "      <th>2</th>\n",
       "      <td>0.0</td>\n",
       "      <td>0.0</td>\n",
       "      <td>0.0</td>\n",
       "      <td>0.0</td>\n",
       "      <td>0.0</td>\n",
       "      <td>0.0</td>\n",
       "      <td>0.0</td>\n",
       "      <td>0.0</td>\n",
       "      <td>0.0</td>\n",
       "      <td>0.0</td>\n",
       "      <td>0.0</td>\n",
       "      <td>0.0</td>\n",
       "      <td>0.0</td>\n",
       "      <td>0.0</td>\n",
       "      <td>0.0</td>\n",
       "      <td>0.0</td>\n",
       "      <td>0.0</td>\n",
       "      <td>0.0</td>\n",
       "      <td>0.0</td>\n",
       "      <td>0.0</td>\n",
       "      <td>0.0</td>\n",
       "      <td>0.0</td>\n",
       "      <td>0.0</td>\n",
       "      <td>0.0</td>\n",
       "      <td>0.0</td>\n",
       "      <td>...</td>\n",
       "      <td>0.0</td>\n",
       "      <td>0.0</td>\n",
       "      <td>0.0</td>\n",
       "      <td>0.0</td>\n",
       "      <td>0.0</td>\n",
       "      <td>0.0</td>\n",
       "      <td>0.0</td>\n",
       "      <td>0.0</td>\n",
       "      <td>0.0</td>\n",
       "      <td>0.0</td>\n",
       "      <td>0.0</td>\n",
       "      <td>0.0</td>\n",
       "      <td>0.0</td>\n",
       "      <td>0.0</td>\n",
       "      <td>0.0</td>\n",
       "      <td>0.0</td>\n",
       "      <td>0.0</td>\n",
       "      <td>0.0</td>\n",
       "      <td>0.0</td>\n",
       "      <td>0.0</td>\n",
       "      <td>0.0</td>\n",
       "      <td>0.0</td>\n",
       "      <td>0.0</td>\n",
       "      <td>0.0</td>\n",
       "      <td>0.0</td>\n",
       "    </tr>\n",
       "    <tr>\n",
       "      <th>3</th>\n",
       "      <td>0.0</td>\n",
       "      <td>0.0</td>\n",
       "      <td>0.0</td>\n",
       "      <td>0.0</td>\n",
       "      <td>0.0</td>\n",
       "      <td>0.0</td>\n",
       "      <td>0.0</td>\n",
       "      <td>0.0</td>\n",
       "      <td>0.0</td>\n",
       "      <td>0.0</td>\n",
       "      <td>0.0</td>\n",
       "      <td>0.0</td>\n",
       "      <td>0.0</td>\n",
       "      <td>0.0</td>\n",
       "      <td>0.0</td>\n",
       "      <td>0.0</td>\n",
       "      <td>0.0</td>\n",
       "      <td>0.0</td>\n",
       "      <td>0.0</td>\n",
       "      <td>0.0</td>\n",
       "      <td>0.0</td>\n",
       "      <td>0.0</td>\n",
       "      <td>0.0</td>\n",
       "      <td>0.0</td>\n",
       "      <td>0.0</td>\n",
       "      <td>...</td>\n",
       "      <td>0.0</td>\n",
       "      <td>0.0</td>\n",
       "      <td>0.0</td>\n",
       "      <td>0.0</td>\n",
       "      <td>0.0</td>\n",
       "      <td>0.0</td>\n",
       "      <td>0.0</td>\n",
       "      <td>0.0</td>\n",
       "      <td>0.0</td>\n",
       "      <td>0.0</td>\n",
       "      <td>0.0</td>\n",
       "      <td>0.0</td>\n",
       "      <td>0.0</td>\n",
       "      <td>0.0</td>\n",
       "      <td>0.0</td>\n",
       "      <td>0.0</td>\n",
       "      <td>0.0</td>\n",
       "      <td>0.0</td>\n",
       "      <td>0.0</td>\n",
       "      <td>0.0</td>\n",
       "      <td>0.0</td>\n",
       "      <td>0.0</td>\n",
       "      <td>0.0</td>\n",
       "      <td>0.0</td>\n",
       "      <td>0.0</td>\n",
       "    </tr>\n",
       "    <tr>\n",
       "      <th>4</th>\n",
       "      <td>0.0</td>\n",
       "      <td>0.0</td>\n",
       "      <td>0.0</td>\n",
       "      <td>0.0</td>\n",
       "      <td>0.0</td>\n",
       "      <td>0.0</td>\n",
       "      <td>0.0</td>\n",
       "      <td>0.0</td>\n",
       "      <td>0.0</td>\n",
       "      <td>0.0</td>\n",
       "      <td>0.0</td>\n",
       "      <td>0.0</td>\n",
       "      <td>0.0</td>\n",
       "      <td>0.0</td>\n",
       "      <td>0.0</td>\n",
       "      <td>0.0</td>\n",
       "      <td>0.0</td>\n",
       "      <td>0.0</td>\n",
       "      <td>0.0</td>\n",
       "      <td>0.0</td>\n",
       "      <td>0.0</td>\n",
       "      <td>0.0</td>\n",
       "      <td>0.0</td>\n",
       "      <td>0.0</td>\n",
       "      <td>0.0</td>\n",
       "      <td>...</td>\n",
       "      <td>0.0</td>\n",
       "      <td>0.0</td>\n",
       "      <td>0.0</td>\n",
       "      <td>0.0</td>\n",
       "      <td>0.0</td>\n",
       "      <td>0.0</td>\n",
       "      <td>0.0</td>\n",
       "      <td>0.0</td>\n",
       "      <td>0.0</td>\n",
       "      <td>0.0</td>\n",
       "      <td>0.0</td>\n",
       "      <td>0.0</td>\n",
       "      <td>0.0</td>\n",
       "      <td>0.0</td>\n",
       "      <td>0.0</td>\n",
       "      <td>0.0</td>\n",
       "      <td>0.0</td>\n",
       "      <td>0.0</td>\n",
       "      <td>0.0</td>\n",
       "      <td>0.0</td>\n",
       "      <td>0.0</td>\n",
       "      <td>0.0</td>\n",
       "      <td>0.0</td>\n",
       "      <td>0.0</td>\n",
       "      <td>0.0</td>\n",
       "    </tr>\n",
       "    <tr>\n",
       "      <th>...</th>\n",
       "      <td>...</td>\n",
       "      <td>...</td>\n",
       "      <td>...</td>\n",
       "      <td>...</td>\n",
       "      <td>...</td>\n",
       "      <td>...</td>\n",
       "      <td>...</td>\n",
       "      <td>...</td>\n",
       "      <td>...</td>\n",
       "      <td>...</td>\n",
       "      <td>...</td>\n",
       "      <td>...</td>\n",
       "      <td>...</td>\n",
       "      <td>...</td>\n",
       "      <td>...</td>\n",
       "      <td>...</td>\n",
       "      <td>...</td>\n",
       "      <td>...</td>\n",
       "      <td>...</td>\n",
       "      <td>...</td>\n",
       "      <td>...</td>\n",
       "      <td>...</td>\n",
       "      <td>...</td>\n",
       "      <td>...</td>\n",
       "      <td>...</td>\n",
       "      <td>...</td>\n",
       "      <td>...</td>\n",
       "      <td>...</td>\n",
       "      <td>...</td>\n",
       "      <td>...</td>\n",
       "      <td>...</td>\n",
       "      <td>...</td>\n",
       "      <td>...</td>\n",
       "      <td>...</td>\n",
       "      <td>...</td>\n",
       "      <td>...</td>\n",
       "      <td>...</td>\n",
       "      <td>...</td>\n",
       "      <td>...</td>\n",
       "      <td>...</td>\n",
       "      <td>...</td>\n",
       "      <td>...</td>\n",
       "      <td>...</td>\n",
       "      <td>...</td>\n",
       "      <td>...</td>\n",
       "      <td>...</td>\n",
       "      <td>...</td>\n",
       "      <td>...</td>\n",
       "      <td>...</td>\n",
       "      <td>...</td>\n",
       "      <td>...</td>\n",
       "    </tr>\n",
       "    <tr>\n",
       "      <th>14635</th>\n",
       "      <td>0.0</td>\n",
       "      <td>0.0</td>\n",
       "      <td>0.0</td>\n",
       "      <td>0.0</td>\n",
       "      <td>0.0</td>\n",
       "      <td>0.0</td>\n",
       "      <td>0.0</td>\n",
       "      <td>0.0</td>\n",
       "      <td>0.0</td>\n",
       "      <td>0.0</td>\n",
       "      <td>0.0</td>\n",
       "      <td>0.0</td>\n",
       "      <td>0.0</td>\n",
       "      <td>0.0</td>\n",
       "      <td>0.0</td>\n",
       "      <td>0.0</td>\n",
       "      <td>0.0</td>\n",
       "      <td>0.0</td>\n",
       "      <td>0.0</td>\n",
       "      <td>0.0</td>\n",
       "      <td>0.0</td>\n",
       "      <td>0.0</td>\n",
       "      <td>0.0</td>\n",
       "      <td>0.0</td>\n",
       "      <td>0.0</td>\n",
       "      <td>...</td>\n",
       "      <td>0.0</td>\n",
       "      <td>0.0</td>\n",
       "      <td>0.0</td>\n",
       "      <td>0.0</td>\n",
       "      <td>0.0</td>\n",
       "      <td>0.0</td>\n",
       "      <td>0.0</td>\n",
       "      <td>0.0</td>\n",
       "      <td>0.0</td>\n",
       "      <td>0.0</td>\n",
       "      <td>0.0</td>\n",
       "      <td>0.0</td>\n",
       "      <td>0.0</td>\n",
       "      <td>0.0</td>\n",
       "      <td>0.0</td>\n",
       "      <td>0.0</td>\n",
       "      <td>0.0</td>\n",
       "      <td>0.0</td>\n",
       "      <td>0.0</td>\n",
       "      <td>0.0</td>\n",
       "      <td>0.0</td>\n",
       "      <td>0.0</td>\n",
       "      <td>0.0</td>\n",
       "      <td>0.0</td>\n",
       "      <td>0.0</td>\n",
       "    </tr>\n",
       "    <tr>\n",
       "      <th>14636</th>\n",
       "      <td>0.0</td>\n",
       "      <td>0.0</td>\n",
       "      <td>0.0</td>\n",
       "      <td>0.0</td>\n",
       "      <td>0.0</td>\n",
       "      <td>0.0</td>\n",
       "      <td>0.0</td>\n",
       "      <td>0.0</td>\n",
       "      <td>0.0</td>\n",
       "      <td>0.0</td>\n",
       "      <td>0.0</td>\n",
       "      <td>0.0</td>\n",
       "      <td>0.0</td>\n",
       "      <td>0.0</td>\n",
       "      <td>0.0</td>\n",
       "      <td>0.0</td>\n",
       "      <td>0.0</td>\n",
       "      <td>0.0</td>\n",
       "      <td>0.0</td>\n",
       "      <td>0.0</td>\n",
       "      <td>0.0</td>\n",
       "      <td>0.0</td>\n",
       "      <td>0.0</td>\n",
       "      <td>0.0</td>\n",
       "      <td>0.0</td>\n",
       "      <td>...</td>\n",
       "      <td>0.0</td>\n",
       "      <td>0.0</td>\n",
       "      <td>0.0</td>\n",
       "      <td>0.0</td>\n",
       "      <td>0.0</td>\n",
       "      <td>0.0</td>\n",
       "      <td>0.0</td>\n",
       "      <td>0.0</td>\n",
       "      <td>0.0</td>\n",
       "      <td>0.0</td>\n",
       "      <td>0.0</td>\n",
       "      <td>0.0</td>\n",
       "      <td>0.0</td>\n",
       "      <td>0.0</td>\n",
       "      <td>0.0</td>\n",
       "      <td>0.0</td>\n",
       "      <td>0.0</td>\n",
       "      <td>0.0</td>\n",
       "      <td>0.0</td>\n",
       "      <td>0.0</td>\n",
       "      <td>0.0</td>\n",
       "      <td>0.0</td>\n",
       "      <td>0.0</td>\n",
       "      <td>0.0</td>\n",
       "      <td>0.0</td>\n",
       "    </tr>\n",
       "    <tr>\n",
       "      <th>14637</th>\n",
       "      <td>0.0</td>\n",
       "      <td>0.0</td>\n",
       "      <td>0.0</td>\n",
       "      <td>0.0</td>\n",
       "      <td>0.0</td>\n",
       "      <td>0.0</td>\n",
       "      <td>0.0</td>\n",
       "      <td>0.0</td>\n",
       "      <td>0.0</td>\n",
       "      <td>0.0</td>\n",
       "      <td>0.0</td>\n",
       "      <td>0.0</td>\n",
       "      <td>0.0</td>\n",
       "      <td>0.0</td>\n",
       "      <td>0.0</td>\n",
       "      <td>0.0</td>\n",
       "      <td>0.0</td>\n",
       "      <td>0.0</td>\n",
       "      <td>0.0</td>\n",
       "      <td>0.0</td>\n",
       "      <td>0.0</td>\n",
       "      <td>0.0</td>\n",
       "      <td>0.0</td>\n",
       "      <td>0.0</td>\n",
       "      <td>0.0</td>\n",
       "      <td>...</td>\n",
       "      <td>0.0</td>\n",
       "      <td>0.0</td>\n",
       "      <td>0.0</td>\n",
       "      <td>0.0</td>\n",
       "      <td>0.0</td>\n",
       "      <td>0.0</td>\n",
       "      <td>0.0</td>\n",
       "      <td>0.0</td>\n",
       "      <td>0.0</td>\n",
       "      <td>0.0</td>\n",
       "      <td>0.0</td>\n",
       "      <td>0.0</td>\n",
       "      <td>0.0</td>\n",
       "      <td>0.0</td>\n",
       "      <td>0.0</td>\n",
       "      <td>0.0</td>\n",
       "      <td>0.0</td>\n",
       "      <td>0.0</td>\n",
       "      <td>0.0</td>\n",
       "      <td>0.0</td>\n",
       "      <td>0.0</td>\n",
       "      <td>0.0</td>\n",
       "      <td>0.0</td>\n",
       "      <td>0.0</td>\n",
       "      <td>0.0</td>\n",
       "    </tr>\n",
       "    <tr>\n",
       "      <th>14638</th>\n",
       "      <td>0.0</td>\n",
       "      <td>0.0</td>\n",
       "      <td>0.0</td>\n",
       "      <td>0.0</td>\n",
       "      <td>0.0</td>\n",
       "      <td>0.0</td>\n",
       "      <td>0.0</td>\n",
       "      <td>0.0</td>\n",
       "      <td>0.0</td>\n",
       "      <td>0.0</td>\n",
       "      <td>0.0</td>\n",
       "      <td>0.0</td>\n",
       "      <td>0.0</td>\n",
       "      <td>0.0</td>\n",
       "      <td>0.0</td>\n",
       "      <td>0.0</td>\n",
       "      <td>0.0</td>\n",
       "      <td>0.0</td>\n",
       "      <td>0.0</td>\n",
       "      <td>0.0</td>\n",
       "      <td>0.0</td>\n",
       "      <td>0.0</td>\n",
       "      <td>0.0</td>\n",
       "      <td>0.0</td>\n",
       "      <td>0.0</td>\n",
       "      <td>...</td>\n",
       "      <td>0.0</td>\n",
       "      <td>0.0</td>\n",
       "      <td>0.0</td>\n",
       "      <td>0.0</td>\n",
       "      <td>0.0</td>\n",
       "      <td>0.0</td>\n",
       "      <td>0.0</td>\n",
       "      <td>0.0</td>\n",
       "      <td>0.0</td>\n",
       "      <td>0.0</td>\n",
       "      <td>0.0</td>\n",
       "      <td>0.0</td>\n",
       "      <td>0.0</td>\n",
       "      <td>0.0</td>\n",
       "      <td>0.0</td>\n",
       "      <td>0.0</td>\n",
       "      <td>0.0</td>\n",
       "      <td>0.0</td>\n",
       "      <td>0.0</td>\n",
       "      <td>0.0</td>\n",
       "      <td>0.0</td>\n",
       "      <td>0.0</td>\n",
       "      <td>0.0</td>\n",
       "      <td>0.0</td>\n",
       "      <td>0.0</td>\n",
       "    </tr>\n",
       "    <tr>\n",
       "      <th>14639</th>\n",
       "      <td>0.0</td>\n",
       "      <td>0.0</td>\n",
       "      <td>0.0</td>\n",
       "      <td>0.0</td>\n",
       "      <td>0.0</td>\n",
       "      <td>0.0</td>\n",
       "      <td>0.0</td>\n",
       "      <td>0.0</td>\n",
       "      <td>0.0</td>\n",
       "      <td>0.0</td>\n",
       "      <td>0.0</td>\n",
       "      <td>0.0</td>\n",
       "      <td>0.0</td>\n",
       "      <td>0.0</td>\n",
       "      <td>0.0</td>\n",
       "      <td>0.0</td>\n",
       "      <td>0.0</td>\n",
       "      <td>0.0</td>\n",
       "      <td>0.0</td>\n",
       "      <td>0.0</td>\n",
       "      <td>0.0</td>\n",
       "      <td>0.0</td>\n",
       "      <td>0.0</td>\n",
       "      <td>0.0</td>\n",
       "      <td>0.0</td>\n",
       "      <td>...</td>\n",
       "      <td>0.0</td>\n",
       "      <td>0.0</td>\n",
       "      <td>0.0</td>\n",
       "      <td>0.0</td>\n",
       "      <td>0.0</td>\n",
       "      <td>0.0</td>\n",
       "      <td>0.0</td>\n",
       "      <td>0.0</td>\n",
       "      <td>0.0</td>\n",
       "      <td>0.0</td>\n",
       "      <td>0.0</td>\n",
       "      <td>0.0</td>\n",
       "      <td>0.0</td>\n",
       "      <td>0.0</td>\n",
       "      <td>0.0</td>\n",
       "      <td>0.0</td>\n",
       "      <td>0.0</td>\n",
       "      <td>0.0</td>\n",
       "      <td>0.0</td>\n",
       "      <td>0.0</td>\n",
       "      <td>0.0</td>\n",
       "      <td>0.0</td>\n",
       "      <td>0.0</td>\n",
       "      <td>0.0</td>\n",
       "      <td>0.0</td>\n",
       "    </tr>\n",
       "  </tbody>\n",
       "</table>\n",
       "<p>14640 rows × 9861 columns</p>\n",
       "</div>"
      ],
      "text/plain": [
       "        aa  aaaand  aaadvantage  aaalwayslate  aadavantage  aadelay  aadv  \\\n",
       "0      0.0     0.0          0.0           0.0          0.0      0.0   0.0   \n",
       "1      0.0     0.0          0.0           0.0          0.0      0.0   0.0   \n",
       "2      0.0     0.0          0.0           0.0          0.0      0.0   0.0   \n",
       "3      0.0     0.0          0.0           0.0          0.0      0.0   0.0   \n",
       "4      0.0     0.0          0.0           0.0          0.0      0.0   0.0   \n",
       "...    ...     ...          ...           ...          ...      ...   ...   \n",
       "14635  0.0     0.0          0.0           0.0          0.0      0.0   0.0   \n",
       "14636  0.0     0.0          0.0           0.0          0.0      0.0   0.0   \n",
       "14637  0.0     0.0          0.0           0.0          0.0      0.0   0.0   \n",
       "14638  0.0     0.0          0.0           0.0          0.0      0.0   0.0   \n",
       "14639  0.0     0.0          0.0           0.0          0.0      0.0   0.0   \n",
       "\n",
       "       aadvantage  aafail  aal  aaron  aateam   ab  aback  abandon  abandoned  \\\n",
       "0             0.0     0.0  0.0    0.0     0.0  0.0    0.0      0.0        0.0   \n",
       "1             0.0     0.0  0.0    0.0     0.0  0.0    0.0      0.0        0.0   \n",
       "2             0.0     0.0  0.0    0.0     0.0  0.0    0.0      0.0        0.0   \n",
       "3             0.0     0.0  0.0    0.0     0.0  0.0    0.0      0.0        0.0   \n",
       "4             0.0     0.0  0.0    0.0     0.0  0.0    0.0      0.0        0.0   \n",
       "...           ...     ...  ...    ...     ...  ...    ...      ...        ...   \n",
       "14635         0.0     0.0  0.0    0.0     0.0  0.0    0.0      0.0        0.0   \n",
       "14636         0.0     0.0  0.0    0.0     0.0  0.0    0.0      0.0        0.0   \n",
       "14637         0.0     0.0  0.0    0.0     0.0  0.0    0.0      0.0        0.0   \n",
       "14638         0.0     0.0  0.0    0.0     0.0  0.0    0.0      0.0        0.0   \n",
       "14639         0.0     0.0  0.0    0.0     0.0  0.0    0.0      0.0        0.0   \n",
       "\n",
       "       abandonment  abassinet  abbreve  abc  abcletjetbluestreamfeed  abcnews  \\\n",
       "0              0.0        0.0      0.0  0.0                      0.0      0.0   \n",
       "1              0.0        0.0      0.0  0.0                      0.0      0.0   \n",
       "2              0.0        0.0      0.0  0.0                      0.0      0.0   \n",
       "3              0.0        0.0      0.0  0.0                      0.0      0.0   \n",
       "4              0.0        0.0      0.0  0.0                      0.0      0.0   \n",
       "...            ...        ...      ...  ...                      ...      ...   \n",
       "14635          0.0        0.0      0.0  0.0                      0.0      0.0   \n",
       "14636          0.0        0.0      0.0  0.0                      0.0      0.0   \n",
       "14637          0.0        0.0      0.0  0.0                      0.0      0.0   \n",
       "14638          0.0        0.0      0.0  0.0                      0.0      0.0   \n",
       "14639          0.0        0.0      0.0  0.0                      0.0      0.0   \n",
       "\n",
       "       abducted  abi  ability  ...  ystrdy  yuck  yucki  yuma  yummy  yup  \\\n",
       "0           0.0  0.0      0.0  ...     0.0   0.0    0.0   0.0    0.0  0.0   \n",
       "1           0.0  0.0      0.0  ...     0.0   0.0    0.0   0.0    0.0  0.0   \n",
       "2           0.0  0.0      0.0  ...     0.0   0.0    0.0   0.0    0.0  0.0   \n",
       "3           0.0  0.0      0.0  ...     0.0   0.0    0.0   0.0    0.0  0.0   \n",
       "4           0.0  0.0      0.0  ...     0.0   0.0    0.0   0.0    0.0  0.0   \n",
       "...         ...  ...      ...  ...     ...   ...    ...   ...    ...  ...   \n",
       "14635       0.0  0.0      0.0  ...     0.0   0.0    0.0   0.0    0.0  0.0   \n",
       "14636       0.0  0.0      0.0  ...     0.0   0.0    0.0   0.0    0.0  0.0   \n",
       "14637       0.0  0.0      0.0  ...     0.0   0.0    0.0   0.0    0.0  0.0   \n",
       "14638       0.0  0.0      0.0  ...     0.0   0.0    0.0   0.0    0.0  0.0   \n",
       "14639       0.0  0.0      0.0  ...     0.0   0.0    0.0   0.0    0.0  0.0   \n",
       "\n",
       "       yvonne  yvr  yxe  yxu  yyc  yyj  yyz  zabsonre  zambia  zero  zfv  zip  \\\n",
       "0         0.0  0.0  0.0  0.0  0.0  0.0  0.0       0.0     0.0   0.0  0.0  0.0   \n",
       "1         0.0  0.0  0.0  0.0  0.0  0.0  0.0       0.0     0.0   0.0  0.0  0.0   \n",
       "2         0.0  0.0  0.0  0.0  0.0  0.0  0.0       0.0     0.0   0.0  0.0  0.0   \n",
       "3         0.0  0.0  0.0  0.0  0.0  0.0  0.0       0.0     0.0   0.0  0.0  0.0   \n",
       "4         0.0  0.0  0.0  0.0  0.0  0.0  0.0       0.0     0.0   0.0  0.0  0.0   \n",
       "...       ...  ...  ...  ...  ...  ...  ...       ...     ...   ...  ...  ...   \n",
       "14635     0.0  0.0  0.0  0.0  0.0  0.0  0.0       0.0     0.0   0.0  0.0  0.0   \n",
       "14636     0.0  0.0  0.0  0.0  0.0  0.0  0.0       0.0     0.0   0.0  0.0  0.0   \n",
       "14637     0.0  0.0  0.0  0.0  0.0  0.0  0.0       0.0     0.0   0.0  0.0  0.0   \n",
       "14638     0.0  0.0  0.0  0.0  0.0  0.0  0.0       0.0     0.0   0.0  0.0  0.0   \n",
       "14639     0.0  0.0  0.0  0.0  0.0  0.0  0.0       0.0     0.0   0.0  0.0  0.0   \n",
       "\n",
       "       zipper  zombie  zone  zoom  zrh  zukes  zurich  \n",
       "0         0.0     0.0   0.0   0.0  0.0    0.0     0.0  \n",
       "1         0.0     0.0   0.0   0.0  0.0    0.0     0.0  \n",
       "2         0.0     0.0   0.0   0.0  0.0    0.0     0.0  \n",
       "3         0.0     0.0   0.0   0.0  0.0    0.0     0.0  \n",
       "4         0.0     0.0   0.0   0.0  0.0    0.0     0.0  \n",
       "...       ...     ...   ...   ...  ...    ...     ...  \n",
       "14635     0.0     0.0   0.0   0.0  0.0    0.0     0.0  \n",
       "14636     0.0     0.0   0.0   0.0  0.0    0.0     0.0  \n",
       "14637     0.0     0.0   0.0   0.0  0.0    0.0     0.0  \n",
       "14638     0.0     0.0   0.0   0.0  0.0    0.0     0.0  \n",
       "14639     0.0     0.0   0.0   0.0  0.0    0.0     0.0  \n",
       "\n",
       "[14640 rows x 9861 columns]"
      ]
     },
     "execution_count": 39,
     "metadata": {},
     "output_type": "execute_result"
    }
   ],
   "source": [
    "# Look dataframe after process.\n",
    "pd.DataFrame(X_final.toarray(), columns = tfid.get_feature_names())"
   ]
  },
  {
   "cell_type": "markdown",
   "metadata": {},
   "source": [
    "### Naive Bayes"
   ]
  },
  {
   "cell_type": "code",
   "execution_count": 40,
   "metadata": {
    "ExecuteTime": {
     "end_time": "2022-03-14T21:35:02.481585Z",
     "start_time": "2022-03-14T21:35:02.421570Z"
    }
   },
   "outputs": [
    {
     "data": {
      "text/plain": [
       "MultinomialNB()"
      ]
     },
     "execution_count": 40,
     "metadata": {},
     "output_type": "execute_result"
    }
   ],
   "source": [
    "#Initiliazing first model.\n",
    "nb = MultinomialNB()\n",
    "nb.fit(X_train,y_train)"
   ]
  },
  {
   "cell_type": "code",
   "execution_count": 41,
   "metadata": {
    "ExecuteTime": {
     "end_time": "2022-03-14T21:35:03.050497Z",
     "start_time": "2022-03-14T21:35:02.482577Z"
    }
   },
   "outputs": [
    {
     "name": "stdout",
     "output_type": "stream",
     "text": [
      "NB MODEL\n",
      "==== Train Set ====\n",
      "              precision    recall  f1-score   support\n",
      "\n",
      "    negative       0.78      0.92      0.84      7353\n",
      "     neutral       0.88      0.75      0.81      7343\n",
      "    positive       0.90      0.89      0.89      7331\n",
      "\n",
      "    accuracy                           0.85     22027\n",
      "   macro avg       0.85      0.85      0.85     22027\n",
      "weighted avg       0.85      0.85      0.85     22027\n",
      "\n",
      "==== Test Set ====\n",
      "              precision    recall  f1-score   support\n",
      "\n",
      "    negative       0.74      0.86      0.79      1825\n",
      "     neutral       0.81      0.69      0.74      1835\n",
      "    positive       0.87      0.86      0.86      1847\n",
      "\n",
      "    accuracy                           0.80      5507\n",
      "   macro avg       0.81      0.80      0.80      5507\n",
      "weighted avg       0.81      0.80      0.80      5507\n",
      "\n"
     ]
    },
    {
     "data": {
      "image/png": "[encoded data removed]",
      "text/plain": [
       "<Figure size 864x432 with 2 Axes>"
      ]
     },
     "metadata": {},
     "output_type": "display_data"
    }
   ],
   "source": [
    "print(\"NB MODEL\")\n",
    "evaluation(nb, X_train, X_test)"
   ]
  },
  {
   "cell_type": "markdown",
   "metadata": {},
   "source": [
    "### Logistic Regression"
   ]
  },
  {
   "cell_type": "code",
   "execution_count": 43,
   "metadata": {
    "ExecuteTime": {
     "end_time": "2022-03-14T21:41:09.348489Z",
     "start_time": "2022-03-14T21:41:08.303914Z"
    }
   },
   "outputs": [
    {
     "data": {
      "text/plain": [
       "LogisticRegression(C=0.4, max_iter=1000)"
      ]
     },
     "execution_count": 43,
     "metadata": {},
     "output_type": "execute_result"
    }
   ],
   "source": [
    "#Initiliazing second model.\n",
    "log = LogisticRegression(C=0.4, max_iter=1000) \n",
    "log.fit(X_train,y_train)"
   ]
  },
  {
   "cell_type": "code",
   "execution_count": 44,
   "metadata": {
    "ExecuteTime": {
     "end_time": "2022-03-14T21:41:46.661245Z",
     "start_time": "2022-03-14T21:41:45.966325Z"
    }
   },
   "outputs": [
    {
     "name": "stdout",
     "output_type": "stream",
     "text": [
      "LOG MODEL\n",
      "==== Train Set ====\n",
      "              precision    recall  f1-score   support\n",
      "\n",
      "    negative       0.88      0.85      0.87      7353\n",
      "     neutral       0.76      0.87      0.81      7343\n",
      "    positive       0.89      0.79      0.84      7331\n",
      "\n",
      "    accuracy                           0.84     22027\n",
      "   macro avg       0.84      0.84      0.84     22027\n",
      "weighted avg       0.84      0.84      0.84     22027\n",
      "\n",
      "==== Test Set ====\n",
      "              precision    recall  f1-score   support\n",
      "\n",
      "    negative       0.85      0.80      0.82      1825\n",
      "     neutral       0.70      0.83      0.76      1835\n",
      "    positive       0.86      0.75      0.80      1847\n",
      "\n",
      "    accuracy                           0.79      5507\n",
      "   macro avg       0.80      0.79      0.80      5507\n",
      "weighted avg       0.80      0.79      0.80      5507\n",
      "\n"
     ]
    },
    {
     "data": {
      "image/png": "[encoded data removed]",
      "text/plain": [
       "<Figure size 864x432 with 2 Axes>"
      ]
     },
     "metadata": {},
     "output_type": "display_data"
    }
   ],
   "source": [
    "print(\"LOG MODEL\")\n",
    "evaluation(log, X_train, X_test)"
   ]
  },
  {
   "cell_type": "markdown",
   "metadata": {},
   "source": [
    "### Random Forest"
   ]
  },
  {
   "cell_type": "code",
   "execution_count": 45,
   "metadata": {
    "ExecuteTime": {
     "end_time": "2022-03-14T21:41:51.933816Z",
     "start_time": "2022-03-14T21:41:51.051432Z"
    }
   },
   "outputs": [
    {
     "data": {
      "text/plain": [
       "RandomForestClassifier(max_depth=40, n_jobs=-1, random_state=42)"
      ]
     },
     "execution_count": 45,
     "metadata": {},
     "output_type": "execute_result"
    }
   ],
   "source": [
    "#Initiliazing third model.\n",
    "rf = RandomForestClassifier(100, max_depth=40, random_state = 42, n_jobs = -1)\n",
    "rf.fit(X_train, y_train)"
   ]
  },
  {
   "cell_type": "code",
   "execution_count": 46,
   "metadata": {
    "ExecuteTime": {
     "end_time": "2022-03-14T21:41:52.733471Z",
     "start_time": "2022-03-14T21:41:51.935304Z"
    }
   },
   "outputs": [
    {
     "name": "stdout",
     "output_type": "stream",
     "text": [
      "RF MODEL\n",
      "==== Train Set ====\n",
      "              precision    recall  f1-score   support\n",
      "\n",
      "    negative       0.95      0.86      0.90      7353\n",
      "     neutral       0.76      0.92      0.83      7343\n",
      "    positive       0.92      0.81      0.87      7331\n",
      "\n",
      "    accuracy                           0.86     22027\n",
      "   macro avg       0.88      0.86      0.87     22027\n",
      "weighted avg       0.88      0.86      0.87     22027\n",
      "\n",
      "==== Test Set ====\n",
      "              precision    recall  f1-score   support\n",
      "\n",
      "    negative       0.84      0.81      0.83      1825\n",
      "     neutral       0.71      0.82      0.76      1835\n",
      "    positive       0.86      0.77      0.81      1847\n",
      "\n",
      "    accuracy                           0.80      5507\n",
      "   macro avg       0.81      0.80      0.80      5507\n",
      "weighted avg       0.81      0.80      0.80      5507\n",
      "\n"
     ]
    },
    {
     "data": {
      "image/png": "[encoded data removed]",
      "text/plain": [
       "<Figure size 864x432 with 2 Axes>"
      ]
     },
     "metadata": {},
     "output_type": "display_data"
    }
   ],
   "source": [
    "print(\"RF MODEL\")\n",
    "evaluation(rf, X_train, X_test)"
   ]
  },
  {
   "cell_type": "markdown",
   "metadata": {},
   "source": [
    "### Gradient Boosting"
   ]
  },
  {
   "cell_type": "code",
   "execution_count": 47,
   "metadata": {
    "ExecuteTime": {
     "end_time": "2022-03-14T21:42:32.187132Z",
     "start_time": "2022-03-14T21:41:55.159751Z"
    }
   },
   "outputs": [
    {
     "data": {
      "text/plain": [
       "GradientBoostingClassifier()"
      ]
     },
     "execution_count": 47,
     "metadata": {},
     "output_type": "execute_result"
    }
   ],
   "source": [
    "#Initiliazing fourth model.\n",
    "gb = GradientBoostingClassifier()\n",
    "gb.fit(X_train, y_train)"
   ]
  },
  {
   "cell_type": "code",
   "execution_count": 48,
   "metadata": {
    "ExecuteTime": {
     "end_time": "2022-03-14T21:42:33.002080Z",
     "start_time": "2022-03-14T21:42:32.188621Z"
    }
   },
   "outputs": [
    {
     "name": "stdout",
     "output_type": "stream",
     "text": [
      "RF MODEL\n",
      "==== Train Set ====\n",
      "              precision    recall  f1-score   support\n",
      "\n",
      "    negative       0.83      0.72      0.77      7353\n",
      "     neutral       0.64      0.82      0.72      7343\n",
      "    positive       0.84      0.73      0.78      7331\n",
      "\n",
      "    accuracy                           0.75     22027\n",
      "   macro avg       0.77      0.75      0.76     22027\n",
      "weighted avg       0.77      0.75      0.76     22027\n",
      "\n",
      "==== Test Set ====\n",
      "              precision    recall  f1-score   support\n",
      "\n",
      "    negative       0.81      0.72      0.76      1825\n",
      "     neutral       0.63      0.79      0.70      1835\n",
      "    positive       0.81      0.70      0.75      1847\n",
      "\n",
      "    accuracy                           0.74      5507\n",
      "   macro avg       0.75      0.74      0.74      5507\n",
      "weighted avg       0.75      0.74      0.74      5507\n",
      "\n"
     ]
    },
    {
     "data": {
      "image/png": "[encoded data removed]",
      "text/plain": [
       "<Figure size 864x432 with 2 Axes>"
      ]
     },
     "metadata": {},
     "output_type": "display_data"
    }
   ],
   "source": [
    "print(\"RF MODEL\")\n",
    "evaluation(gb, X_train, X_test)"
   ]
  },
  {
   "cell_type": "markdown",
   "metadata": {},
   "source": [
    "### Ada Boost"
   ]
  },
  {
   "cell_type": "code",
   "execution_count": 49,
   "metadata": {
    "ExecuteTime": {
     "end_time": "2022-03-14T21:43:41.255690Z",
     "start_time": "2022-03-14T21:42:39.359507Z"
    }
   },
   "outputs": [
    {
     "data": {
      "text/plain": [
       "AdaBoostClassifier(n_estimators=500, random_state=42)"
      ]
     },
     "execution_count": 49,
     "metadata": {},
     "output_type": "execute_result"
    }
   ],
   "source": [
    "#Initiliazing fifth model.\n",
    "ada = AdaBoostClassifier(n_estimators= 500, random_state = 42)\n",
    "ada.fit(X_train, y_train)"
   ]
  },
  {
   "cell_type": "code",
   "execution_count": 50,
   "metadata": {
    "ExecuteTime": {
     "end_time": "2022-03-14T21:43:43.838722Z",
     "start_time": "2022-03-14T21:43:41.257180Z"
    }
   },
   "outputs": [
    {
     "name": "stdout",
     "output_type": "stream",
     "text": [
      "Ada MODEL\n",
      "==== Train Set ====\n",
      "              precision    recall  f1-score   support\n",
      "\n",
      "    negative       0.85      0.81      0.83      7353\n",
      "     neutral       0.74      0.80      0.77      7343\n",
      "    positive       0.86      0.84      0.85      7331\n",
      "\n",
      "    accuracy                           0.81     22027\n",
      "   macro avg       0.82      0.81      0.81     22027\n",
      "weighted avg       0.82      0.81      0.81     22027\n",
      "\n",
      "==== Test Set ====\n",
      "              precision    recall  f1-score   support\n",
      "\n",
      "    negative       0.81      0.77      0.79      1825\n",
      "     neutral       0.70      0.76      0.73      1835\n",
      "    positive       0.83      0.80      0.82      1847\n",
      "\n",
      "    accuracy                           0.78      5507\n",
      "   macro avg       0.78      0.78      0.78      5507\n",
      "weighted avg       0.78      0.78      0.78      5507\n",
      "\n"
     ]
    },
    {
     "data": {
      "image/png": "[encoded data removed]",
      "text/plain": [
       "<Figure size 864x432 with 2 Axes>"
      ]
     },
     "metadata": {},
     "output_type": "display_data"
    }
   ],
   "source": [
    "print(\"Ada MODEL\")\n",
    "evaluation(ada, X_train, X_test)\n"
   ]
  },
  {
   "cell_type": "markdown",
   "metadata": {},
   "source": [
    "## Prediction"
   ]
  },
  {
   "cell_type": "code",
   "execution_count": 51,
   "metadata": {
    "ExecuteTime": {
     "end_time": "2022-03-14T21:43:51.755557Z",
     "start_time": "2022-03-14T21:43:51.743653Z"
    }
   },
   "outputs": [],
   "source": [
    "# Initializing pipeline.\n",
    "pipe = Pipeline([('tfidf',TfidfVectorizer()),('log',LogisticRegression(C=0.4, max_iter=1000))])"
   ]
  },
  {
   "cell_type": "code",
   "execution_count": 52,
   "metadata": {
    "ExecuteTime": {
     "end_time": "2022-03-14T21:43:52.478227Z",
     "start_time": "2022-03-14T21:43:51.757067Z"
    }
   },
   "outputs": [
    {
     "data": {
      "text/plain": [
       "Pipeline(steps=[('tfidf', TfidfVectorizer()),\n",
       "                ('log', LogisticRegression(C=0.4, max_iter=1000))])"
      ]
     },
     "execution_count": 52,
     "metadata": {},
     "output_type": "execute_result"
    }
   ],
   "source": [
    "#Fitting.\n",
    "pipe.fit(X, y)"
   ]
  },
  {
   "cell_type": "code",
   "execution_count": 53,
   "metadata": {
    "ExecuteTime": {
     "end_time": "2022-03-14T21:43:52.493604Z",
     "start_time": "2022-03-14T21:43:52.479717Z"
    }
   },
   "outputs": [
    {
     "data": {
      "text/plain": [
       "array(['negative'], dtype=object)"
      ]
     },
     "execution_count": 53,
     "metadata": {},
     "output_type": "execute_result"
    }
   ],
   "source": [
    "#Example prediction.\n",
    "tweet = \"it was not the worst flight i have ever been\"\n",
    "tweet = pd.Series(tweet).apply(cleaning)  \n",
    "pipe.predict(tweet)"
   ]
  },
  {
   "cell_type": "code",
   "execution_count": 54,
   "metadata": {
    "ExecuteTime": {
     "end_time": "2022-03-14T21:43:52.508979Z",
     "start_time": "2022-03-14T21:43:52.495091Z"
    }
   },
   "outputs": [
    {
     "data": {
      "text/plain": [
       "array(['negative'], dtype=object)"
      ]
     },
     "execution_count": 54,
     "metadata": {},
     "output_type": "execute_result"
    }
   ],
   "source": [
    "#Example prediction.\n",
    "tweet = \"don't enjoy flight\"\n",
    "tweet = pd.Series(tweet).apply(cleaning)\n",
    "pipe.predict(tweet)"
   ]
  },
  {
   "cell_type": "code",
   "execution_count": 55,
   "metadata": {
    "ExecuteTime": {
     "end_time": "2022-03-14T21:43:52.524356Z",
     "start_time": "2022-03-14T21:43:52.510963Z"
    }
   },
   "outputs": [
    {
     "data": {
      "text/plain": [
       "array(['neutral'], dtype=object)"
      ]
     },
     "execution_count": 55,
     "metadata": {},
     "output_type": "execute_result"
    }
   ],
   "source": [
    "#Example prediction.\n",
    "tweet = \"ok flight\"\n",
    "tweet = pd.Series(tweet).apply(cleaning)\n",
    "pipe.predict(tweet)"
   ]
  },
  {
   "cell_type": "code",
   "execution_count": 56,
   "metadata": {
    "ExecuteTime": {
     "end_time": "2022-03-14T21:43:52.539731Z",
     "start_time": "2022-03-14T21:43:52.525844Z"
    }
   },
   "outputs": [
    {
     "data": {
      "text/plain": [
       "array(['negative'], dtype=object)"
      ]
     },
     "execution_count": 56,
     "metadata": {},
     "output_type": "execute_result"
    }
   ],
   "source": [
    "#Example prediction.\n",
    "tweet = \"doesn't enjoy flight\"\n",
    "tweet = pd.Series(tweet).apply(cleaning)\n",
    "pipe.predict(tweet)"
   ]
  },
  {
   "cell_type": "code",
   "execution_count": 57,
   "metadata": {
    "ExecuteTime": {
     "end_time": "2022-03-14T21:43:52.555108Z",
     "start_time": "2022-03-14T21:43:52.540723Z"
    }
   },
   "outputs": [
    {
     "data": {
      "text/plain": [
       "array(['negative'], dtype=object)"
      ]
     },
     "execution_count": 57,
     "metadata": {},
     "output_type": "execute_result"
    }
   ],
   "source": [
    "#Example prediction.(\"\"\" WRONG PREDICTION BY MODEL \"\"\")\n",
    "tweet = \"liked\"\n",
    "tweet = pd.Series(tweet).apply(cleaning)\n",
    "pipe.predict(tweet)"
   ]
  },
  {
   "cell_type": "markdown",
   "metadata": {},
   "source": [
    "## Sequential"
   ]
  },
  {
   "cell_type": "code",
   "execution_count": 58,
   "metadata": {
    "ExecuteTime": {
     "end_time": "2022-03-14T21:43:52.570483Z",
     "start_time": "2022-03-14T21:43:52.557091Z"
    }
   },
   "outputs": [
    {
     "data": {
      "text/html": [
       "<div>\n",
       "<style scoped>\n",
       "    .dataframe tbody tr th:only-of-type {\n",
       "        vertical-align: middle;\n",
       "    }\n",
       "\n",
       "    .dataframe tbody tr th {\n",
       "        vertical-align: top;\n",
       "    }\n",
       "\n",
       "    .dataframe thead th {\n",
       "        text-align: right;\n",
       "    }\n",
       "</style>\n",
       "<table border=\"1\" class=\"dataframe\">\n",
       "  <thead>\n",
       "    <tr style=\"text-align: right;\">\n",
       "      <th></th>\n",
       "      <th>airline_sentiment</th>\n",
       "      <th>text</th>\n",
       "    </tr>\n",
       "  </thead>\n",
       "  <tbody>\n",
       "    <tr>\n",
       "      <th>0</th>\n",
       "      <td>neutral</td>\n",
       "      <td>said</td>\n",
       "    </tr>\n",
       "    <tr>\n",
       "      <th>1</th>\n",
       "      <td>positive</td>\n",
       "      <td>plus youve added commercial experience tacky</td>\n",
       "    </tr>\n",
       "    <tr>\n",
       "      <th>2</th>\n",
       "      <td>neutral</td>\n",
       "      <td>didnt today must mean need take another trip</td>\n",
       "    </tr>\n",
       "    <tr>\n",
       "      <th>3</th>\n",
       "      <td>negative</td>\n",
       "      <td>really aggressive blast obnoxious entertainmen...</td>\n",
       "    </tr>\n",
       "    <tr>\n",
       "      <th>4</th>\n",
       "      <td>negative</td>\n",
       "      <td>really big bad thing</td>\n",
       "    </tr>\n",
       "    <tr>\n",
       "      <th>...</th>\n",
       "      <td>...</td>\n",
       "      <td>...</td>\n",
       "    </tr>\n",
       "    <tr>\n",
       "      <th>14635</th>\n",
       "      <td>positive</td>\n",
       "      <td>thank got different flight chicago</td>\n",
       "    </tr>\n",
       "    <tr>\n",
       "      <th>14636</th>\n",
       "      <td>negative</td>\n",
       "      <td>leaving minute late flight warning communicati...</td>\n",
       "    </tr>\n",
       "    <tr>\n",
       "      <th>14637</th>\n",
       "      <td>neutral</td>\n",
       "      <td>please bring american airline</td>\n",
       "    </tr>\n",
       "    <tr>\n",
       "      <th>14638</th>\n",
       "      <td>negative</td>\n",
       "      <td>money change flight dont answer phone suggesti...</td>\n",
       "    </tr>\n",
       "    <tr>\n",
       "      <th>14639</th>\n",
       "      <td>neutral</td>\n",
       "      <td>ppl need know many seat next flight plz put u ...</td>\n",
       "    </tr>\n",
       "  </tbody>\n",
       "</table>\n",
       "<p>14640 rows × 2 columns</p>\n",
       "</div>"
      ],
      "text/plain": [
       "      airline_sentiment                                               text\n",
       "0               neutral                                               said\n",
       "1              positive       plus youve added commercial experience tacky\n",
       "2               neutral       didnt today must mean need take another trip\n",
       "3              negative  really aggressive blast obnoxious entertainmen...\n",
       "4              negative                               really big bad thing\n",
       "...                 ...                                                ...\n",
       "14635          positive                 thank got different flight chicago\n",
       "14636          negative  leaving minute late flight warning communicati...\n",
       "14637           neutral                      please bring american airline\n",
       "14638          negative  money change flight dont answer phone suggesti...\n",
       "14639           neutral  ppl need know many seat next flight plz put u ...\n",
       "\n",
       "[14640 rows x 2 columns]"
      ]
     },
     "execution_count": 58,
     "metadata": {},
     "output_type": "execute_result"
    }
   ],
   "source": [
    "# Remembering data.\n",
    "df2"
   ]
  },
  {
   "cell_type": "code",
   "execution_count": 59,
   "metadata": {
    "ExecuteTime": {
     "end_time": "2022-03-14T21:43:53.769812Z",
     "start_time": "2022-03-14T21:43:52.571972Z"
    }
   },
   "outputs": [],
   "source": [
    "#Creating target and feature.\n",
    "target = df2['airline_sentiment']\n",
    "data = df2['text'].map(word_tokenize).values"
   ]
  },
  {
   "cell_type": "code",
   "execution_count": 60,
   "metadata": {
    "ExecuteTime": {
     "end_time": "2022-03-14T21:43:53.785188Z",
     "start_time": "2022-03-14T21:43:53.771326Z"
    }
   },
   "outputs": [],
   "source": [
    "# Creating function to tokenize.\n",
    "def tokenize(d):\n",
    "    return word_tokenize(d)"
   ]
  },
  {
   "cell_type": "code",
   "execution_count": 61,
   "metadata": {
    "ExecuteTime": {
     "end_time": "2022-03-14T21:43:54.938389Z",
     "start_time": "2022-03-14T21:43:53.786180Z"
    }
   },
   "outputs": [],
   "source": [
    "# Creating variable for tokenized target variable.\n",
    "texts_w2v = df2.text.apply(tokenize).to_list()"
   ]
  },
  {
   "cell_type": "markdown",
   "metadata": {},
   "source": [
    "### Word2Vec Model"
   ]
  },
  {
   "cell_type": "code",
   "execution_count": 62,
   "metadata": {
    "ExecuteTime": {
     "end_time": "2022-03-14T21:43:55.476774Z",
     "start_time": "2022-03-14T21:43:54.939379Z"
    }
   },
   "outputs": [],
   "source": [
    "# Initializing Word2Vec model.\n",
    "w2v = Word2Vec(sentences = texts_w2v, window = 3,\n",
    "               vector_size = 100, min_count = 5, workers = 4, sg = 1)"
   ]
  },
  {
   "cell_type": "code",
   "execution_count": 63,
   "metadata": {
    "ExecuteTime": {
     "end_time": "2022-03-14T21:43:55.492142Z",
     "start_time": "2022-03-14T21:43:55.478240Z"
    }
   },
   "outputs": [
    {
     "data": {
      "text/plain": [
       "[['said'],\n",
       " ['plus', 'youve', 'added', 'commercial', 'experience', 'tacky'],\n",
       " ['didnt', 'today', 'must', 'mean', 'need', 'take', 'another', 'trip'],\n",
       " ['really',\n",
       "  'aggressive',\n",
       "  'blast',\n",
       "  'obnoxious',\n",
       "  'entertainment',\n",
       "  'guest',\n",
       "  'face',\n",
       "  'amp',\n",
       "  'little',\n",
       "  'recourse'],\n",
       " ['really', 'big', 'bad', 'thing']]"
      ]
     },
     "execution_count": 63,
     "metadata": {},
     "output_type": "execute_result"
    }
   ],
   "source": [
    "# Looking for tokenized and listed data.\n",
    "texts_w2v[:5]"
   ]
  },
  {
   "cell_type": "markdown",
   "metadata": {},
   "source": [
    "#### Similar words with the given word examples"
   ]
  },
  {
   "cell_type": "code",
   "execution_count": 64,
   "metadata": {
    "ExecuteTime": {
     "end_time": "2022-03-14T21:43:55.507518Z",
     "start_time": "2022-03-14T21:43:55.493135Z"
    }
   },
   "outputs": [
    {
     "data": {
      "text/plain": [
       "[('much', 0.9712535738945007),\n",
       " ('appreciate', 0.957404375076294),\n",
       " ('quick', 0.9558965563774109),\n",
       " ('response', 0.9437727332115173),\n",
       " ('reply', 0.9412276148796082),\n",
       " ('thanks', 0.9405701756477356),\n",
       " ('address', 0.9346233606338501),\n",
       " ('twitter', 0.9338992238044739),\n",
       " ('tweet', 0.9177289605140686),\n",
       " ('awesome', 0.9158724546432495)]"
      ]
     },
     "execution_count": 64,
     "metadata": {},
     "output_type": "execute_result"
    }
   ],
   "source": [
    "#Looking for similar word with given words.\n",
    "w2v.wv.most_similar('thank')"
   ]
  },
  {
   "cell_type": "code",
   "execution_count": 65,
   "metadata": {
    "ExecuteTime": {
     "end_time": "2022-03-14T21:43:55.522894Z",
     "start_time": "2022-03-14T21:43:55.508511Z"
    }
   },
   "outputs": [
    {
     "data": {
      "text/plain": [
       "[('neveragain', 0.9906761050224304),\n",
       " ('hanging', 0.9903817176818848),\n",
       " ('nightmare', 0.9902058243751526),\n",
       " ('extremely', 0.98977130651474),\n",
       " ('transferred', 0.9895574450492859),\n",
       " ('literally', 0.9894701242446899),\n",
       " ('abysmal', 0.98911452293396),\n",
       " ('entire', 0.9887540340423584),\n",
       " ('c', 0.9881405830383301),\n",
       " ('est', 0.9877815842628479)]"
      ]
     },
     "execution_count": 65,
     "metadata": {},
     "output_type": "execute_result"
    }
   ],
   "source": [
    "#Looking for similar word with given words.\n",
    "w2v.wv.most_similar('customerservice')"
   ]
  },
  {
   "cell_type": "code",
   "execution_count": 66,
   "metadata": {
    "ExecuteTime": {
     "end_time": "2022-03-14T21:43:55.538273Z",
     "start_time": "2022-03-14T21:43:55.523887Z"
    }
   },
   "outputs": [
    {
     "data": {
      "text/plain": [
       "[('ground', 0.910668671131134),\n",
       " ('pilot', 0.9052032828330994),\n",
       " ('attendant', 0.8672678470611572),\n",
       " ('staff', 0.862720251083374),\n",
       " ('landing', 0.8604944944381714),\n",
       " ('plane', 0.855948269367218),\n",
       " ('jfk', 0.8393176198005676),\n",
       " ('air', 0.8343712687492371),\n",
       " ('newark', 0.8316327333450317),\n",
       " ('communication', 0.8298751711845398)]"
      ]
     },
     "execution_count": 66,
     "metadata": {},
     "output_type": "execute_result"
    }
   ],
   "source": [
    "#Looking for similar word with given words.\n",
    "w2v.wv.most_similar('crew')"
   ]
  },
  {
   "cell_type": "code",
   "execution_count": 67,
   "metadata": {
    "ExecuteTime": {
     "end_time": "2022-03-14T21:43:55.553544Z",
     "start_time": "2022-03-14T21:43:55.539263Z"
    }
   },
   "outputs": [
    {
     "data": {
      "text/plain": [
       "[('delayed', 0.930374801158905),\n",
       " ('maintenance', 0.9065725207328796),\n",
       " ('stuck', 0.9056763052940369),\n",
       " ('runway', 0.9025688171386719),\n",
       " ('mechanical', 0.898987352848053),\n",
       " ('sfo', 0.8989124894142151),\n",
       " ('phx', 0.8928095698356628),\n",
       " ('dca', 0.8922531008720398),\n",
       " ('ewr', 0.8919305801391602),\n",
       " ('due', 0.8899293541908264)]"
      ]
     },
     "execution_count": 67,
     "metadata": {},
     "output_type": "execute_result"
    }
   ],
   "source": [
    "#Looking for similar word with given words.\n",
    "w2v.wv.most_similar('delay')"
   ]
  },
  {
   "cell_type": "code",
   "execution_count": 68,
   "metadata": {
    "ExecuteTime": {
     "end_time": "2022-03-14T21:43:55.568898Z",
     "start_time": "2022-03-14T21:43:55.554515Z"
    }
   },
   "outputs": [
    {
     "data": {
      "text/plain": [
       "[('fee', 0.9300989508628845),\n",
       " ('refund', 0.9005745053291321),\n",
       " ('credit', 0.8991466760635376),\n",
       " ('award', 0.8973211050033569),\n",
       " ('name', 0.8930242657661438),\n",
       " ('use', 0.8758565783500671),\n",
       " ('mile', 0.874760627746582),\n",
       " ('upgrade', 0.8715870976448059),\n",
       " ('add', 0.8709031343460083),\n",
       " ('companion', 0.8661701083183289)]"
      ]
     },
     "execution_count": 68,
     "metadata": {},
     "output_type": "execute_result"
    }
   ],
   "source": [
    "#Looking for similar word with given words.\n",
    "w2v.wv.most_similar('ticket')"
   ]
  },
  {
   "cell_type": "code",
   "execution_count": 69,
   "metadata": {
    "ExecuteTime": {
     "end_time": "2022-03-14T21:43:57.244386Z",
     "start_time": "2022-03-14T21:43:55.569891Z"
    }
   },
   "outputs": [
    {
     "data": {
      "text/html": [
       "<div>\n",
       "<style scoped>\n",
       "    .dataframe tbody tr th:only-of-type {\n",
       "        vertical-align: middle;\n",
       "    }\n",
       "\n",
       "    .dataframe tbody tr th {\n",
       "        vertical-align: top;\n",
       "    }\n",
       "\n",
       "    .dataframe thead th {\n",
       "        text-align: right;\n",
       "    }\n",
       "</style>\n",
       "<table border=\"1\" class=\"dataframe\">\n",
       "  <thead>\n",
       "    <tr style=\"text-align: right;\">\n",
       "      <th></th>\n",
       "      <th>text</th>\n",
       "      <th>w2v_vector</th>\n",
       "    </tr>\n",
       "  </thead>\n",
       "  <tbody>\n",
       "    <tr>\n",
       "      <th>0</th>\n",
       "      <td>said</td>\n",
       "      <td>[-0.10492859780788422, -0.0317985974252224, -0...</td>\n",
       "    </tr>\n",
       "    <tr>\n",
       "      <th>1</th>\n",
       "      <td>plus youve added commercial experience tacky</td>\n",
       "      <td>[-0.05421256273984909, 0.08681130036711693, -0...</td>\n",
       "    </tr>\n",
       "  </tbody>\n",
       "</table>\n",
       "</div>"
      ],
      "text/plain": [
       "                                           text  \\\n",
       "0                                          said   \n",
       "1  plus youve added commercial experience tacky   \n",
       "\n",
       "                                          w2v_vector  \n",
       "0  [-0.10492859780788422, -0.0317985974252224, -0...  \n",
       "1  [-0.05421256273984909, 0.08681130036711693, -0...  "
      ]
     },
     "execution_count": 69,
     "metadata": {},
     "output_type": "execute_result"
    }
   ],
   "source": [
    "# Creating vectors for every text.\n",
    "def get_avg_vector(sent):\n",
    "    \"\"\"\n",
    "    This function makes vector for every sepcific words in our text data.\n",
    "    \"\"\"\n",
    "    \n",
    "    vector = np.zeros(100)\n",
    "    total_words = 0\n",
    "    for word in sent.split():        \n",
    "        if word in w2v.wv.index_to_key:  \n",
    "            vector += w2v.wv.word_vec(word)\n",
    "            total_words += 1\n",
    "    if total_words > 0:\n",
    "        return vector / total_words\n",
    "    else:\n",
    "        return vector\n",
    "    \n",
    "df2['w2v_vector'] = df2['text'].map(get_avg_vector)\n",
    "df2[['text', 'w2v_vector']].head(2)"
   ]
  },
  {
   "cell_type": "code",
   "execution_count": 70,
   "metadata": {
    "ExecuteTime": {
     "end_time": "2022-03-14T21:43:57.259786Z",
     "start_time": "2022-03-14T21:43:57.245378Z"
    }
   },
   "outputs": [
    {
     "data": {
      "text/plain": [
       "(100,)"
      ]
     },
     "execution_count": 70,
     "metadata": {},
     "output_type": "execute_result"
    }
   ],
   "source": [
    "df2['w2v_vector'].values[0].shape"
   ]
  },
  {
   "cell_type": "code",
   "execution_count": 71,
   "metadata": {
    "ExecuteTime": {
     "end_time": "2022-03-14T21:45:46.642393Z",
     "start_time": "2022-03-14T21:43:57.260782Z"
    }
   },
   "outputs": [
    {
     "name": "stdout",
     "output_type": "stream",
     "text": [
      "Model: LogisticRegression, Word2Vec, Accuracy: 72.097%\n",
      "\n",
      "Model: RandomForest, Word2Vec, Accuracy: 73.231%\n",
      "\n",
      "Model: SupportVectorMachine, Word2Vec, Accuracy: 71.366%\n",
      "\n"
     ]
    }
   ],
   "source": [
    "# Checking three different models accuracy for improve further.\n",
    "model_params = {'random_state':42}\n",
    "model_list = [LogisticRegression(**model_params, solver='liblinear'),\n",
    "              RandomForestClassifier(**model_params),\n",
    "#               MultinomialNB(),  # Don't use Naive Bayes since w2v_vector contains negative numbers, then it causes an error.\n",
    "              SVC(**model_params)]\n",
    "model_name = ['LogisticRegression', 'RandomForest', 'SupportVectorMachine']\n",
    "\n",
    "skf = StratifiedKFold(n_splits=5, shuffle=True, random_state=42)\n",
    "\n",
    "for model, model_name in zip(model_list, model_name):\n",
    "    for n_fold, (trn_idx, vld_idx) in enumerate(skf.split(df2.index, df2.airline_sentiment)):        \n",
    "        X_trn = np.stack(df2.loc[trn_idx, 'w2v_vector'])\n",
    "        y_trn = df2.loc[trn_idx, 'airline_sentiment']\n",
    "        \n",
    "        X_vld = np.stack(df2.loc[vld_idx, 'w2v_vector'])\n",
    "        y_vld = df2.loc[vld_idx, 'airline_sentiment']        \n",
    "        \n",
    "        model.fit(X_trn, y_trn)\n",
    "        pred_col = f\"{model_name}_w2v_pred\"\n",
    "        df2.loc[vld_idx, pred_col] = model.predict(X_vld)\n",
    "        \n",
    "\n",
    "    print(f\"Model: {model_name}, Word2Vec, Accuracy: {accuracy_score(df2.airline_sentiment, df2[pred_col]):.3%}\\n\")"
   ]
  },
  {
   "cell_type": "code",
   "execution_count": 72,
   "metadata": {
    "ExecuteTime": {
     "end_time": "2022-03-14T21:45:47.011344Z",
     "start_time": "2022-03-14T21:45:46.643854Z"
    }
   },
   "outputs": [
    {
     "name": "stdout",
     "output_type": "stream",
     "text": [
      "Before Tokenization & Padding \n",
      " said \n",
      "\n",
      "After Tokenization & Padding \n",
      " [126   0   0   0   0   0   0   0   0   0   0   0   0   0   0   0   0   0\n",
      "   0   0   0   0   0   0   0   0   0   0   0   0   0   0   0   0   0   0\n",
      "   0   0   0   0   0   0   0   0   0   0   0   0   0   0   0   0   0   0\n",
      "   0   0   0   0   0   0   0   0   0   0   0   0   0   0   0   0   0   0\n",
      "   0   0   0   0   0   0   0   0   0   0   0   0   0   0   0   0   0   0\n",
      "   0   0   0   0   0   0   0   0   0   0]\n"
     ]
    }
   ],
   "source": [
    "#Making function for tokenize and padding.\n",
    "\n",
    "max_words = 5000\n",
    "max_len = 100\n",
    "\n",
    "def tokenize_pad_sequences(text):\n",
    "    '''\n",
    "    This function tokenize the input text into sequnences of intergers and then\n",
    "    pad each sequence to the same length\n",
    "    '''\n",
    "    # Text tokenization\n",
    "    tokenizer = Tokenizer(num_words=max_words, lower=True, split=' ')\n",
    "    tokenizer.fit_on_texts(text)\n",
    "    # Transforms text to a sequence of integers\n",
    "    X = tokenizer.texts_to_sequences(text)\n",
    "    # Pad sequences to the same length\n",
    "    X = pad_sequences(X, padding='post', maxlen=max_len)\n",
    "    # return sequences\n",
    "    return X, tokenizer\n",
    "\n",
    "print('Before Tokenization & Padding \\n', df2['text'][0],'\\n')\n",
    "X, tokenizer = tokenize_pad_sequences(df2['text'])\n",
    "print('After Tokenization & Padding \\n', X[0])"
   ]
  },
  {
   "cell_type": "code",
   "execution_count": 73,
   "metadata": {
    "ExecuteTime": {
     "end_time": "2022-03-14T21:45:47.165006Z",
     "start_time": "2022-03-14T21:45:47.013826Z"
    }
   },
   "outputs": [
    {
     "name": "stdout",
     "output_type": "stream",
     "text": [
      "Train:          (8198, 100) (8198, 3)\n",
      "Validation Set: (3514, 100) (3514, 3)\n",
      "Test Set:       (2928, 100) (2928, 3)\n"
     ]
    }
   ],
   "source": [
    "#Train test split.\n",
    "y = pd.get_dummies(df.airline_sentiment)\n",
    "X_trn, X_tst, y_trn, y_tst = train_test_split(X, y, test_size=0.2, random_state=42, stratify=y)\n",
    "X_trn, X_vld, y_trn, y_vld = train_test_split(X_trn, y_trn, test_size=0.3, random_state=42, stratify=y_trn)\n",
    "\n",
    "print('Train:         ', X_trn.shape, y_trn.shape)\n",
    "print('Validation Set:', X_vld.shape, y_vld.shape)\n",
    "print('Test Set:      ', X_tst.shape, y_tst.shape)"
   ]
  },
  {
   "cell_type": "markdown",
   "metadata": {},
   "source": [
    "### Sequential Model"
   ]
  },
  {
   "cell_type": "code",
   "execution_count": 74,
   "metadata": {
    "ExecuteTime": {
     "end_time": "2022-03-14T21:45:48.040684Z",
     "start_time": "2022-03-14T21:45:47.166493Z"
    }
   },
   "outputs": [],
   "source": [
    "#Creating necessary variables and initializing sequential model. Adding layers.\n",
    "vocab_size = 5000\n",
    "embedding_size = 32\n",
    "epochs=50\n",
    "max_words = 5000\n",
    "max_len = 100\n",
    "batch_size = 64\n",
    "\n",
    "model= Sequential()\n",
    "model.add(Embedding(vocab_size, embedding_size, input_length=max_len))\n",
    "model.add(Conv1D(filters=32, kernel_size=3, padding='same', activation='relu'))\n",
    "model.add(MaxPooling1D(pool_size=2, padding='same'))\n",
    "model.add(Bidirectional(LSTM(32)))\n",
    "model.add(Dropout(0.4))\n",
    "model.add(Dense(3, activation='softmax'))"
   ]
  },
  {
   "cell_type": "code",
   "execution_count": 75,
   "metadata": {
    "ExecuteTime": {
     "end_time": "2022-03-14T21:45:48.056060Z",
     "start_time": "2022-03-14T21:45:48.042172Z"
    }
   },
   "outputs": [
    {
     "name": "stdout",
     "output_type": "stream",
     "text": [
      "Model: \"sequential\"\n",
      "_________________________________________________________________\n",
      "Layer (type)                 Output Shape              Param #   \n",
      "=================================================================\n",
      "embedding (Embedding)        (None, 100, 32)           160000    \n",
      "_________________________________________________________________\n",
      "conv1d (Conv1D)              (None, 100, 32)           3104      \n",
      "_________________________________________________________________\n",
      "max_pooling1d (MaxPooling1D) (None, 50, 32)            0         \n",
      "_________________________________________________________________\n",
      "bidirectional (Bidirectional (None, 64)                16640     \n",
      "_________________________________________________________________\n",
      "dropout (Dropout)            (None, 64)                0         \n",
      "_________________________________________________________________\n",
      "dense (Dense)                (None, 3)                 195       \n",
      "=================================================================\n",
      "Total params: 179,939\n",
      "Trainable params: 179,939\n",
      "Non-trainable params: 0\n",
      "_________________________________________________________________\n",
      "None\n"
     ]
    }
   ],
   "source": [
    "#Compiling model. Looking into it.\n",
    "model.compile(loss='categorical_crossentropy', optimizer='adam', metrics=['accuracy'])\n",
    "print(model.summary())"
   ]
  },
  {
   "cell_type": "code",
   "execution_count": 76,
   "metadata": {
    "ExecuteTime": {
     "end_time": "2022-03-14T21:46:06.013723Z",
     "start_time": "2022-03-14T21:45:48.057548Z"
    }
   },
   "outputs": [
    {
     "name": "stdout",
     "output_type": "stream",
     "text": [
      "Epoch 1/50\n",
      "129/129 [==============================] - 3s 21ms/step - loss: 0.8581 - accuracy: 0.6353 - val_loss: 0.6958 - val_accuracy: 0.6932\n",
      "Epoch 2/50\n",
      "129/129 [==============================] - 2s 15ms/step - loss: 0.5911 - accuracy: 0.7577 - val_loss: 0.6155 - val_accuracy: 0.7513\n",
      "Epoch 3/50\n",
      "129/129 [==============================] - 2s 15ms/step - loss: 0.4488 - accuracy: 0.8308 - val_loss: 0.6184 - val_accuracy: 0.7570\n",
      "Epoch 4/50\n",
      "129/129 [==============================] - 2s 15ms/step - loss: 0.3456 - accuracy: 0.8740 - val_loss: 0.6514 - val_accuracy: 0.7592\n",
      "Epoch 5/50\n",
      "129/129 [==============================] - 2s 16ms/step - loss: 0.2666 - accuracy: 0.9061 - val_loss: 0.7258 - val_accuracy: 0.7627\n",
      "Epoch 6/50\n",
      "129/129 [==============================] - 2s 16ms/step - loss: 0.2090 - accuracy: 0.9300 - val_loss: 0.8141 - val_accuracy: 0.7527\n",
      "Epoch 7/50\n",
      "129/129 [==============================] - 2s 16ms/step - loss: 0.1664 - accuracy: 0.9454 - val_loss: 0.8885 - val_accuracy: 0.7541\n"
     ]
    }
   ],
   "source": [
    "#Trying early stopping and fitting model.\n",
    "es = EarlyStopping(monitor = 'val_loss', patience=5)\n",
    "batch_size = 64\n",
    "\n",
    "history = model.fit(X_trn, y_trn,validation_data=(X_vld, y_vld),batch_size=batch_size, epochs=epochs, verbose=1,callbacks = es)"
   ]
  },
  {
   "cell_type": "code",
   "execution_count": 77,
   "metadata": {
    "ExecuteTime": {
     "end_time": "2022-03-14T21:46:06.352081Z",
     "start_time": "2022-03-14T21:46:06.015707Z"
    }
   },
   "outputs": [
    {
     "name": "stdout",
     "output_type": "stream",
     "text": [
      "Accuracy  : 0.7702\n"
     ]
    }
   ],
   "source": [
    "# Evaluate model on the test set\n",
    "loss, accuracy = model.evaluate(X_tst, y_tst, verbose=0)\n",
    "\n",
    "# Print metrics\n",
    "print('Accuracy  : {:.4f}'.format(accuracy))"
   ]
  },
  {
   "cell_type": "code",
   "execution_count": 78,
   "metadata": {
    "ExecuteTime": {
     "end_time": "2022-03-14T21:46:06.675170Z",
     "start_time": "2022-03-14T21:46:06.353570Z"
    }
   },
   "outputs": [
    {
     "data": {
      "image/png": "[encoded data removed]",
      "text/plain": [
       "<Figure size 864x288 with 2 Axes>"
      ]
     },
     "metadata": {},
     "output_type": "display_data"
    }
   ],
   "source": [
    "# Visualizing loss and accuracy on sequential model.\n",
    "plt.figure(figsize=(12, 4))\n",
    "\n",
    "plt.subplot(1, 2, 1)\n",
    "plt.plot(history.history['loss'], 'b--', label = 'loss')\n",
    "plt.plot(history.history['val_loss'], 'r:', label = 'val_loss')\n",
    "plt.xlabel('Epochs')\n",
    "plt.legend()\n",
    "\n",
    "plt.subplot(1, 2, 2)\n",
    "plt.plot(history.history['accuracy'], 'b--', label = 'acc')\n",
    "plt.plot(history.history['val_accuracy'], 'r:', label = 'val_acc')\n",
    "plt.xlabel('Epochs')\n",
    "plt.legend()\n",
    "\n",
    "plt.show()"
   ]
  },
  {
   "cell_type": "code",
   "execution_count": 79,
   "metadata": {
    "ExecuteTime": {
     "end_time": "2022-03-14T21:46:07.751272Z",
     "start_time": "2022-03-14T21:46:06.676195Z"
    }
   },
   "outputs": [
    {
     "data": {
      "image/png": "[encoded data removed]",
      "text/plain": [
       "<Figure size 576x432 with 2 Axes>"
      ]
     },
     "metadata": {},
     "output_type": "display_data"
    }
   ],
   "source": [
    "# Creating function to see confusion matrix for sequential model.\n",
    "\n",
    "def plot_confusion_matrix(model, X_test, y_test):\n",
    "    '''Function to plot confusion matrix for the passed model and the data'''\n",
    "    \n",
    "    sentiment_classes = ['Negative', 'Neutral', 'Positive']\n",
    "    # use model to do the prediction\n",
    "    y_pred = model.predict(X_test)\n",
    "    # compute confusion matrix\n",
    "    cm = confusion_matrix(np.argmax(np.array(y_test),axis=1), np.argmax(y_pred, axis=1))\n",
    "    # plot confusion matrix\n",
    "    plt.figure(figsize=(8,6))\n",
    "    sns.heatmap(cm, cmap=plt.cm.Blues, annot=True, fmt='d', \n",
    "                xticklabels=sentiment_classes,\n",
    "                yticklabels=sentiment_classes)\n",
    "    plt.title('Confusion matrix', fontsize=16)\n",
    "    plt.xlabel('Actual label', fontsize=12)\n",
    "    plt.ylabel('Predicted label', fontsize=12)\n",
    "    \n",
    "plot_confusion_matrix(model, X_tst, y_tst)"
   ]
  },
  {
   "cell_type": "markdown",
   "metadata": {},
   "source": [
    "### Second Model"
   ]
  },
  {
   "cell_type": "code",
   "execution_count": 80,
   "metadata": {
    "ExecuteTime": {
     "end_time": "2022-03-14T21:46:07.905128Z",
     "start_time": "2022-03-14T21:46:07.752760Z"
    }
   },
   "outputs": [
    {
     "name": "stdout",
     "output_type": "stream",
     "text": [
      "Train:          (8198, 100) (8198, 3)\n",
      "Validation Set: (3514, 100) (3514, 3)\n",
      "Test Set:       (2928, 100) (2928, 3)\n"
     ]
    }
   ],
   "source": [
    "# Train test split.\n",
    "X_trn, X_tst, y_trn, y_tst = train_test_split(X, y, test_size=0.2, random_state=42, stratify=y)\n",
    "X_trn, X_vld, y_trn, y_vld = train_test_split(X_trn, y_trn, test_size=0.3, random_state=42, stratify=y_trn)\n",
    "\n",
    "print('Train:         ', X_trn.shape, y_trn.shape)\n",
    "print('Validation Set:', X_vld.shape, y_vld.shape)\n",
    "print('Test Set:      ', X_tst.shape, y_tst.shape)"
   ]
  },
  {
   "cell_type": "code",
   "execution_count": 98,
   "metadata": {
    "ExecuteTime": {
     "end_time": "2022-03-14T23:35:05.754224Z",
     "start_time": "2022-03-14T23:35:05.272203Z"
    }
   },
   "outputs": [],
   "source": [
    "# Initializing another sequential model.\n",
    "vocab_size = 5000\n",
    "embedding_size = 32\n",
    "epochs=50\n",
    "\n",
    "model= Sequential()\n",
    "model.add(Embedding(vocab_size, embedding_size, input_length=max_len))\n",
    "model.add(Conv1D(filters=32, kernel_size=3, padding='same', activation='relu'))\n",
    "model.add(MaxPooling1D(pool_size=2))\n",
    "model.add(Bidirectional(LSTM(32)))\n",
    "model.add(Dropout(0.4))\n",
    "model.add(Dense(3, activation='relu'))\n",
    "model.add(Dense(3, activation='softmax'))\n"
   ]
  },
  {
   "cell_type": "code",
   "execution_count": 99,
   "metadata": {
    "ExecuteTime": {
     "end_time": "2022-03-14T23:35:07.859395Z",
     "start_time": "2022-03-14T23:35:07.841362Z"
    }
   },
   "outputs": [
    {
     "name": "stdout",
     "output_type": "stream",
     "text": [
      "Model: \"sequential_6\"\n",
      "_________________________________________________________________\n",
      "Layer (type)                 Output Shape              Param #   \n",
      "=================================================================\n",
      "embedding_6 (Embedding)      (None, 100, 32)           160000    \n",
      "_________________________________________________________________\n",
      "conv1d_6 (Conv1D)            (None, 100, 32)           3104      \n",
      "_________________________________________________________________\n",
      "max_pooling1d_6 (MaxPooling1 (None, 50, 32)            0         \n",
      "_________________________________________________________________\n",
      "bidirectional_6 (Bidirection (None, 64)                16640     \n",
      "_________________________________________________________________\n",
      "dropout_6 (Dropout)          (None, 64)                0         \n",
      "_________________________________________________________________\n",
      "dense_9 (Dense)              (None, 3)                 195       \n",
      "_________________________________________________________________\n",
      "dense_10 (Dense)             (None, 3)                 12        \n",
      "=================================================================\n",
      "Total params: 179,951\n",
      "Trainable params: 179,951\n",
      "Non-trainable params: 0\n",
      "_________________________________________________________________\n",
      "None\n"
     ]
    }
   ],
   "source": [
    "#Compiling and looking to model.\n",
    "model.compile(loss='categorical_crossentropy', optimizer='adam', metrics=['accuracy'])\n",
    "print(model.summary())"
   ]
  },
  {
   "cell_type": "code",
   "execution_count": 100,
   "metadata": {
    "ExecuteTime": {
     "end_time": "2022-03-14T23:35:25.480244Z",
     "start_time": "2022-03-14T23:35:09.495600Z"
    }
   },
   "outputs": [
    {
     "name": "stdout",
     "output_type": "stream",
     "text": [
      "Epoch 1/50\n",
      "129/129 [==============================] - 3s 20ms/step - loss: 0.9266 - accuracy: 0.6287 - val_loss: 0.7298 - val_accuracy: 0.6801\n",
      "Epoch 2/50\n",
      "129/129 [==============================] - 2s 14ms/step - loss: 0.6229 - accuracy: 0.7254 - val_loss: 0.6483 - val_accuracy: 0.7282\n",
      "Epoch 3/50\n",
      "129/129 [==============================] - 2s 13ms/step - loss: 0.5046 - accuracy: 0.7886 - val_loss: 0.6614 - val_accuracy: 0.7368\n",
      "Epoch 4/50\n",
      "129/129 [==============================] - 2s 13ms/step - loss: 0.4303 - accuracy: 0.8368 - val_loss: 0.6897 - val_accuracy: 0.7373\n",
      "Epoch 5/50\n",
      "129/129 [==============================] - 2s 13ms/step - loss: 0.3743 - accuracy: 0.8622 - val_loss: 0.7631 - val_accuracy: 0.7353\n",
      "Epoch 6/50\n",
      "129/129 [==============================] - 2s 13ms/step - loss: 0.3320 - accuracy: 0.8786 - val_loss: 0.7979 - val_accuracy: 0.7291\n",
      "Epoch 7/50\n",
      "129/129 [==============================] - 2s 13ms/step - loss: 0.2956 - accuracy: 0.8980 - val_loss: 0.8781 - val_accuracy: 0.7368\n"
     ]
    }
   ],
   "source": [
    "# Trying early stopping and fitting model.\n",
    "es = EarlyStopping(monitor = 'val_loss', patience=5)\n",
    "batch_size = 64\n",
    "\n",
    "history = model.fit(X_trn, y_trn,\n",
    "                    validation_data=(X_vld, y_vld),\n",
    "                    batch_size=batch_size, epochs=epochs, verbose=1,\n",
    "                    callbacks = [es])\n",
    "\n"
   ]
  },
  {
   "cell_type": "code",
   "execution_count": 101,
   "metadata": {
    "ExecuteTime": {
     "end_time": "2022-03-14T23:35:45.979355Z",
     "start_time": "2022-03-14T23:35:45.715091Z"
    }
   },
   "outputs": [
    {
     "name": "stdout",
     "output_type": "stream",
     "text": [
      "Accuracy  : 0.7592\n"
     ]
    }
   ],
   "source": [
    "# Evaluate model on the test set\n",
    "loss, accuracy = model.evaluate(X_tst, y_tst, verbose=0)\n",
    "\n",
    "# Print metrics\n",
    "print('Accuracy  : {:.4f}'.format(accuracy))"
   ]
  },
  {
   "cell_type": "code",
   "execution_count": 102,
   "metadata": {
    "ExecuteTime": {
     "end_time": "2022-03-14T23:35:47.715297Z",
     "start_time": "2022-03-14T23:35:47.434561Z"
    }
   },
   "outputs": [
    {
     "data": {
      "image/png": "[encoded data removed]",
      "text/plain": [
       "<Figure size 864x288 with 2 Axes>"
      ]
     },
     "metadata": {},
     "output_type": "display_data"
    }
   ],
   "source": [
    "# Visualizing loss and accuracy on sequential model.\n",
    "plt.figure(figsize=(12, 4))\n",
    "\n",
    "plt.subplot(1, 2, 1)\n",
    "plt.plot(history.history['loss'], 'b--', label = 'loss')\n",
    "plt.plot(history.history['val_loss'], 'r:', label = 'val_loss')\n",
    "plt.xlabel('Epochs')\n",
    "plt.legend()\n",
    "\n",
    "plt.subplot(1, 2, 2)\n",
    "plt.plot(history.history['accuracy'], 'b--', label = 'acc')\n",
    "plt.plot(history.history['val_accuracy'], 'r:', label = 'val_acc')\n",
    "plt.xlabel('Epochs')\n",
    "plt.legend()\n",
    "\n",
    "plt.show()"
   ]
  },
  {
   "cell_type": "code",
   "execution_count": 103,
   "metadata": {
    "ExecuteTime": {
     "end_time": "2022-03-14T23:35:49.852939Z",
     "start_time": "2022-03-14T23:35:48.893564Z"
    }
   },
   "outputs": [
    {
     "data": {
      "image/png": "[encoded data removed]",
      "text/plain": [
       "<Figure size 576x432 with 2 Axes>"
      ]
     },
     "metadata": {},
     "output_type": "display_data"
    }
   ],
   "source": [
    "# Looking last model confusion matrix.  \n",
    "plot_confusion_matrix(model, X_tst, y_tst)"
   ]
  },
  {
   "cell_type": "markdown",
   "metadata": {},
   "source": [
    "## Recommmendations"
   ]
  },
  {
   "cell_type": "markdown",
   "metadata": {},
   "source": [
    "1.For all the 6 companies should work on customer issue problems.\n",
    "\n",
    "2.Virgin America needs to check booking problems.\n",
    "\n",
    "3.Delta Airlines needs to look into late flight problems.\n",
    "\n",
    "4.Overall late flight and cancellation flight problems needs to be solve for better service/more satisfied customer."
   ]
  },
  {
   "cell_type": "markdown",
   "metadata": {},
   "source": [
    "## Conclusion"
   ]
  },
  {
   "cell_type": "markdown",
   "metadata": {},
   "source": [
    "With final model, prediction accuracy on test set is %92. What this mean is with the **customer review text** my model will predict 92/100 true positive, true neutral or true negative. 8 of 100 tweets is going to be false for true positive, neutral or negatives(as example: 'liked' tweet at prediction section predicted negative which is false negative).\n",
    "\n",
    "Used accuracy score to evaluation metric because target variables(sentiment) positive,negative and neutral classes imbalanced and all of them equal important for us. We are not focusing just one of them and wanted to accuracy of each of them."
   ]
  },
  {
   "cell_type": "markdown",
   "metadata": {},
   "source": [
    "## Future Work"
   ]
  },
  {
   "cell_type": "markdown",
   "metadata": {},
   "source": [
    "We can work on detail text and improve our model. For example we still get little bit of false positive,neutral or negatives. We would work why is that and what we could do more on our model.\n",
    "\n",
    "Why liked tweet predicted negative etc."
   ]
  }
 ],
 "metadata": {
  "kernelspec": {
   "display_name": "Python (learn-env)",
   "language": "python",
   "name": "learn-env"
  },
  "language_info": {
   "codemirror_mode": {
    "name": "ipython",
    "version": 3
   },
   "file_extension": ".py",
   "mimetype": "text/x-python",
   "name": "python",
   "nbconvert_exporter": "python",
   "pygments_lexer": "ipython3",
   "version": "3.8.5"
  },
  "toc": {
   "base_numbering": 1,
   "nav_menu": {},
   "number_sections": true,
   "sideBar": true,
   "skip_h1_title": false,
   "title_cell": "Table of Contents",
   "title_sidebar": "Contents",
   "toc_cell": false,
   "toc_position": {
    "height": "calc(100% - 180px)",
    "left": "10px",
    "top": "150px",
    "width": "183px"
   },
   "toc_section_display": true,
   "toc_window_display": true
  }
 },
 "nbformat": 4,
 "nbformat_minor": 4
}
