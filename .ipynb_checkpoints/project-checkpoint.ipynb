{
 "cells": [
  {
   "cell_type": "code",
   "execution_count": 1,
   "metadata": {
    "ExecuteTime": {
     "end_time": "2022-03-01T01:33:17.585626Z",
     "start_time": "2022-03-01T01:33:16.120060Z"
    }
   },
   "outputs": [
    {
     "name": "stderr",
     "output_type": "stream",
     "text": [
      "[nltk_data] Downloading package stopwords to\n",
      "[nltk_data]     C:\\Users\\AI\\AppData\\Roaming\\nltk_data...\n",
      "[nltk_data]   Package stopwords is already up-to-date!\n",
      "[nltk_data] Downloading package punkt to\n",
      "[nltk_data]     C:\\Users\\AI\\AppData\\Roaming\\nltk_data...\n",
      "[nltk_data]   Package punkt is already up-to-date!\n",
      "[nltk_data] Downloading package wordnet to\n",
      "[nltk_data]     C:\\Users\\AI\\AppData\\Roaming\\nltk_data...\n",
      "[nltk_data]   Package wordnet is already up-to-date!\n",
      "[nltk_data] Downloading package words to\n",
      "[nltk_data]     C:\\Users\\AI\\AppData\\Roaming\\nltk_data...\n",
      "[nltk_data]   Package words is already up-to-date!\n"
     ]
    }
   ],
   "source": [
    "# Importing necessary modules.\n",
    "import re\n",
    "import string   \n",
    "from nltk.tokenize import sent_tokenize, word_tokenize\n",
    "from nltk.corpus import stopwords\n",
    "from nltk.stem import WordNetLemmatizer, PorterStemmer\n",
    "from nltk.probability import FreqDist\n",
    "from nltk.tokenize import RegexpTokenizer\n",
    "\n",
    "import pandas as pd\n",
    "import numpy as np\n",
    "import seaborn as sns\n",
    "import matplotlib.pyplot as plt\n",
    "from collections import Counter\n",
    "\n",
    "import nltk\n",
    "nltk.download('stopwords')\n",
    "nltk.download('punkt')\n",
    "nltk.download('wordnet')\n",
    "nltk.download('words')\n",
    "\n",
    "import warnings\n",
    "warnings.filterwarnings(\"ignore\")\n",
    "plt.rcParams[\"figure.figsize\"] = (10,6)\n",
    "pd.set_option('display.max_columns', 50)"
   ]
  },
  {
   "cell_type": "markdown",
   "metadata": {},
   "source": [
    "## Business Value"
   ]
  },
  {
   "cell_type": "markdown",
   "metadata": {},
   "source": [
    "There are six different airline companies in this dataset and their customers still complaining about some problems with their services/flights.\n",
    "We are going to analyze and making machine learning project for how airline companies could improve ourselves with our findings."
   ]
  },
  {
   "cell_type": "markdown",
   "metadata": {},
   "source": [
    "## Business Problem"
   ]
  },
  {
   "cell_type": "markdown",
   "metadata": {},
   "source": [
    "In this project, main goal is the predict airline sentiment of flights with machine learning model. This will help airline companies for future work. Depend on customer's review(positive , neutral or negative) airline companies could take action about it."
   ]
  },
  {
   "cell_type": "code",
   "execution_count": 125,
   "metadata": {
    "ExecuteTime": {
     "end_time": "2022-03-01T05:03:44.674758Z",
     "start_time": "2022-03-01T05:03:44.590964Z"
    },
    "scrolled": true
   },
   "outputs": [
    {
     "data": {
      "text/html": [
       "<div>\n",
       "<style scoped>\n",
       "    .dataframe tbody tr th:only-of-type {\n",
       "        vertical-align: middle;\n",
       "    }\n",
       "\n",
       "    .dataframe tbody tr th {\n",
       "        vertical-align: top;\n",
       "    }\n",
       "\n",
       "    .dataframe thead th {\n",
       "        text-align: right;\n",
       "    }\n",
       "</style>\n",
       "<table border=\"1\" class=\"dataframe\">\n",
       "  <thead>\n",
       "    <tr style=\"text-align: right;\">\n",
       "      <th></th>\n",
       "      <th>tweet_id</th>\n",
       "      <th>airline_sentiment</th>\n",
       "      <th>airline_sentiment_confidence</th>\n",
       "      <th>negativereason</th>\n",
       "      <th>negativereason_confidence</th>\n",
       "      <th>airline</th>\n",
       "      <th>airline_sentiment_gold</th>\n",
       "      <th>name</th>\n",
       "      <th>negativereason_gold</th>\n",
       "      <th>retweet_count</th>\n",
       "      <th>text</th>\n",
       "      <th>tweet_coord</th>\n",
       "      <th>tweet_created</th>\n",
       "      <th>tweet_location</th>\n",
       "      <th>user_timezone</th>\n",
       "    </tr>\n",
       "  </thead>\n",
       "  <tbody>\n",
       "    <tr>\n",
       "      <th>0</th>\n",
       "      <td>570306133677760513</td>\n",
       "      <td>neutral</td>\n",
       "      <td>1.0000</td>\n",
       "      <td>NaN</td>\n",
       "      <td>NaN</td>\n",
       "      <td>Virgin America</td>\n",
       "      <td>NaN</td>\n",
       "      <td>cairdin</td>\n",
       "      <td>NaN</td>\n",
       "      <td>0</td>\n",
       "      <td>@VirginAmerica What @dhepburn said.</td>\n",
       "      <td>NaN</td>\n",
       "      <td>2015-02-24 11:35:52 -0800</td>\n",
       "      <td>NaN</td>\n",
       "      <td>Eastern Time (US &amp; Canada)</td>\n",
       "    </tr>\n",
       "    <tr>\n",
       "      <th>1</th>\n",
       "      <td>570301130888122368</td>\n",
       "      <td>positive</td>\n",
       "      <td>0.3486</td>\n",
       "      <td>NaN</td>\n",
       "      <td>0.0000</td>\n",
       "      <td>Virgin America</td>\n",
       "      <td>NaN</td>\n",
       "      <td>jnardino</td>\n",
       "      <td>NaN</td>\n",
       "      <td>0</td>\n",
       "      <td>@VirginAmerica plus you've added commercials t...</td>\n",
       "      <td>NaN</td>\n",
       "      <td>2015-02-24 11:15:59 -0800</td>\n",
       "      <td>NaN</td>\n",
       "      <td>Pacific Time (US &amp; Canada)</td>\n",
       "    </tr>\n",
       "    <tr>\n",
       "      <th>2</th>\n",
       "      <td>570301083672813571</td>\n",
       "      <td>neutral</td>\n",
       "      <td>0.6837</td>\n",
       "      <td>NaN</td>\n",
       "      <td>NaN</td>\n",
       "      <td>Virgin America</td>\n",
       "      <td>NaN</td>\n",
       "      <td>yvonnalynn</td>\n",
       "      <td>NaN</td>\n",
       "      <td>0</td>\n",
       "      <td>@VirginAmerica I didn't today... Must mean I n...</td>\n",
       "      <td>NaN</td>\n",
       "      <td>2015-02-24 11:15:48 -0800</td>\n",
       "      <td>Lets Play</td>\n",
       "      <td>Central Time (US &amp; Canada)</td>\n",
       "    </tr>\n",
       "    <tr>\n",
       "      <th>3</th>\n",
       "      <td>570301031407624196</td>\n",
       "      <td>negative</td>\n",
       "      <td>1.0000</td>\n",
       "      <td>Bad Flight</td>\n",
       "      <td>0.7033</td>\n",
       "      <td>Virgin America</td>\n",
       "      <td>NaN</td>\n",
       "      <td>jnardino</td>\n",
       "      <td>NaN</td>\n",
       "      <td>0</td>\n",
       "      <td>@VirginAmerica it's really aggressive to blast...</td>\n",
       "      <td>NaN</td>\n",
       "      <td>2015-02-24 11:15:36 -0800</td>\n",
       "      <td>NaN</td>\n",
       "      <td>Pacific Time (US &amp; Canada)</td>\n",
       "    </tr>\n",
       "    <tr>\n",
       "      <th>4</th>\n",
       "      <td>570300817074462722</td>\n",
       "      <td>negative</td>\n",
       "      <td>1.0000</td>\n",
       "      <td>Can't Tell</td>\n",
       "      <td>1.0000</td>\n",
       "      <td>Virgin America</td>\n",
       "      <td>NaN</td>\n",
       "      <td>jnardino</td>\n",
       "      <td>NaN</td>\n",
       "      <td>0</td>\n",
       "      <td>@VirginAmerica and it's a really big bad thing...</td>\n",
       "      <td>NaN</td>\n",
       "      <td>2015-02-24 11:14:45 -0800</td>\n",
       "      <td>NaN</td>\n",
       "      <td>Pacific Time (US &amp; Canada)</td>\n",
       "    </tr>\n",
       "  </tbody>\n",
       "</table>\n",
       "</div>"
      ],
      "text/plain": [
       "             tweet_id airline_sentiment  airline_sentiment_confidence  \\\n",
       "0  570306133677760513           neutral                        1.0000   \n",
       "1  570301130888122368          positive                        0.3486   \n",
       "2  570301083672813571           neutral                        0.6837   \n",
       "3  570301031407624196          negative                        1.0000   \n",
       "4  570300817074462722          negative                        1.0000   \n",
       "\n",
       "  negativereason  negativereason_confidence         airline  \\\n",
       "0            NaN                        NaN  Virgin America   \n",
       "1            NaN                     0.0000  Virgin America   \n",
       "2            NaN                        NaN  Virgin America   \n",
       "3     Bad Flight                     0.7033  Virgin America   \n",
       "4     Can't Tell                     1.0000  Virgin America   \n",
       "\n",
       "  airline_sentiment_gold        name negativereason_gold  retweet_count  \\\n",
       "0                    NaN     cairdin                 NaN              0   \n",
       "1                    NaN    jnardino                 NaN              0   \n",
       "2                    NaN  yvonnalynn                 NaN              0   \n",
       "3                    NaN    jnardino                 NaN              0   \n",
       "4                    NaN    jnardino                 NaN              0   \n",
       "\n",
       "                                                text tweet_coord  \\\n",
       "0                @VirginAmerica What @dhepburn said.         NaN   \n",
       "1  @VirginAmerica plus you've added commercials t...         NaN   \n",
       "2  @VirginAmerica I didn't today... Must mean I n...         NaN   \n",
       "3  @VirginAmerica it's really aggressive to blast...         NaN   \n",
       "4  @VirginAmerica and it's a really big bad thing...         NaN   \n",
       "\n",
       "               tweet_created tweet_location               user_timezone  \n",
       "0  2015-02-24 11:35:52 -0800            NaN  Eastern Time (US & Canada)  \n",
       "1  2015-02-24 11:15:59 -0800            NaN  Pacific Time (US & Canada)  \n",
       "2  2015-02-24 11:15:48 -0800      Lets Play  Central Time (US & Canada)  \n",
       "3  2015-02-24 11:15:36 -0800            NaN  Pacific Time (US & Canada)  \n",
       "4  2015-02-24 11:14:45 -0800            NaN  Pacific Time (US & Canada)  "
      ]
     },
     "execution_count": 125,
     "metadata": {},
     "output_type": "execute_result"
    }
   ],
   "source": [
    "# Import and looking the data.\n",
    "df = pd.read_csv('Tweets.csv')\n",
    "df.head()"
   ]
  },
  {
   "cell_type": "code",
   "execution_count": 126,
   "metadata": {
    "ExecuteTime": {
     "end_time": "2022-03-01T05:03:58.640409Z",
     "start_time": "2022-03-01T05:03:58.621089Z"
    }
   },
   "outputs": [
    {
     "data": {
      "text/plain": [
       "'@VirginAmerica did you know that suicide is the second leading cause of death among teens 10-24'"
      ]
     },
     "execution_count": 126,
     "metadata": {},
     "output_type": "execute_result"
    }
   ],
   "source": [
    "# Example of a tweet.\n",
    "df['text'][10]"
   ]
  },
  {
   "cell_type": "code",
   "execution_count": 127,
   "metadata": {
    "ExecuteTime": {
     "end_time": "2022-03-01T05:04:12.695253Z",
     "start_time": "2022-03-01T05:04:12.687293Z"
    }
   },
   "outputs": [
    {
     "data": {
      "text/plain": [
       "negative    9178\n",
       "neutral     3099\n",
       "positive    2363\n",
       "Name: airline_sentiment, dtype: int64"
      ]
     },
     "execution_count": 127,
     "metadata": {},
     "output_type": "execute_result"
    }
   ],
   "source": [
    "# Target variable class balance.\n",
    "df['airline_sentiment'].value_counts()"
   ]
  },
  {
   "cell_type": "code",
   "execution_count": 128,
   "metadata": {
    "ExecuteTime": {
     "end_time": "2022-03-01T05:04:29.720965Z",
     "start_time": "2022-03-01T05:04:29.701625Z"
    }
   },
   "outputs": [
    {
     "data": {
      "text/plain": [
       "United            3822\n",
       "US Airways        2913\n",
       "American          2759\n",
       "Southwest         2420\n",
       "Delta             2222\n",
       "Virgin America     504\n",
       "Name: airline, dtype: int64"
      ]
     },
     "execution_count": 128,
     "metadata": {},
     "output_type": "execute_result"
    }
   ],
   "source": [
    "# Airline companies balance.\n",
    "df['airline'].value_counts()"
   ]
  },
  {
   "cell_type": "markdown",
   "metadata": {},
   "source": [
    "## Data Understanding"
   ]
  },
  {
   "cell_type": "code",
   "execution_count": 129,
   "metadata": {
    "ExecuteTime": {
     "end_time": "2022-03-01T05:04:57.451478Z",
     "start_time": "2022-03-01T05:04:57.253402Z"
    }
   },
   "outputs": [
    {
     "data": {
      "image/png": "[encoded data removed]",
      "text/plain": [
       "<Figure size 864x432 with 1 Axes>"
      ]
     },
     "metadata": {},
     "output_type": "display_data"
    }
   ],
   "source": [
    "# Visual of airline companies review counts.\n",
    "ax = sns.countplot(data = df, y = 'airline',\n",
    "                   order = df.airline.value_counts().index)\n",
    "ax.set_title('Count per Airlines',)\n",
    "                                    \n",
    "plt.show()"
   ]
  },
  {
   "cell_type": "code",
   "execution_count": 130,
   "metadata": {
    "ExecuteTime": {
     "end_time": "2022-03-01T05:05:22.650634Z",
     "start_time": "2022-03-01T05:05:22.449252Z"
    }
   },
   "outputs": [
    {
     "data": {
      "image/png": "[encoded data removed]",
      "text/plain": [
       "<Figure size 864x432 with 1 Axes>"
      ]
     },
     "metadata": {},
     "output_type": "display_data"
    }
   ],
   "source": [
    "#Airline companies sentiment visualization.\n",
    "sns.countplot(data = df, x =\"airline\", hue = \"airline_sentiment\");\n",
    "sns.set(rc={\"figure.figsize\":(12, 6)})"
   ]
  },
  {
   "cell_type": "code",
   "execution_count": 131,
   "metadata": {
    "ExecuteTime": {
     "end_time": "2022-03-01T05:05:59.596594Z",
     "start_time": "2022-03-01T05:05:59.423491Z"
    }
   },
   "outputs": [
    {
     "data": {
      "image/png": "[encoded data removed]",
      "text/plain": [
       "<Figure size 576x360 with 1 Axes>"
      ]
     },
     "metadata": {},
     "output_type": "display_data"
    }
   ],
   "source": [
    "# Total negative reasons visual.\n",
    "plt.figure(figsize=(8,5))\n",
    "ax = sns.countplot(data = df_neg, y = 'negativereason',\n",
    "                   palette='Set2',\n",
    "                   order = df_neg.negativereason.value_counts().index)\n",
    "ax.set_title('Count per NegativeReason')\n",
    "\n",
    "plt.show()"
   ]
  },
  {
   "cell_type": "code",
   "execution_count": 202,
   "metadata": {
    "ExecuteTime": {
     "end_time": "2022-03-01T05:46:37.855011Z",
     "start_time": "2022-03-01T05:46:37.116467Z"
    }
   },
   "outputs": [
    {
     "data": {
      "image/png": "[encoded data removed]",
      "text/plain": [
       "<Figure size 576x1296 with 6 Axes>"
      ]
     },
     "metadata": {},
     "output_type": "display_data"
    }
   ],
   "source": [
    "# Negative reasons per airline companies.\n",
    "fig, axes = plt.subplots(6,1, figsize=(8,18), sharex=True)\n",
    "axes = axes.flatten()\n",
    "names = df_neg['airline'].unique()\n",
    "\n",
    "for name, n in zip(names, axes):\n",
    "    ax = sns.countplot(data = df_neg[df_neg.airline==name], y = 'negativereason',\n",
    "                       order = df_neg[df_neg.airline==name].negativereason.value_counts().index, ax = n)\n",
    "    ax.set_title(f\"{name}: {format(len(df_neg[df_neg.airline==name]),',')}\")\n",
    "    ax.set_xlabel('')\n",
    "    ax.set_ylabel('')\n",
    "\n",
    "plt.suptitle(\"NegativeReasons per Airline Companies\", fontsize = 20)\n",
    "plt.show()\n",
    "\n"
   ]
  },
  {
   "cell_type": "markdown",
   "metadata": {
    "ExecuteTime": {
     "end_time": "2022-02-22T23:26:29.300975Z",
     "start_time": "2022-02-22T23:26:29.284111Z"
    }
   },
   "source": [
    "\n",
    "**American, US Airways, Southwest**: Complaints about customer sevice issue is relatively high.\n",
    "\n",
    "**United :**  Customer service issue is the most, but customers for this airline experienced late flight more frequently than others. Lost luggage issue happened relatively high.\n",
    "\n",
    "**Delta:** Customer service looks not bad, but most of customers experienced late flight.\n",
    "\n",
    "**Virgin America:** Mostly about customer service followed by flight booking problem.\n"
   ]
  },
  {
   "cell_type": "markdown",
   "metadata": {},
   "source": [
    "## Cleaning"
   ]
  },
  {
   "cell_type": "code",
   "execution_count": 133,
   "metadata": {
    "ExecuteTime": {
     "end_time": "2022-03-01T05:07:36.924005Z",
     "start_time": "2022-03-01T05:07:36.905158Z"
    }
   },
   "outputs": [],
   "source": [
    "# Copying data for secure original.\n",
    "df2 = df.copy()"
   ]
  },
  {
   "cell_type": "code",
   "execution_count": 135,
   "metadata": {
    "ExecuteTime": {
     "end_time": "2022-03-01T05:08:13.911500Z",
     "start_time": "2022-03-01T05:08:13.872315Z"
    }
   },
   "outputs": [
    {
     "data": {
      "text/plain": [
       "0                                          What  said.\n",
       "1     plus you've added commercials to the experien...\n",
       "2     I didn't today... Must mean I need to take an...\n",
       "3     it's really aggressive to blast obnoxious \"en...\n",
       "4             and it's a really big bad thing about it\n",
       "Name: text, dtype: object"
      ]
     },
     "execution_count": 135,
     "metadata": {},
     "output_type": "execute_result"
    }
   ],
   "source": [
    "# Cleaning process from non alphabetic characters.\n",
    "df2[\"text\"] = df2[\"text\"].str.replace(\"(@+\\w+)\", \"\")\n",
    "df2[\"text\"].head()"
   ]
  },
  {
   "cell_type": "code",
   "execution_count": 136,
   "metadata": {
    "ExecuteTime": {
     "end_time": "2022-03-01T05:08:31.177729Z",
     "start_time": "2022-03-01T05:08:31.151971Z"
    }
   },
   "outputs": [],
   "source": [
    "# Creating variable for english stopwords.\n",
    "stop_words = stopwords.words('english')"
   ]
  },
  {
   "cell_type": "code",
   "execution_count": 137,
   "metadata": {
    "ExecuteTime": {
     "end_time": "2022-03-01T05:08:51.942434Z",
     "start_time": "2022-03-01T05:08:51.928547Z"
    }
   },
   "outputs": [],
   "source": [
    "# Creating function for cleaning, tokenize and lemmatization.\n",
    "def cleaning(data):\n",
    "    \n",
    "    #Tokenize\n",
    "    text_tokens = word_tokenize(data.replace(\"'\", \"\").lower()) \n",
    "        \n",
    "    #Remove punctuations\n",
    "    tokens_without_punc = [w for w in text_tokens if w.isalpha()] \n",
    "    \n",
    "    #Removing Stopwords\n",
    "    tokens_without_sw = [t for t in tokens_without_punc if t not in stop_words]  \n",
    "    \n",
    "    #lemma\n",
    "    text_cleaned = [WordNetLemmatizer().lemmatize(t) for t in tokens_without_sw]\n",
    "    \n",
    "    #joining\n",
    "    return \" \".join(text_cleaned)"
   ]
  },
  {
   "cell_type": "code",
   "execution_count": 138,
   "metadata": {
    "ExecuteTime": {
     "end_time": "2022-03-01T05:09:15.619324Z",
     "start_time": "2022-03-01T05:09:12.319944Z"
    }
   },
   "outputs": [
    {
     "data": {
      "text/plain": [
       "0                                                 said\n",
       "1         plus youve added commercial experience tacky\n",
       "2         didnt today must mean need take another trip\n",
       "3    really aggressive blast obnoxious entertainmen...\n",
       "4                                 really big bad thing\n",
       "Name: text, dtype: object"
      ]
     },
     "execution_count": 138,
     "metadata": {},
     "output_type": "execute_result"
    }
   ],
   "source": [
    "#Applying function to target.\n",
    "df2[\"text\"] = df2[\"text\"].apply(cleaning)\n",
    "df2[\"text\"].head()"
   ]
  },
  {
   "cell_type": "code",
   "execution_count": 19,
   "metadata": {
    "ExecuteTime": {
     "end_time": "2022-03-01T01:33:23.551640Z",
     "start_time": "2022-03-01T01:33:23.522377Z"
    }
   },
   "outputs": [
    {
     "data": {
      "text/plain": [
       "['said',\n",
       " 'plus',\n",
       " 'youve',\n",
       " 'added',\n",
       " 'commercial',\n",
       " 'experience',\n",
       " 'tacky',\n",
       " 'didnt',\n",
       " 'today',\n",
       " 'must',\n",
       " 'mean',\n",
       " 'need',\n",
       " 'take',\n",
       " 'another',\n",
       " 'trip',\n",
       " 'really',\n",
       " 'aggressive',\n",
       " 'blast',\n",
       " 'obnoxious',\n",
       " 'entertainment',\n",
       " 'guest',\n",
       " 'face',\n",
       " 'amp',\n",
       " 'little',\n",
       " 'recourse',\n",
       " 'really',\n",
       " 'big',\n",
       " 'bad',\n",
       " 'thing',\n",
       " 'seriously',\n",
       " 'would',\n",
       " 'pay',\n",
       " 'flight',\n",
       " 'seat',\n",
       " 'didnt',\n",
       " 'playing',\n",
       " 'really',\n",
       " 'bad',\n",
       " 'thing',\n",
       " 'flying',\n",
       " 'va',\n",
       " 'yes',\n",
       " 'nearly',\n",
       " 'every',\n",
       " 'time',\n",
       " 'fly',\n",
       " 'vx',\n",
       " 'ear',\n",
       " 'worm',\n",
       " 'go',\n",
       " 'away',\n",
       " 'really',\n",
       " 'missed',\n",
       " 'prime',\n",
       " 'opportunity',\n",
       " 'men',\n",
       " 'without',\n",
       " 'hat',\n",
       " 'parody',\n",
       " 'http',\n",
       " 'well',\n",
       " 'amazing',\n",
       " 'arrived',\n",
       " 'hour',\n",
       " 'early',\n",
       " 'youre',\n",
       " 'good',\n",
       " 'know',\n",
       " 'suicide',\n",
       " 'second',\n",
       " 'leading',\n",
       " 'cause',\n",
       " 'death',\n",
       " 'among',\n",
       " 'teen',\n",
       " 'lt',\n",
       " 'pretty',\n",
       " 'graphic',\n",
       " 'much',\n",
       " 'better',\n",
       " 'minimal',\n",
       " 'iconography',\n",
       " 'great',\n",
       " 'deal',\n",
       " 'already',\n",
       " 'thinking',\n",
       " 'trip',\n",
       " 'amp',\n",
       " 'havent',\n",
       " 'even',\n",
       " 'gone',\n",
       " 'trip',\n",
       " 'yet',\n",
       " 'p',\n",
       " 'im',\n",
       " 'flying',\n",
       " 'fabulous',\n",
       " 'seductive',\n",
       " 'sky',\n",
       " 'u',\n",
       " 'take',\n",
       " 'stress',\n",
       " 'away',\n",
       " 'travel',\n",
       " 'http',\n",
       " 'thanks',\n",
       " 'schedule',\n",
       " 'still',\n",
       " 'mia',\n",
       " 'excited',\n",
       " 'first',\n",
       " 'cross',\n",
       " 'country',\n",
       " 'flight',\n",
       " 'lax',\n",
       " 'mco',\n",
       " 'ive',\n",
       " 'heard',\n",
       " 'nothing',\n",
       " 'great',\n",
       " 'thing',\n",
       " 'virgin',\n",
       " 'america',\n",
       " 'flew',\n",
       " 'nyc',\n",
       " 'sfo',\n",
       " 'last',\n",
       " 'week',\n",
       " 'couldnt',\n",
       " 'fully',\n",
       " 'sit',\n",
       " 'seat',\n",
       " 'due',\n",
       " 'two',\n",
       " 'large',\n",
       " 'gentleman',\n",
       " 'either',\n",
       " 'side',\n",
       " 'help',\n",
       " 'flying',\n",
       " 'know',\n",
       " 'would',\n",
       " 'amazingly',\n",
       " 'awesome',\n",
       " 'please',\n",
       " 'want',\n",
       " 'fly',\n",
       " 'first',\n",
       " 'fare',\n",
       " 'may',\n",
       " 'three',\n",
       " 'time',\n",
       " 'carrier',\n",
       " 'seat',\n",
       " 'available',\n",
       " 'select',\n",
       " 'love',\n",
       " 'graphic',\n",
       " 'http',\n",
       " 'love',\n",
       " 'hipster',\n",
       " 'innovation',\n",
       " 'feel',\n",
       " 'good',\n",
       " 'brand',\n",
       " 'making',\n",
       " 'bos',\n",
       " 'gt',\n",
       " 'la',\n",
       " 'non',\n",
       " 'stop',\n",
       " 'permanently',\n",
       " 'anytime',\n",
       " 'soon',\n",
       " 'guy',\n",
       " 'messed',\n",
       " 'seating',\n",
       " 'reserved',\n",
       " 'seating',\n",
       " 'friend',\n",
       " 'guy',\n",
       " 'gave',\n",
       " 'seat',\n",
       " 'away',\n",
       " 'want',\n",
       " 'free',\n",
       " 'internet',\n",
       " 'status',\n",
       " 'match',\n",
       " 'program',\n",
       " 'applied',\n",
       " 'three',\n",
       " 'week',\n",
       " 'called',\n",
       " 'emailed',\n",
       " 'response',\n",
       " 'happened',\n",
       " 'ur',\n",
       " 'vegan',\n",
       " 'food',\n",
       " 'option',\n",
       " 'least',\n",
       " 'say',\n",
       " 'ur',\n",
       " 'site',\n",
       " 'know',\n",
       " 'wont',\n",
       " 'able',\n",
       " 'eat',\n",
       " 'anything',\n",
       " 'next',\n",
       " 'hr',\n",
       " 'fail',\n",
       " 'miss',\n",
       " 'dont',\n",
       " 'worry',\n",
       " 'well',\n",
       " 'together',\n",
       " 'soon',\n",
       " 'amazing',\n",
       " 'cant',\n",
       " 'get',\n",
       " 'cold',\n",
       " 'air',\n",
       " 'vent',\n",
       " 'noair',\n",
       " 'worstflightever',\n",
       " 'roasted',\n",
       " 'sfotobos',\n",
       " 'lax',\n",
       " 'ewr',\n",
       " 'middle',\n",
       " 'seat',\n",
       " 'red',\n",
       " 'eye',\n",
       " 'noob',\n",
       " 'maneuver',\n",
       " 'sendambien',\n",
       " 'andchexmix',\n",
       " 'hi',\n",
       " 'bked',\n",
       " 'cool',\n",
       " 'birthday',\n",
       " 'trip',\n",
       " 'cant',\n",
       " 'add',\n",
       " 'elevate',\n",
       " 'cause',\n",
       " 'entered',\n",
       " 'middle',\n",
       " 'name',\n",
       " 'flight',\n",
       " 'booking',\n",
       " 'problem',\n",
       " 'hour',\n",
       " 'operation',\n",
       " 'club',\n",
       " 'sfo',\n",
       " 'posted',\n",
       " 'online',\n",
       " 'current',\n",
       " 'help',\n",
       " 'left',\n",
       " 'expensive',\n",
       " 'headphone',\n",
       " 'flight',\n",
       " 'iad',\n",
       " 'lax',\n",
       " 'today',\n",
       " 'seat',\n",
       " 'one',\n",
       " 'answering',\n",
       " 'l',\n",
       " 'amp',\n",
       " 'f',\n",
       " 'number',\n",
       " 'lax',\n",
       " 'awaiting',\n",
       " 'return',\n",
       " 'phone',\n",
       " 'call',\n",
       " 'would',\n",
       " 'prefer',\n",
       " 'use',\n",
       " 'online',\n",
       " 'option',\n",
       " 'great',\n",
       " 'news',\n",
       " 'america',\n",
       " 'could',\n",
       " 'start',\n",
       " 'flight',\n",
       " 'hawaii',\n",
       " 'end',\n",
       " 'year',\n",
       " 'http',\n",
       " 'via',\n",
       " 'nice',\n",
       " 'rt',\n",
       " 'vibe',\n",
       " 'moodlight',\n",
       " 'takeoff',\n",
       " 'touchdown',\n",
       " 'moodlitmonday',\n",
       " 'sciencebehindtheexperience',\n",
       " 'http',\n",
       " 'moodlighting',\n",
       " 'way',\n",
       " 'fly',\n",
       " 'best',\n",
       " 'experience',\n",
       " 'ever',\n",
       " 'cool',\n",
       " 'calming',\n",
       " 'moodlitmonday',\n",
       " 'done',\n",
       " 'done',\n",
       " 'best',\n",
       " 'airline',\n",
       " 'around',\n",
       " 'hand',\n",
       " 'book',\n",
       " 'flight',\n",
       " 'hawaii',\n",
       " 'chat',\n",
       " 'support',\n",
       " 'working',\n",
       " 'site',\n",
       " 'http',\n",
       " 'view',\n",
       " 'downtown',\n",
       " 'los',\n",
       " 'angeles',\n",
       " 'hollywood',\n",
       " 'sign',\n",
       " 'beyond',\n",
       " 'rain',\n",
       " 'mountain',\n",
       " 'http',\n",
       " 'hey',\n",
       " 'first',\n",
       " 'time',\n",
       " 'flyer',\n",
       " 'next',\n",
       " 'week',\n",
       " 'excited',\n",
       " 'im',\n",
       " 'hard',\n",
       " 'time',\n",
       " 'getting',\n",
       " 'flight',\n",
       " 'added',\n",
       " 'elevate',\n",
       " 'account',\n",
       " 'help',\n",
       " 'plz',\n",
       " 'help',\n",
       " 'win',\n",
       " 'bid',\n",
       " 'upgrade',\n",
       " 'flight',\n",
       " 'lax',\n",
       " 'gt',\n",
       " 'sea',\n",
       " 'unused',\n",
       " 'ticket',\n",
       " 'moved',\n",
       " 'new',\n",
       " 'city',\n",
       " 'dont',\n",
       " 'fly',\n",
       " 'fly',\n",
       " 'expires',\n",
       " 'travelhelp',\n",
       " 'flight',\n",
       " 'leaving',\n",
       " 'dallas',\n",
       " 'seattle',\n",
       " 'time',\n",
       " 'feb',\n",
       " 'im',\n",
       " 'elevategold',\n",
       " 'good',\n",
       " 'reason',\n",
       " 'rock',\n",
       " 'dream',\n",
       " 'http',\n",
       " 'http',\n",
       " 'wow',\n",
       " 'blew',\n",
       " 'mind',\n",
       " 'last',\n",
       " 'night',\n",
       " 'tribute',\n",
       " 'soundofmusic',\n",
       " 'think',\n",
       " 'agree',\n",
       " 'entertaining',\n",
       " 'flight',\n",
       " 'way',\n",
       " 'supposed',\n",
       " 'take',\n",
       " 'minute',\n",
       " 'ago',\n",
       " 'website',\n",
       " 'still',\n",
       " 'show',\n",
       " 'time',\n",
       " 'flight',\n",
       " 'thanks',\n",
       " 'julie',\n",
       " 'andrew',\n",
       " 'way',\n",
       " 'though',\n",
       " 'impressive',\n",
       " 'wish',\n",
       " 'flew',\n",
       " 'atlanta',\n",
       " 'soon',\n",
       " 'julie',\n",
       " 'andrew',\n",
       " 'hand',\n",
       " 'flight',\n",
       " 'leaving',\n",
       " 'dallas',\n",
       " 'la',\n",
       " 'february',\n",
       " 'hi',\n",
       " 'im',\n",
       " 'excited',\n",
       " 'gt',\n",
       " 'dal',\n",
       " 'ive',\n",
       " 'trying',\n",
       " 'book',\n",
       " 'since',\n",
       " 'last',\n",
       " 'week',\n",
       " 'amp',\n",
       " 'page',\n",
       " 'never',\n",
       " 'load',\n",
       " 'thx',\n",
       " 'know',\n",
       " 'need',\n",
       " 'spotify',\n",
       " 'stat',\n",
       " 'guiltypleasures',\n",
       " 'im',\n",
       " 'lady',\n",
       " 'gaga',\n",
       " 'amazing',\n",
       " 'carrie',\n",
       " 'new',\n",
       " 'marketing',\n",
       " 'song',\n",
       " 'http',\n",
       " 'let',\n",
       " 'u',\n",
       " 'know',\n",
       " 'think',\n",
       " 'julie',\n",
       " 'andrew',\n",
       " 'first',\n",
       " 'lady',\n",
       " 'gaga',\n",
       " 'wowd',\n",
       " 'last',\n",
       " 'night',\n",
       " 'carrie',\n",
       " 'meh',\n",
       " 'called',\n",
       " 'week',\n",
       " 'ago',\n",
       " 'adding',\n",
       " 'flight',\n",
       " 'elevate',\n",
       " 'still',\n",
       " 'havent',\n",
       " 'shown',\n",
       " 'help',\n",
       " 'great',\n",
       " 'go',\n",
       " 'carrieunderwood',\n",
       " 'sorry',\n",
       " 'mary',\n",
       " 'martin',\n",
       " 'first',\n",
       " 'love',\n",
       " 'three',\n",
       " 'really',\n",
       " 'cant',\n",
       " 'beat',\n",
       " 'classic',\n",
       " 'flight',\n",
       " 'dal',\n",
       " 'dca',\n",
       " 'tried',\n",
       " 'check',\n",
       " 'could',\n",
       " 'status',\n",
       " 'please',\n",
       " 'heyyyy',\n",
       " 'guyyyys',\n",
       " 'trying',\n",
       " 'get',\n",
       " 'hour',\n",
       " 'someone',\n",
       " 'call',\n",
       " 'please',\n",
       " 'hi',\n",
       " 'virgin',\n",
       " 'im',\n",
       " 'hold',\n",
       " 'minute',\n",
       " 'earlier',\n",
       " 'flight',\n",
       " 'la',\n",
       " 'nyc',\n",
       " 'tonight',\n",
       " 'earlier',\n",
       " 'congrats',\n",
       " 'winning',\n",
       " 'award',\n",
       " 'best',\n",
       " 'deal',\n",
       " 'airline',\n",
       " 'u',\n",
       " 'http',\n",
       " 'everything',\n",
       " 'fine',\n",
       " 'lost',\n",
       " 'bag',\n",
       " 'need',\n",
       " 'change',\n",
       " 'reservation',\n",
       " 'virgin',\n",
       " 'credit',\n",
       " 'card',\n",
       " 'need',\n",
       " 'modify',\n",
       " 'phone',\n",
       " 'waive',\n",
       " 'change',\n",
       " 'fee',\n",
       " 'online',\n",
       " 'emailed',\n",
       " 'customer',\n",
       " 'service',\n",
       " 'team',\n",
       " 'let',\n",
       " 'know',\n",
       " 'need',\n",
       " 'tracking',\n",
       " 'number',\n",
       " 'hi',\n",
       " 'booked',\n",
       " 'flight',\n",
       " 'need',\n",
       " 'add',\n",
       " 'baggage',\n",
       " 'airline',\n",
       " 'awesome',\n",
       " 'lax',\n",
       " 'loft',\n",
       " 'need',\n",
       " 'step',\n",
       " 'game',\n",
       " 'dirty',\n",
       " 'table',\n",
       " 'floor',\n",
       " 'http',\n",
       " 'worried',\n",
       " 'great',\n",
       " 'ride',\n",
       " 'new',\n",
       " 'plane',\n",
       " 'great',\n",
       " 'crew',\n",
       " 'airline',\n",
       " 'like',\n",
       " 'awesome',\n",
       " 'flew',\n",
       " 'yall',\n",
       " 'sat',\n",
       " 'morning',\n",
       " 'way',\n",
       " 'correct',\n",
       " 'bill',\n",
       " 'watch',\n",
       " 'best',\n",
       " 'student',\n",
       " 'film',\n",
       " 'country',\n",
       " 'foot',\n",
       " 'http',\n",
       " 'first',\n",
       " 'time',\n",
       " 'flying',\n",
       " 'different',\n",
       " 'medium',\n",
       " 'bag',\n",
       " 'thanks',\n",
       " 'going',\n",
       " 'customer',\n",
       " 'service',\n",
       " 'anyway',\n",
       " 'speak',\n",
       " 'human',\n",
       " 'asap',\n",
       " 'thank',\n",
       " 'happened',\n",
       " 'doom',\n",
       " 'cant',\n",
       " 'supp',\n",
       " 'biz',\n",
       " 'traveler',\n",
       " 'like',\n",
       " 'customer',\n",
       " 'service',\n",
       " 'like',\n",
       " 'neverflyvirginforbusiness',\n",
       " 'ive',\n",
       " 'applied',\n",
       " 'member',\n",
       " 'inflight',\n",
       " 'crew',\n",
       " 'team',\n",
       " 'im',\n",
       " 'interested',\n",
       " 'flightattendant',\n",
       " 'dreampath',\n",
       " 'youre',\n",
       " 'best',\n",
       " 'whenever',\n",
       " 'begrudgingly',\n",
       " 'use',\n",
       " 'airline',\n",
       " 'im',\n",
       " 'delayed',\n",
       " 'late',\n",
       " 'flight',\n",
       " 'interesting',\n",
       " 'flying',\n",
       " 'cancelled',\n",
       " 'flight',\n",
       " 'next',\n",
       " 'four',\n",
       " 'flight',\n",
       " 'neverflyvirginforbusiness',\n",
       " 'disappointing',\n",
       " 'experience',\n",
       " 'shared',\n",
       " 'every',\n",
       " 'business',\n",
       " 'traveler',\n",
       " 'meet',\n",
       " 'neverflyvirgin',\n",
       " 'trouble',\n",
       " 'adding',\n",
       " 'flight',\n",
       " 'wife',\n",
       " 'booked',\n",
       " 'elevate',\n",
       " 'account',\n",
       " 'help',\n",
       " 'http',\n",
       " 'cant',\n",
       " 'bring',\n",
       " 'reservation',\n",
       " 'online',\n",
       " 'using',\n",
       " 'flight',\n",
       " 'booking',\n",
       " 'problem',\n",
       " 'code',\n",
       " 'random',\n",
       " 'q',\n",
       " 'whats',\n",
       " 'distribution',\n",
       " 'elevate',\n",
       " 'avatar',\n",
       " 'bet',\n",
       " 'kitty',\n",
       " 'disproportionate',\n",
       " 'share',\n",
       " 'http',\n",
       " 'lt',\n",
       " 'flying',\n",
       " 'va',\n",
       " 'life',\n",
       " 'happens',\n",
       " 'trying',\n",
       " 'change',\n",
       " 'trip',\n",
       " 'jperhi',\n",
       " 'home',\n",
       " 'page',\n",
       " 'let',\n",
       " 'site',\n",
       " 'back',\n",
       " 'rnp',\n",
       " 'yeah',\n",
       " 'know',\n",
       " 'hi',\n",
       " 'get',\n",
       " 'point',\n",
       " 'elevate',\n",
       " 'account',\n",
       " 'recent',\n",
       " 'flight',\n",
       " 'add',\n",
       " 'flight',\n",
       " 'point',\n",
       " 'account',\n",
       " 'like',\n",
       " 'tv',\n",
       " 'interesting',\n",
       " 'video',\n",
       " 'disappointed',\n",
       " 'cancelled',\n",
       " 'flightled',\n",
       " 'flight',\n",
       " 'flight',\n",
       " 'went',\n",
       " 'jfk',\n",
       " 'saturday',\n",
       " 'landed',\n",
       " 'lax',\n",
       " 'hour',\n",
       " 'late',\n",
       " 'flight',\n",
       " 'bag',\n",
       " 'check',\n",
       " 'business',\n",
       " 'travel',\n",
       " 'friendly',\n",
       " 'nomorevirgin',\n",
       " 'flight',\n",
       " 'redirected',\n",
       " 'website',\n",
       " 'btw',\n",
       " 'new',\n",
       " 'website',\n",
       " 'isnt',\n",
       " 'great',\n",
       " 'user',\n",
       " 'experience',\n",
       " 'time',\n",
       " 'another',\n",
       " 'redesign',\n",
       " 'cant',\n",
       " 'check',\n",
       " 'add',\n",
       " 'bag',\n",
       " 'website',\n",
       " 'isnt',\n",
       " 'working',\n",
       " 'ive',\n",
       " 'tried',\n",
       " 'desktop',\n",
       " 'mobile',\n",
       " 'http',\n",
       " 'let',\n",
       " 'scanned',\n",
       " 'passenger',\n",
       " 'leave',\n",
       " 'plane',\n",
       " 'told',\n",
       " 'someone',\n",
       " 'remove',\n",
       " 'bag',\n",
       " 'class',\n",
       " 'bin',\n",
       " 'uncomfortable',\n",
       " 'phone',\n",
       " 'number',\n",
       " 'cant',\n",
       " 'find',\n",
       " 'call',\n",
       " 'flight',\n",
       " 'reservation',\n",
       " 'anyone',\n",
       " 'anything',\n",
       " 'today',\n",
       " 'website',\n",
       " 'useless',\n",
       " 'one',\n",
       " 'answering',\n",
       " 'phone',\n",
       " 'trying',\n",
       " 'add',\n",
       " 'boy',\n",
       " 'prince',\n",
       " 'ressie',\n",
       " 'sf',\n",
       " 'thursday',\n",
       " 'lax',\n",
       " 'http',\n",
       " 'must',\n",
       " 'traveler',\n",
       " 'miss',\n",
       " 'flight',\n",
       " 'late',\n",
       " 'flight',\n",
       " 'check',\n",
       " 'bag',\n",
       " 'missed',\n",
       " 'morning',\n",
       " 'appointment',\n",
       " 'lost',\n",
       " 'business',\n",
       " 'check',\n",
       " 'new',\n",
       " 'music',\n",
       " 'http',\n",
       " 'hows',\n",
       " 'direct',\n",
       " 'flight',\n",
       " 'gt',\n",
       " 'sfo',\n",
       " 'unexpected',\n",
       " 'layover',\n",
       " 'vega',\n",
       " 'fuel',\n",
       " 'yet',\n",
       " 'peep',\n",
       " 'next',\n",
       " 'bought',\n",
       " 'vega',\n",
       " 'flight',\n",
       " 'sneaky',\n",
       " 'late',\n",
       " 'flight',\n",
       " 'bag',\n",
       " 'check',\n",
       " 'lost',\n",
       " 'business',\n",
       " 'missed',\n",
       " 'flight',\n",
       " 'apt',\n",
       " 'three',\n",
       " 'people',\n",
       " 'flight',\n",
       " 'exp',\n",
       " 'amazing',\n",
       " 'customer',\n",
       " 'service',\n",
       " 'raeann',\n",
       " 'sf',\n",
       " 'shes',\n",
       " 'best',\n",
       " 'customerservice',\n",
       " 'virginamerica',\n",
       " 'flying',\n",
       " 'called',\n",
       " 'service',\n",
       " 'line',\n",
       " 'hung',\n",
       " 'awesome',\n",
       " 'sarcasm',\n",
       " 'site',\n",
       " 'tripping',\n",
       " 'im',\n",
       " 'trying',\n",
       " 'check',\n",
       " 'im',\n",
       " 'getting',\n",
       " 'plain',\n",
       " 'text',\n",
       " 'version',\n",
       " 'reluctant',\n",
       " 'enter',\n",
       " 'card',\n",
       " 'info',\n",
       " 'scheduled',\n",
       " 'sfo',\n",
       " 'dal',\n",
       " 'flight',\n",
       " 'today',\n",
       " 'changed',\n",
       " 'due',\n",
       " 'weather',\n",
       " 'look',\n",
       " 'like',\n",
       " 'flight',\n",
       " 'still',\n",
       " 'getaway',\n",
       " 'deal',\n",
       " 'may',\n",
       " 'lot',\n",
       " 'cool',\n",
       " 'city',\n",
       " 'http',\n",
       " 'cheapflights',\n",
       " 'farecompare',\n",
       " 'getaway',\n",
       " 'deal',\n",
       " 'may',\n",
       " 'lot',\n",
       " 'cool',\n",
       " 'city',\n",
       " 'http',\n",
       " 'cheapflights',\n",
       " 'farecompare',\n",
       " 'getaway',\n",
       " 'deal',\n",
       " 'may',\n",
       " 'lot',\n",
       " 'cool',\n",
       " 'city',\n",
       " 'http',\n",
       " 'cheapflights',\n",
       " 'farecompare',\n",
       " 'getaway',\n",
       " 'deal',\n",
       " 'may',\n",
       " 'lot',\n",
       " 'cool',\n",
       " 'city',\n",
       " 'http',\n",
       " 'cheapflights',\n",
       " 'farecompare',\n",
       " 'great',\n",
       " 'week',\n",
       " 'come',\n",
       " 'back',\n",
       " 'phl',\n",
       " 'already',\n",
       " 'need',\n",
       " 'take',\n",
       " 'u',\n",
       " 'horrible',\n",
       " 'cold',\n",
       " 'pleasecomeback',\n",
       " 'http',\n",
       " 'concerned',\n",
       " 'fly',\n",
       " 'plane',\n",
       " 'need',\n",
       " 'delayed',\n",
       " 'due',\n",
       " 'tech',\n",
       " 'stop',\n",
       " 'best',\n",
       " 'airline',\n",
       " 'flown',\n",
       " 'change',\n",
       " 'reservation',\n",
       " 'helpful',\n",
       " 'representative',\n",
       " 'amp',\n",
       " 'comfortable',\n",
       " 'flying',\n",
       " 'experience',\n",
       " 'another',\n",
       " 'rep',\n",
       " 'kicked',\n",
       " 'butt',\n",
       " 'naelah',\n",
       " 'represents',\n",
       " 'team',\n",
       " 'beautifully',\n",
       " 'thank',\n",
       " 'beautiful',\n",
       " 'design',\n",
       " 'right',\n",
       " 'cool',\n",
       " 'still',\n",
       " 'book',\n",
       " 'ticket',\n",
       " 'secure',\n",
       " 'love',\n",
       " 'team',\n",
       " 'running',\n",
       " 'gate',\n",
       " 'la',\n",
       " 'tonight',\n",
       " 'waited',\n",
       " 'delayed',\n",
       " 'flight',\n",
       " 'kept',\n",
       " 'thing',\n",
       " 'entertaining',\n",
       " 'use',\n",
       " 'another',\n",
       " 'browser',\n",
       " 'amp',\n",
       " 'brand',\n",
       " 'reputation',\n",
       " 'built',\n",
       " 'tech',\n",
       " 'response',\n",
       " 'doesnt',\n",
       " 'compatible',\n",
       " 'website',\n",
       " 'flight',\n",
       " 'flight',\n",
       " 'booking',\n",
       " 'problem',\n",
       " ...]"
      ]
     },
     "execution_count": 19,
     "metadata": {},
     "output_type": "execute_result"
    }
   ],
   "source": [
    "\" \".join(df2[\"text\"]).split()"
   ]
  },
  {
   "cell_type": "code",
   "execution_count": 139,
   "metadata": {
    "ExecuteTime": {
     "end_time": "2022-03-01T05:09:51.342299Z",
     "start_time": "2022-03-01T05:09:51.323950Z"
    }
   },
   "outputs": [
    {
     "data": {
      "text/html": [
       "<div>\n",
       "<style scoped>\n",
       "    .dataframe tbody tr th:only-of-type {\n",
       "        vertical-align: middle;\n",
       "    }\n",
       "\n",
       "    .dataframe tbody tr th {\n",
       "        vertical-align: top;\n",
       "    }\n",
       "\n",
       "    .dataframe thead th {\n",
       "        text-align: right;\n",
       "    }\n",
       "</style>\n",
       "<table border=\"1\" class=\"dataframe\">\n",
       "  <thead>\n",
       "    <tr style=\"text-align: right;\">\n",
       "      <th></th>\n",
       "      <th>airline_sentiment</th>\n",
       "      <th>text</th>\n",
       "    </tr>\n",
       "  </thead>\n",
       "  <tbody>\n",
       "    <tr>\n",
       "      <th>0</th>\n",
       "      <td>neutral</td>\n",
       "      <td>said</td>\n",
       "    </tr>\n",
       "    <tr>\n",
       "      <th>1</th>\n",
       "      <td>positive</td>\n",
       "      <td>plus youve added commercial experience tacky</td>\n",
       "    </tr>\n",
       "    <tr>\n",
       "      <th>2</th>\n",
       "      <td>neutral</td>\n",
       "      <td>didnt today must mean need take another trip</td>\n",
       "    </tr>\n",
       "    <tr>\n",
       "      <th>3</th>\n",
       "      <td>negative</td>\n",
       "      <td>really aggressive blast obnoxious entertainmen...</td>\n",
       "    </tr>\n",
       "    <tr>\n",
       "      <th>4</th>\n",
       "      <td>negative</td>\n",
       "      <td>really big bad thing</td>\n",
       "    </tr>\n",
       "  </tbody>\n",
       "</table>\n",
       "</div>"
      ],
      "text/plain": [
       "  airline_sentiment                                               text\n",
       "0           neutral                                               said\n",
       "1          positive       plus youve added commercial experience tacky\n",
       "2           neutral       didnt today must mean need take another trip\n",
       "3          negative  really aggressive blast obnoxious entertainmen...\n",
       "4          negative                               really big bad thing"
      ]
     },
     "execution_count": 139,
     "metadata": {},
     "output_type": "execute_result"
    }
   ],
   "source": [
    "# Removing all unnecessary columns.\n",
    "df2 =df2[[\"airline_sentiment\", \"text\"]]\n",
    "df2.head()"
   ]
  },
  {
   "cell_type": "code",
   "execution_count": 140,
   "metadata": {
    "ExecuteTime": {
     "end_time": "2022-03-01T05:10:09.717834Z",
     "start_time": "2022-03-01T05:10:09.372384Z"
    }
   },
   "outputs": [
    {
     "data": {
      "text/plain": [
       "[('flight', 4544),\n",
       " ('get', 1374),\n",
       " ('http', 1210),\n",
       " ('hour', 1138),\n",
       " ('thanks', 1078),\n",
       " ('cancelled', 1056),\n",
       " ('u', 994),\n",
       " ('service', 989),\n",
       " ('time', 946),\n",
       " ('customer', 934),\n",
       " ('help', 869),\n",
       " ('bag', 766),\n",
       " ('im', 743),\n",
       " ('plane', 725),\n",
       " ('amp', 683),\n",
       " ('hold', 642),\n",
       " ('need', 633),\n",
       " ('thank', 602),\n",
       " ('still', 580),\n",
       " ('one', 580)]"
      ]
     },
     "execution_count": 140,
     "metadata": {},
     "output_type": "execute_result"
    }
   ],
   "source": [
    "# Counting most common words.\n",
    "corpus = \" \".join(df2[\"text\"])\n",
    "tokens_count = Counter(word_tokenize(corpus)).most_common(20)\n",
    "tokens_count"
   ]
  },
  {
   "cell_type": "code",
   "execution_count": 167,
   "metadata": {
    "ExecuteTime": {
     "end_time": "2022-03-01T05:17:17.166262Z",
     "start_time": "2022-03-01T05:17:16.938097Z"
    }
   },
   "outputs": [
    {
     "data": {
      "image/png": "[encoded data removed]",
      "text/plain": [
       "<Figure size 1152x432 with 1 Axes>"
      ]
     },
     "metadata": {},
     "output_type": "display_data"
    }
   ],
   "source": [
    "# Visaul of most common words.\n",
    "dic= dict(tokens_count)\n",
    "fig, ax = plt.subplots(figsize=(16,6))\n",
    "ax.bar(dic.keys(),dic.values())\n",
    "ax.set_title('Most Common Words',fontsize=18)\n",
    "plt.xlabel('Words',fontsize=14)\n",
    "plt.ylabel('Count',fontsize=14)\n",
    "ax = plt.gca()\n",
    "ax.tick_params(labelsize = 14)\n",
    "plt.xticks(rotation=45)\n",
    "plt.show()\n"
   ]
  },
  {
   "cell_type": "markdown",
   "metadata": {},
   "source": [
    "## Train Test Split"
   ]
  },
  {
   "cell_type": "code",
   "execution_count": 28,
   "metadata": {
    "ExecuteTime": {
     "end_time": "2022-03-01T01:33:24.197356Z",
     "start_time": "2022-03-01T01:33:24.182889Z"
    }
   },
   "outputs": [],
   "source": [
    "from sklearn.model_selection import train_test_split"
   ]
  },
  {
   "cell_type": "code",
   "execution_count": 168,
   "metadata": {
    "ExecuteTime": {
     "end_time": "2022-03-01T05:17:33.912846Z",
     "start_time": "2022-03-01T05:17:33.894494Z"
    }
   },
   "outputs": [],
   "source": [
    "# Train test split.\n",
    "X = df2[\"text\"]\n",
    "y= df2[\"airline_sentiment\"]\n",
    "X_train, X_test, y_train, y_test = train_test_split(X, y, test_size=0.2, stratify=y, random_state=101)"
   ]
  },
  {
   "cell_type": "markdown",
   "metadata": {},
   "source": [
    "## Count Vectorizer"
   ]
  },
  {
   "cell_type": "code",
   "execution_count": 30,
   "metadata": {
    "ExecuteTime": {
     "end_time": "2022-03-01T01:33:24.228504Z",
     "start_time": "2022-03-01T01:33:24.213923Z"
    }
   },
   "outputs": [],
   "source": [
    "from sklearn.feature_extraction.text import CountVectorizer"
   ]
  },
  {
   "cell_type": "code",
   "execution_count": 31,
   "metadata": {
    "ExecuteTime": {
     "end_time": "2022-03-01T01:33:24.351517Z",
     "start_time": "2022-03-01T01:33:24.229973Z"
    }
   },
   "outputs": [],
   "source": [
    "# Initializing Count Vectorizer.\n",
    "vectorizer = CountVectorizer()  \n",
    "X_train_count = vectorizer.fit_transform(X_train) \n",
    "X_test_count = vectorizer.transform(X_test) "
   ]
  },
  {
   "cell_type": "code",
   "execution_count": 32,
   "metadata": {
    "ExecuteTime": {
     "end_time": "2022-03-01T01:33:24.412994Z",
     "start_time": "2022-03-01T01:33:24.352484Z"
    }
   },
   "outputs": [
    {
     "data": {
      "text/plain": [
       "array([[0, 0, 0, ..., 0, 0, 0],\n",
       "       [0, 0, 0, ..., 0, 0, 0],\n",
       "       [0, 0, 0, ..., 0, 0, 0],\n",
       "       ...,\n",
       "       [0, 0, 0, ..., 0, 0, 0],\n",
       "       [0, 0, 0, ..., 0, 0, 0],\n",
       "       [1, 0, 0, ..., 0, 0, 0]], dtype=int64)"
      ]
     },
     "execution_count": 32,
     "metadata": {},
     "output_type": "execute_result"
    }
   ],
   "source": [
    "# Looking train set into array.\n",
    "X_train_count.toarray()"
   ]
  },
  {
   "cell_type": "code",
   "execution_count": 169,
   "metadata": {
    "ExecuteTime": {
     "end_time": "2022-03-01T05:18:33.940933Z",
     "start_time": "2022-03-01T05:18:33.831814Z"
    }
   },
   "outputs": [
    {
     "data": {
      "text/html": [
       "<div>\n",
       "<style scoped>\n",
       "    .dataframe tbody tr th:only-of-type {\n",
       "        vertical-align: middle;\n",
       "    }\n",
       "\n",
       "    .dataframe tbody tr th {\n",
       "        vertical-align: top;\n",
       "    }\n",
       "\n",
       "    .dataframe thead th {\n",
       "        text-align: right;\n",
       "    }\n",
       "</style>\n",
       "<table border=\"1\" class=\"dataframe\">\n",
       "  <thead>\n",
       "    <tr style=\"text-align: right;\">\n",
       "      <th></th>\n",
       "      <th>aa</th>\n",
       "      <th>aaadvantage</th>\n",
       "      <th>aaalwayslate</th>\n",
       "      <th>aadavantage</th>\n",
       "      <th>aadelay</th>\n",
       "      <th>aadv</th>\n",
       "      <th>aadvantage</th>\n",
       "      <th>aafail</th>\n",
       "      <th>aaron</th>\n",
       "      <th>aateam</th>\n",
       "      <th>ab</th>\n",
       "      <th>aback</th>\n",
       "      <th>abandoned</th>\n",
       "      <th>abandonment</th>\n",
       "      <th>abassinet</th>\n",
       "      <th>abbreve</th>\n",
       "      <th>abc</th>\n",
       "      <th>abcletjetbluestreamfeed</th>\n",
       "      <th>abcnews</th>\n",
       "      <th>abducted</th>\n",
       "      <th>ability</th>\n",
       "      <th>able</th>\n",
       "      <th>aboard</th>\n",
       "      <th>aboout</th>\n",
       "      <th>abounds</th>\n",
       "      <th>...</th>\n",
       "      <th>yousuck</th>\n",
       "      <th>yout</th>\n",
       "      <th>youth</th>\n",
       "      <th>youve</th>\n",
       "      <th>yponthebeat</th>\n",
       "      <th>yr</th>\n",
       "      <th>ystrdy</th>\n",
       "      <th>yuck</th>\n",
       "      <th>yucki</th>\n",
       "      <th>yuma</th>\n",
       "      <th>yummy</th>\n",
       "      <th>yup</th>\n",
       "      <th>yvonne</th>\n",
       "      <th>yvr</th>\n",
       "      <th>yxe</th>\n",
       "      <th>yyc</th>\n",
       "      <th>yyj</th>\n",
       "      <th>yyz</th>\n",
       "      <th>zabsonre</th>\n",
       "      <th>zero</th>\n",
       "      <th>zfv</th>\n",
       "      <th>zipper</th>\n",
       "      <th>zone</th>\n",
       "      <th>zrh</th>\n",
       "      <th>zurich</th>\n",
       "    </tr>\n",
       "  </thead>\n",
       "  <tbody>\n",
       "    <tr>\n",
       "      <th>0</th>\n",
       "      <td>0</td>\n",
       "      <td>0</td>\n",
       "      <td>0</td>\n",
       "      <td>0</td>\n",
       "      <td>0</td>\n",
       "      <td>0</td>\n",
       "      <td>0</td>\n",
       "      <td>0</td>\n",
       "      <td>0</td>\n",
       "      <td>0</td>\n",
       "      <td>0</td>\n",
       "      <td>0</td>\n",
       "      <td>0</td>\n",
       "      <td>0</td>\n",
       "      <td>0</td>\n",
       "      <td>0</td>\n",
       "      <td>0</td>\n",
       "      <td>0</td>\n",
       "      <td>0</td>\n",
       "      <td>0</td>\n",
       "      <td>0</td>\n",
       "      <td>0</td>\n",
       "      <td>0</td>\n",
       "      <td>0</td>\n",
       "      <td>0</td>\n",
       "      <td>...</td>\n",
       "      <td>0</td>\n",
       "      <td>0</td>\n",
       "      <td>0</td>\n",
       "      <td>0</td>\n",
       "      <td>0</td>\n",
       "      <td>0</td>\n",
       "      <td>0</td>\n",
       "      <td>0</td>\n",
       "      <td>0</td>\n",
       "      <td>0</td>\n",
       "      <td>0</td>\n",
       "      <td>0</td>\n",
       "      <td>0</td>\n",
       "      <td>0</td>\n",
       "      <td>0</td>\n",
       "      <td>0</td>\n",
       "      <td>0</td>\n",
       "      <td>0</td>\n",
       "      <td>0</td>\n",
       "      <td>0</td>\n",
       "      <td>0</td>\n",
       "      <td>0</td>\n",
       "      <td>0</td>\n",
       "      <td>0</td>\n",
       "      <td>0</td>\n",
       "    </tr>\n",
       "    <tr>\n",
       "      <th>1</th>\n",
       "      <td>0</td>\n",
       "      <td>0</td>\n",
       "      <td>0</td>\n",
       "      <td>0</td>\n",
       "      <td>0</td>\n",
       "      <td>0</td>\n",
       "      <td>0</td>\n",
       "      <td>0</td>\n",
       "      <td>0</td>\n",
       "      <td>0</td>\n",
       "      <td>0</td>\n",
       "      <td>0</td>\n",
       "      <td>0</td>\n",
       "      <td>0</td>\n",
       "      <td>0</td>\n",
       "      <td>0</td>\n",
       "      <td>0</td>\n",
       "      <td>0</td>\n",
       "      <td>0</td>\n",
       "      <td>0</td>\n",
       "      <td>0</td>\n",
       "      <td>0</td>\n",
       "      <td>0</td>\n",
       "      <td>0</td>\n",
       "      <td>0</td>\n",
       "      <td>...</td>\n",
       "      <td>0</td>\n",
       "      <td>0</td>\n",
       "      <td>0</td>\n",
       "      <td>0</td>\n",
       "      <td>0</td>\n",
       "      <td>0</td>\n",
       "      <td>0</td>\n",
       "      <td>0</td>\n",
       "      <td>0</td>\n",
       "      <td>0</td>\n",
       "      <td>0</td>\n",
       "      <td>0</td>\n",
       "      <td>0</td>\n",
       "      <td>0</td>\n",
       "      <td>0</td>\n",
       "      <td>0</td>\n",
       "      <td>0</td>\n",
       "      <td>0</td>\n",
       "      <td>0</td>\n",
       "      <td>0</td>\n",
       "      <td>0</td>\n",
       "      <td>0</td>\n",
       "      <td>0</td>\n",
       "      <td>0</td>\n",
       "      <td>0</td>\n",
       "    </tr>\n",
       "    <tr>\n",
       "      <th>2</th>\n",
       "      <td>0</td>\n",
       "      <td>0</td>\n",
       "      <td>0</td>\n",
       "      <td>0</td>\n",
       "      <td>0</td>\n",
       "      <td>0</td>\n",
       "      <td>0</td>\n",
       "      <td>0</td>\n",
       "      <td>0</td>\n",
       "      <td>0</td>\n",
       "      <td>0</td>\n",
       "      <td>0</td>\n",
       "      <td>0</td>\n",
       "      <td>0</td>\n",
       "      <td>0</td>\n",
       "      <td>0</td>\n",
       "      <td>0</td>\n",
       "      <td>0</td>\n",
       "      <td>0</td>\n",
       "      <td>0</td>\n",
       "      <td>0</td>\n",
       "      <td>0</td>\n",
       "      <td>0</td>\n",
       "      <td>0</td>\n",
       "      <td>0</td>\n",
       "      <td>...</td>\n",
       "      <td>0</td>\n",
       "      <td>0</td>\n",
       "      <td>0</td>\n",
       "      <td>0</td>\n",
       "      <td>0</td>\n",
       "      <td>0</td>\n",
       "      <td>0</td>\n",
       "      <td>0</td>\n",
       "      <td>0</td>\n",
       "      <td>0</td>\n",
       "      <td>0</td>\n",
       "      <td>0</td>\n",
       "      <td>0</td>\n",
       "      <td>0</td>\n",
       "      <td>0</td>\n",
       "      <td>0</td>\n",
       "      <td>0</td>\n",
       "      <td>0</td>\n",
       "      <td>0</td>\n",
       "      <td>0</td>\n",
       "      <td>0</td>\n",
       "      <td>0</td>\n",
       "      <td>0</td>\n",
       "      <td>0</td>\n",
       "      <td>0</td>\n",
       "    </tr>\n",
       "    <tr>\n",
       "      <th>3</th>\n",
       "      <td>0</td>\n",
       "      <td>0</td>\n",
       "      <td>0</td>\n",
       "      <td>0</td>\n",
       "      <td>0</td>\n",
       "      <td>0</td>\n",
       "      <td>0</td>\n",
       "      <td>0</td>\n",
       "      <td>0</td>\n",
       "      <td>0</td>\n",
       "      <td>0</td>\n",
       "      <td>0</td>\n",
       "      <td>0</td>\n",
       "      <td>0</td>\n",
       "      <td>0</td>\n",
       "      <td>0</td>\n",
       "      <td>0</td>\n",
       "      <td>0</td>\n",
       "      <td>0</td>\n",
       "      <td>0</td>\n",
       "      <td>0</td>\n",
       "      <td>0</td>\n",
       "      <td>0</td>\n",
       "      <td>0</td>\n",
       "      <td>0</td>\n",
       "      <td>...</td>\n",
       "      <td>0</td>\n",
       "      <td>0</td>\n",
       "      <td>0</td>\n",
       "      <td>0</td>\n",
       "      <td>0</td>\n",
       "      <td>0</td>\n",
       "      <td>0</td>\n",
       "      <td>0</td>\n",
       "      <td>0</td>\n",
       "      <td>0</td>\n",
       "      <td>0</td>\n",
       "      <td>0</td>\n",
       "      <td>0</td>\n",
       "      <td>0</td>\n",
       "      <td>0</td>\n",
       "      <td>0</td>\n",
       "      <td>0</td>\n",
       "      <td>0</td>\n",
       "      <td>0</td>\n",
       "      <td>0</td>\n",
       "      <td>0</td>\n",
       "      <td>0</td>\n",
       "      <td>0</td>\n",
       "      <td>0</td>\n",
       "      <td>0</td>\n",
       "    </tr>\n",
       "    <tr>\n",
       "      <th>4</th>\n",
       "      <td>0</td>\n",
       "      <td>0</td>\n",
       "      <td>0</td>\n",
       "      <td>0</td>\n",
       "      <td>0</td>\n",
       "      <td>0</td>\n",
       "      <td>0</td>\n",
       "      <td>0</td>\n",
       "      <td>0</td>\n",
       "      <td>0</td>\n",
       "      <td>0</td>\n",
       "      <td>0</td>\n",
       "      <td>0</td>\n",
       "      <td>0</td>\n",
       "      <td>0</td>\n",
       "      <td>0</td>\n",
       "      <td>0</td>\n",
       "      <td>0</td>\n",
       "      <td>0</td>\n",
       "      <td>0</td>\n",
       "      <td>0</td>\n",
       "      <td>0</td>\n",
       "      <td>0</td>\n",
       "      <td>0</td>\n",
       "      <td>0</td>\n",
       "      <td>...</td>\n",
       "      <td>0</td>\n",
       "      <td>0</td>\n",
       "      <td>0</td>\n",
       "      <td>0</td>\n",
       "      <td>0</td>\n",
       "      <td>0</td>\n",
       "      <td>0</td>\n",
       "      <td>0</td>\n",
       "      <td>0</td>\n",
       "      <td>0</td>\n",
       "      <td>0</td>\n",
       "      <td>0</td>\n",
       "      <td>0</td>\n",
       "      <td>0</td>\n",
       "      <td>0</td>\n",
       "      <td>0</td>\n",
       "      <td>0</td>\n",
       "      <td>0</td>\n",
       "      <td>0</td>\n",
       "      <td>0</td>\n",
       "      <td>0</td>\n",
       "      <td>0</td>\n",
       "      <td>0</td>\n",
       "      <td>0</td>\n",
       "      <td>0</td>\n",
       "    </tr>\n",
       "    <tr>\n",
       "      <th>...</th>\n",
       "      <td>...</td>\n",
       "      <td>...</td>\n",
       "      <td>...</td>\n",
       "      <td>...</td>\n",
       "      <td>...</td>\n",
       "      <td>...</td>\n",
       "      <td>...</td>\n",
       "      <td>...</td>\n",
       "      <td>...</td>\n",
       "      <td>...</td>\n",
       "      <td>...</td>\n",
       "      <td>...</td>\n",
       "      <td>...</td>\n",
       "      <td>...</td>\n",
       "      <td>...</td>\n",
       "      <td>...</td>\n",
       "      <td>...</td>\n",
       "      <td>...</td>\n",
       "      <td>...</td>\n",
       "      <td>...</td>\n",
       "      <td>...</td>\n",
       "      <td>...</td>\n",
       "      <td>...</td>\n",
       "      <td>...</td>\n",
       "      <td>...</td>\n",
       "      <td>...</td>\n",
       "      <td>...</td>\n",
       "      <td>...</td>\n",
       "      <td>...</td>\n",
       "      <td>...</td>\n",
       "      <td>...</td>\n",
       "      <td>...</td>\n",
       "      <td>...</td>\n",
       "      <td>...</td>\n",
       "      <td>...</td>\n",
       "      <td>...</td>\n",
       "      <td>...</td>\n",
       "      <td>...</td>\n",
       "      <td>...</td>\n",
       "      <td>...</td>\n",
       "      <td>...</td>\n",
       "      <td>...</td>\n",
       "      <td>...</td>\n",
       "      <td>...</td>\n",
       "      <td>...</td>\n",
       "      <td>...</td>\n",
       "      <td>...</td>\n",
       "      <td>...</td>\n",
       "      <td>...</td>\n",
       "      <td>...</td>\n",
       "      <td>...</td>\n",
       "    </tr>\n",
       "    <tr>\n",
       "      <th>11707</th>\n",
       "      <td>0</td>\n",
       "      <td>0</td>\n",
       "      <td>0</td>\n",
       "      <td>0</td>\n",
       "      <td>0</td>\n",
       "      <td>0</td>\n",
       "      <td>0</td>\n",
       "      <td>0</td>\n",
       "      <td>0</td>\n",
       "      <td>0</td>\n",
       "      <td>0</td>\n",
       "      <td>0</td>\n",
       "      <td>0</td>\n",
       "      <td>0</td>\n",
       "      <td>0</td>\n",
       "      <td>0</td>\n",
       "      <td>0</td>\n",
       "      <td>0</td>\n",
       "      <td>0</td>\n",
       "      <td>0</td>\n",
       "      <td>0</td>\n",
       "      <td>0</td>\n",
       "      <td>0</td>\n",
       "      <td>0</td>\n",
       "      <td>0</td>\n",
       "      <td>...</td>\n",
       "      <td>0</td>\n",
       "      <td>0</td>\n",
       "      <td>0</td>\n",
       "      <td>0</td>\n",
       "      <td>0</td>\n",
       "      <td>0</td>\n",
       "      <td>0</td>\n",
       "      <td>0</td>\n",
       "      <td>0</td>\n",
       "      <td>0</td>\n",
       "      <td>0</td>\n",
       "      <td>0</td>\n",
       "      <td>0</td>\n",
       "      <td>0</td>\n",
       "      <td>0</td>\n",
       "      <td>0</td>\n",
       "      <td>0</td>\n",
       "      <td>0</td>\n",
       "      <td>0</td>\n",
       "      <td>0</td>\n",
       "      <td>0</td>\n",
       "      <td>0</td>\n",
       "      <td>0</td>\n",
       "      <td>0</td>\n",
       "      <td>0</td>\n",
       "    </tr>\n",
       "    <tr>\n",
       "      <th>11708</th>\n",
       "      <td>0</td>\n",
       "      <td>0</td>\n",
       "      <td>0</td>\n",
       "      <td>0</td>\n",
       "      <td>0</td>\n",
       "      <td>0</td>\n",
       "      <td>0</td>\n",
       "      <td>0</td>\n",
       "      <td>0</td>\n",
       "      <td>0</td>\n",
       "      <td>0</td>\n",
       "      <td>0</td>\n",
       "      <td>0</td>\n",
       "      <td>0</td>\n",
       "      <td>0</td>\n",
       "      <td>0</td>\n",
       "      <td>0</td>\n",
       "      <td>0</td>\n",
       "      <td>0</td>\n",
       "      <td>0</td>\n",
       "      <td>0</td>\n",
       "      <td>0</td>\n",
       "      <td>0</td>\n",
       "      <td>0</td>\n",
       "      <td>0</td>\n",
       "      <td>...</td>\n",
       "      <td>0</td>\n",
       "      <td>0</td>\n",
       "      <td>0</td>\n",
       "      <td>0</td>\n",
       "      <td>0</td>\n",
       "      <td>0</td>\n",
       "      <td>0</td>\n",
       "      <td>0</td>\n",
       "      <td>0</td>\n",
       "      <td>0</td>\n",
       "      <td>0</td>\n",
       "      <td>0</td>\n",
       "      <td>0</td>\n",
       "      <td>0</td>\n",
       "      <td>0</td>\n",
       "      <td>0</td>\n",
       "      <td>0</td>\n",
       "      <td>0</td>\n",
       "      <td>0</td>\n",
       "      <td>0</td>\n",
       "      <td>0</td>\n",
       "      <td>0</td>\n",
       "      <td>0</td>\n",
       "      <td>0</td>\n",
       "      <td>0</td>\n",
       "    </tr>\n",
       "    <tr>\n",
       "      <th>11709</th>\n",
       "      <td>0</td>\n",
       "      <td>0</td>\n",
       "      <td>0</td>\n",
       "      <td>0</td>\n",
       "      <td>0</td>\n",
       "      <td>0</td>\n",
       "      <td>0</td>\n",
       "      <td>0</td>\n",
       "      <td>0</td>\n",
       "      <td>0</td>\n",
       "      <td>0</td>\n",
       "      <td>0</td>\n",
       "      <td>0</td>\n",
       "      <td>0</td>\n",
       "      <td>0</td>\n",
       "      <td>0</td>\n",
       "      <td>0</td>\n",
       "      <td>0</td>\n",
       "      <td>0</td>\n",
       "      <td>0</td>\n",
       "      <td>0</td>\n",
       "      <td>0</td>\n",
       "      <td>0</td>\n",
       "      <td>0</td>\n",
       "      <td>0</td>\n",
       "      <td>...</td>\n",
       "      <td>0</td>\n",
       "      <td>0</td>\n",
       "      <td>0</td>\n",
       "      <td>0</td>\n",
       "      <td>0</td>\n",
       "      <td>0</td>\n",
       "      <td>0</td>\n",
       "      <td>0</td>\n",
       "      <td>0</td>\n",
       "      <td>0</td>\n",
       "      <td>0</td>\n",
       "      <td>0</td>\n",
       "      <td>0</td>\n",
       "      <td>0</td>\n",
       "      <td>0</td>\n",
       "      <td>0</td>\n",
       "      <td>0</td>\n",
       "      <td>0</td>\n",
       "      <td>0</td>\n",
       "      <td>0</td>\n",
       "      <td>0</td>\n",
       "      <td>0</td>\n",
       "      <td>0</td>\n",
       "      <td>0</td>\n",
       "      <td>0</td>\n",
       "    </tr>\n",
       "    <tr>\n",
       "      <th>11710</th>\n",
       "      <td>0</td>\n",
       "      <td>0</td>\n",
       "      <td>0</td>\n",
       "      <td>0</td>\n",
       "      <td>0</td>\n",
       "      <td>0</td>\n",
       "      <td>0</td>\n",
       "      <td>0</td>\n",
       "      <td>0</td>\n",
       "      <td>0</td>\n",
       "      <td>0</td>\n",
       "      <td>0</td>\n",
       "      <td>0</td>\n",
       "      <td>0</td>\n",
       "      <td>0</td>\n",
       "      <td>0</td>\n",
       "      <td>0</td>\n",
       "      <td>0</td>\n",
       "      <td>0</td>\n",
       "      <td>0</td>\n",
       "      <td>0</td>\n",
       "      <td>0</td>\n",
       "      <td>0</td>\n",
       "      <td>0</td>\n",
       "      <td>0</td>\n",
       "      <td>...</td>\n",
       "      <td>0</td>\n",
       "      <td>0</td>\n",
       "      <td>0</td>\n",
       "      <td>0</td>\n",
       "      <td>0</td>\n",
       "      <td>0</td>\n",
       "      <td>0</td>\n",
       "      <td>0</td>\n",
       "      <td>0</td>\n",
       "      <td>0</td>\n",
       "      <td>0</td>\n",
       "      <td>0</td>\n",
       "      <td>0</td>\n",
       "      <td>0</td>\n",
       "      <td>0</td>\n",
       "      <td>0</td>\n",
       "      <td>0</td>\n",
       "      <td>0</td>\n",
       "      <td>0</td>\n",
       "      <td>0</td>\n",
       "      <td>0</td>\n",
       "      <td>0</td>\n",
       "      <td>0</td>\n",
       "      <td>0</td>\n",
       "      <td>0</td>\n",
       "    </tr>\n",
       "    <tr>\n",
       "      <th>11711</th>\n",
       "      <td>1</td>\n",
       "      <td>0</td>\n",
       "      <td>0</td>\n",
       "      <td>0</td>\n",
       "      <td>0</td>\n",
       "      <td>0</td>\n",
       "      <td>0</td>\n",
       "      <td>0</td>\n",
       "      <td>0</td>\n",
       "      <td>0</td>\n",
       "      <td>0</td>\n",
       "      <td>0</td>\n",
       "      <td>0</td>\n",
       "      <td>0</td>\n",
       "      <td>0</td>\n",
       "      <td>0</td>\n",
       "      <td>0</td>\n",
       "      <td>0</td>\n",
       "      <td>0</td>\n",
       "      <td>0</td>\n",
       "      <td>0</td>\n",
       "      <td>0</td>\n",
       "      <td>0</td>\n",
       "      <td>0</td>\n",
       "      <td>0</td>\n",
       "      <td>...</td>\n",
       "      <td>0</td>\n",
       "      <td>0</td>\n",
       "      <td>0</td>\n",
       "      <td>0</td>\n",
       "      <td>0</td>\n",
       "      <td>0</td>\n",
       "      <td>0</td>\n",
       "      <td>0</td>\n",
       "      <td>0</td>\n",
       "      <td>0</td>\n",
       "      <td>0</td>\n",
       "      <td>0</td>\n",
       "      <td>0</td>\n",
       "      <td>0</td>\n",
       "      <td>0</td>\n",
       "      <td>0</td>\n",
       "      <td>0</td>\n",
       "      <td>0</td>\n",
       "      <td>0</td>\n",
       "      <td>0</td>\n",
       "      <td>0</td>\n",
       "      <td>0</td>\n",
       "      <td>0</td>\n",
       "      <td>0</td>\n",
       "      <td>0</td>\n",
       "    </tr>\n",
       "  </tbody>\n",
       "</table>\n",
       "<p>11712 rows × 8796 columns</p>\n",
       "</div>"
      ],
      "text/plain": [
       "       aa  aaadvantage  aaalwayslate  aadavantage  aadelay  aadv  aadvantage  \\\n",
       "0       0            0             0            0        0     0           0   \n",
       "1       0            0             0            0        0     0           0   \n",
       "2       0            0             0            0        0     0           0   \n",
       "3       0            0             0            0        0     0           0   \n",
       "4       0            0             0            0        0     0           0   \n",
       "...    ..          ...           ...          ...      ...   ...         ...   \n",
       "11707   0            0             0            0        0     0           0   \n",
       "11708   0            0             0            0        0     0           0   \n",
       "11709   0            0             0            0        0     0           0   \n",
       "11710   0            0             0            0        0     0           0   \n",
       "11711   1            0             0            0        0     0           0   \n",
       "\n",
       "       aafail  aaron  aateam  ab  aback  abandoned  abandonment  abassinet  \\\n",
       "0           0      0       0   0      0          0            0          0   \n",
       "1           0      0       0   0      0          0            0          0   \n",
       "2           0      0       0   0      0          0            0          0   \n",
       "3           0      0       0   0      0          0            0          0   \n",
       "4           0      0       0   0      0          0            0          0   \n",
       "...       ...    ...     ...  ..    ...        ...          ...        ...   \n",
       "11707       0      0       0   0      0          0            0          0   \n",
       "11708       0      0       0   0      0          0            0          0   \n",
       "11709       0      0       0   0      0          0            0          0   \n",
       "11710       0      0       0   0      0          0            0          0   \n",
       "11711       0      0       0   0      0          0            0          0   \n",
       "\n",
       "       abbreve  abc  abcletjetbluestreamfeed  abcnews  abducted  ability  \\\n",
       "0            0    0                        0        0         0        0   \n",
       "1            0    0                        0        0         0        0   \n",
       "2            0    0                        0        0         0        0   \n",
       "3            0    0                        0        0         0        0   \n",
       "4            0    0                        0        0         0        0   \n",
       "...        ...  ...                      ...      ...       ...      ...   \n",
       "11707        0    0                        0        0         0        0   \n",
       "11708        0    0                        0        0         0        0   \n",
       "11709        0    0                        0        0         0        0   \n",
       "11710        0    0                        0        0         0        0   \n",
       "11711        0    0                        0        0         0        0   \n",
       "\n",
       "       able  aboard  aboout  abounds  ...  yousuck  yout  youth  youve  \\\n",
       "0         0       0       0        0  ...        0     0      0      0   \n",
       "1         0       0       0        0  ...        0     0      0      0   \n",
       "2         0       0       0        0  ...        0     0      0      0   \n",
       "3         0       0       0        0  ...        0     0      0      0   \n",
       "4         0       0       0        0  ...        0     0      0      0   \n",
       "...     ...     ...     ...      ...  ...      ...   ...    ...    ...   \n",
       "11707     0       0       0        0  ...        0     0      0      0   \n",
       "11708     0       0       0        0  ...        0     0      0      0   \n",
       "11709     0       0       0        0  ...        0     0      0      0   \n",
       "11710     0       0       0        0  ...        0     0      0      0   \n",
       "11711     0       0       0        0  ...        0     0      0      0   \n",
       "\n",
       "       yponthebeat  yr  ystrdy  yuck  yucki  yuma  yummy  yup  yvonne  yvr  \\\n",
       "0                0   0       0     0      0     0      0    0       0    0   \n",
       "1                0   0       0     0      0     0      0    0       0    0   \n",
       "2                0   0       0     0      0     0      0    0       0    0   \n",
       "3                0   0       0     0      0     0      0    0       0    0   \n",
       "4                0   0       0     0      0     0      0    0       0    0   \n",
       "...            ...  ..     ...   ...    ...   ...    ...  ...     ...  ...   \n",
       "11707            0   0       0     0      0     0      0    0       0    0   \n",
       "11708            0   0       0     0      0     0      0    0       0    0   \n",
       "11709            0   0       0     0      0     0      0    0       0    0   \n",
       "11710            0   0       0     0      0     0      0    0       0    0   \n",
       "11711            0   0       0     0      0     0      0    0       0    0   \n",
       "\n",
       "       yxe  yyc  yyj  yyz  zabsonre  zero  zfv  zipper  zone  zrh  zurich  \n",
       "0        0    0    0    0         0     0    0       0     0    0       0  \n",
       "1        0    0    0    0         0     0    0       0     0    0       0  \n",
       "2        0    0    0    0         0     0    0       0     0    0       0  \n",
       "3        0    0    0    0         0     0    0       0     0    0       0  \n",
       "4        0    0    0    0         0     0    0       0     0    0       0  \n",
       "...    ...  ...  ...  ...       ...   ...  ...     ...   ...  ...     ...  \n",
       "11707    0    0    0    0         0     0    0       0     0    0       0  \n",
       "11708    0    0    0    0         0     0    0       0     0    0       0  \n",
       "11709    0    0    0    0         0     0    0       0     0    0       0  \n",
       "11710    0    0    0    0         0     0    0       0     0    0       0  \n",
       "11711    0    0    0    0         0     0    0       0     0    0       0  \n",
       "\n",
       "[11712 rows x 8796 columns]"
      ]
     },
     "execution_count": 169,
     "metadata": {},
     "output_type": "execute_result"
    }
   ],
   "source": [
    "# Look dataframe after process.\n",
    "pd.DataFrame(X_train_count.toarray(), columns = vectorizer.get_feature_names())"
   ]
  },
  {
   "cell_type": "code",
   "execution_count": 34,
   "metadata": {
    "ExecuteTime": {
     "end_time": "2022-03-01T01:33:24.536003Z",
     "start_time": "2022-03-01T01:33:24.521619Z"
    }
   },
   "outputs": [],
   "source": [
    "from sklearn.metrics import plot_confusion_matrix,classification_report, f1_score, recall_score\n",
    "from sklearn.pipeline import Pipeline"
   ]
  },
  {
   "cell_type": "code",
   "execution_count": 170,
   "metadata": {
    "ExecuteTime": {
     "end_time": "2022-03-01T05:18:58.996897Z",
     "start_time": "2022-03-01T05:18:58.985511Z"
    }
   },
   "outputs": [],
   "source": [
    "#Creating function to evaluate our models.\n",
    "def evaluation(model, X_train, X_test):\n",
    "    y_pred = model.predict(X_test)\n",
    "    y_pred_train = model.predict(X_train)\n",
    "    print(\"==== Train Set ====\")\n",
    "    print(classification_report(y_train,y_pred_train))\n",
    "    print(\"==== Test Set ====\")\n",
    "    print(classification_report(y_test,y_pred))\n",
    "    plot_confusion_matrix(model,X_test, y_test)"
   ]
  },
  {
   "cell_type": "markdown",
   "metadata": {},
   "source": [
    "### Logistic Regression"
   ]
  },
  {
   "cell_type": "code",
   "execution_count": 36,
   "metadata": {
    "ExecuteTime": {
     "end_time": "2022-03-01T01:33:24.828148Z",
     "start_time": "2022-03-01T01:33:24.552372Z"
    }
   },
   "outputs": [
    {
     "data": {
      "text/plain": [
       "LogisticRegression(C=0.02, max_iter=1000)"
      ]
     },
     "execution_count": 36,
     "metadata": {},
     "output_type": "execute_result"
    }
   ],
   "source": [
    "# Initiliazing first model.\n",
    "from sklearn.linear_model import LogisticRegression\n",
    "\n",
    "log = LogisticRegression(C = 0.02, max_iter=1000)\n",
    "log.fit(X_train_count,y_train)    "
   ]
  },
  {
   "cell_type": "code",
   "execution_count": 37,
   "metadata": {
    "ExecuteTime": {
     "end_time": "2022-03-01T01:33:25.258577Z",
     "start_time": "2022-03-01T01:33:24.829140Z"
    }
   },
   "outputs": [
    {
     "name": "stdout",
     "output_type": "stream",
     "text": [
      "LOG MODEL\n",
      "==== Train Set ====\n",
      "              precision    recall  f1-score   support\n",
      "\n",
      "    negative       0.75      0.97      0.85      7342\n",
      "     neutral       0.76      0.33      0.46      2479\n",
      "    positive       0.80      0.51      0.62      1891\n",
      "\n",
      "    accuracy                           0.76     11712\n",
      "   macro avg       0.77      0.60      0.64     11712\n",
      "weighted avg       0.76      0.76      0.73     11712\n",
      "\n",
      "==== Test Set ====\n",
      "              precision    recall  f1-score   support\n",
      "\n",
      "    negative       0.75      0.96      0.84      1836\n",
      "     neutral       0.67      0.28      0.40       620\n",
      "    positive       0.75      0.51      0.61       472\n",
      "\n",
      "    accuracy                           0.74      2928\n",
      "   macro avg       0.72      0.58      0.62      2928\n",
      "weighted avg       0.73      0.74      0.71      2928\n",
      "\n"
     ]
    },
    {
     "data": {
      "image/png": "[encoded data removed]",
      "text/plain": [
       "<Figure size 864x432 with 2 Axes>"
      ]
     },
     "metadata": {},
     "output_type": "display_data"
    }
   ],
   "source": [
    "print(\"LOG MODEL\")\n",
    "evaluation(log, X_train_count, X_test_count)"
   ]
  },
  {
   "cell_type": "markdown",
   "metadata": {},
   "source": [
    "### Naive Bayes"
   ]
  },
  {
   "cell_type": "code",
   "execution_count": 41,
   "metadata": {
    "ExecuteTime": {
     "end_time": "2022-03-01T01:33:25.335477Z",
     "start_time": "2022-03-01T01:33:25.310858Z"
    }
   },
   "outputs": [],
   "source": [
    "from sklearn.naive_bayes import MultinomialNB, GaussianNB"
   ]
  },
  {
   "cell_type": "code",
   "execution_count": 42,
   "metadata": {
    "ExecuteTime": {
     "end_time": "2022-03-01T01:33:25.366254Z",
     "start_time": "2022-03-01T01:33:25.336967Z"
    }
   },
   "outputs": [
    {
     "data": {
      "text/plain": [
       "MultinomialNB()"
      ]
     },
     "execution_count": 42,
     "metadata": {},
     "output_type": "execute_result"
    }
   ],
   "source": [
    "#Initiliazing second model.\n",
    "nb = MultinomialNB()\n",
    "nb.fit(X_train_count,y_train)"
   ]
  },
  {
   "cell_type": "code",
   "execution_count": 43,
   "metadata": {
    "ExecuteTime": {
     "end_time": "2022-03-01T01:33:25.689156Z",
     "start_time": "2022-03-01T01:33:25.367223Z"
    }
   },
   "outputs": [
    {
     "name": "stdout",
     "output_type": "stream",
     "text": [
      "NB MODEL\n",
      "==== Train Set ====\n",
      "              precision    recall  f1-score   support\n",
      "\n",
      "    negative       0.84      0.96      0.90      7342\n",
      "     neutral       0.83      0.58      0.68      2479\n",
      "    positive       0.86      0.74      0.80      1891\n",
      "\n",
      "    accuracy                           0.84     11712\n",
      "   macro avg       0.85      0.76      0.79     11712\n",
      "weighted avg       0.84      0.84      0.84     11712\n",
      "\n",
      "==== Test Set ====\n",
      "              precision    recall  f1-score   support\n",
      "\n",
      "    negative       0.78      0.94      0.85      1836\n",
      "     neutral       0.68      0.39      0.49       620\n",
      "    positive       0.77      0.61      0.68       472\n",
      "\n",
      "    accuracy                           0.77      2928\n",
      "   macro avg       0.75      0.65      0.68      2928\n",
      "weighted avg       0.76      0.77      0.75      2928\n",
      "\n"
     ]
    },
    {
     "data": {
      "image/png": "[encoded data removed]",
      "text/plain": [
       "<Figure size 864x432 with 2 Axes>"
      ]
     },
     "metadata": {},
     "output_type": "display_data"
    }
   ],
   "source": [
    "print(\"NB MODEL\")\n",
    "evaluation(nb, X_train_count, X_test_count)"
   ]
  },
  {
   "cell_type": "markdown",
   "metadata": {},
   "source": [
    "### Ada Boost"
   ]
  },
  {
   "cell_type": "code",
   "execution_count": 44,
   "metadata": {
    "ExecuteTime": {
     "end_time": "2022-03-01T01:33:31.962727Z",
     "start_time": "2022-03-01T01:33:25.689640Z"
    }
   },
   "outputs": [
    {
     "data": {
      "text/plain": [
       "AdaBoostClassifier(n_estimators=500, random_state=42)"
      ]
     },
     "execution_count": 44,
     "metadata": {},
     "output_type": "execute_result"
    }
   ],
   "source": [
    "from sklearn.ensemble import AdaBoostClassifier\n",
    "#Initiliazing third model.\n",
    "ada = AdaBoostClassifier(n_estimators= 500, random_state = 42)\n",
    "ada.fit(X_train_count, y_train)"
   ]
  },
  {
   "cell_type": "code",
   "execution_count": 45,
   "metadata": {
    "ExecuteTime": {
     "end_time": "2022-03-01T01:33:33.484952Z",
     "start_time": "2022-03-01T01:33:31.963719Z"
    }
   },
   "outputs": [
    {
     "name": "stdout",
     "output_type": "stream",
     "text": [
      "Ada MODEL\n",
      "==== Train Set ====\n",
      "              precision    recall  f1-score   support\n",
      "\n",
      "    negative       0.86      0.88      0.87      7342\n",
      "     neutral       0.61      0.61      0.61      2479\n",
      "    positive       0.79      0.72      0.75      1891\n",
      "\n",
      "    accuracy                           0.80     11712\n",
      "   macro avg       0.75      0.73      0.74     11712\n",
      "weighted avg       0.79      0.80      0.79     11712\n",
      "\n",
      "==== Test Set ====\n",
      "              precision    recall  f1-score   support\n",
      "\n",
      "    negative       0.83      0.84      0.84      1836\n",
      "     neutral       0.55      0.55      0.55       620\n",
      "    positive       0.68      0.66      0.67       472\n",
      "\n",
      "    accuracy                           0.75      2928\n",
      "   macro avg       0.69      0.68      0.69      2928\n",
      "weighted avg       0.75      0.75      0.75      2928\n",
      "\n"
     ]
    },
    {
     "data": {
      "image/png": "[encoded data removed]",
      "text/plain": [
       "<Figure size 864x432 with 2 Axes>"
      ]
     },
     "metadata": {},
     "output_type": "display_data"
    }
   ],
   "source": [
    "print(\"Ada MODEL\")\n",
    "evaluation(ada, X_train_count, X_test_count)\n"
   ]
  },
  {
   "cell_type": "markdown",
   "metadata": {},
   "source": [
    "## TF-IDF"
   ]
  },
  {
   "cell_type": "code",
   "execution_count": 47,
   "metadata": {
    "ExecuteTime": {
     "end_time": "2022-03-01T01:33:33.515704Z",
     "start_time": "2022-03-01T01:33:33.501321Z"
    }
   },
   "outputs": [],
   "source": [
    "from sklearn.feature_extraction.text import TfidfVectorizer"
   ]
  },
  {
   "cell_type": "code",
   "execution_count": 48,
   "metadata": {
    "ExecuteTime": {
     "end_time": "2022-03-01T01:33:33.654090Z",
     "start_time": "2022-03-01T01:33:33.516697Z"
    }
   },
   "outputs": [],
   "source": [
    "# #Initiliazing TF-IDF.\n",
    "tf_idf_vectorizer = TfidfVectorizer()\n",
    "X_train_tf_idf = tf_idf_vectorizer.fit_transform(X_train)\n",
    "X_test_tf_idf = tf_idf_vectorizer.transform(X_test)"
   ]
  },
  {
   "cell_type": "code",
   "execution_count": 49,
   "metadata": {
    "ExecuteTime": {
     "end_time": "2022-03-01T01:33:33.715804Z",
     "start_time": "2022-03-01T01:33:33.656073Z"
    }
   },
   "outputs": [
    {
     "data": {
      "text/plain": [
       "array([[0.        , 0.        , 0.        , ..., 0.        , 0.        ,\n",
       "        0.        ],\n",
       "       [0.        , 0.        , 0.        , ..., 0.        , 0.        ,\n",
       "        0.        ],\n",
       "       [0.        , 0.        , 0.        , ..., 0.        , 0.        ,\n",
       "        0.        ],\n",
       "       ...,\n",
       "       [0.        , 0.        , 0.        , ..., 0.        , 0.        ,\n",
       "        0.        ],\n",
       "       [0.        , 0.        , 0.        , ..., 0.        , 0.        ,\n",
       "        0.        ],\n",
       "       [0.32332003, 0.        , 0.        , ..., 0.        , 0.        ,\n",
       "        0.        ]])"
      ]
     },
     "execution_count": 49,
     "metadata": {},
     "output_type": "execute_result"
    }
   ],
   "source": [
    "# Looking train set into array.\n",
    "X_train_tf_idf.toarray()"
   ]
  },
  {
   "cell_type": "code",
   "execution_count": 50,
   "metadata": {
    "ExecuteTime": {
     "end_time": "2022-03-01T01:33:33.838812Z",
     "start_time": "2022-03-01T01:33:33.716796Z"
    }
   },
   "outputs": [
    {
     "data": {
      "text/html": [
       "<div>\n",
       "<style scoped>\n",
       "    .dataframe tbody tr th:only-of-type {\n",
       "        vertical-align: middle;\n",
       "    }\n",
       "\n",
       "    .dataframe tbody tr th {\n",
       "        vertical-align: top;\n",
       "    }\n",
       "\n",
       "    .dataframe thead th {\n",
       "        text-align: right;\n",
       "    }\n",
       "</style>\n",
       "<table border=\"1\" class=\"dataframe\">\n",
       "  <thead>\n",
       "    <tr style=\"text-align: right;\">\n",
       "      <th></th>\n",
       "      <th>aa</th>\n",
       "      <th>aaadvantage</th>\n",
       "      <th>aaalwayslate</th>\n",
       "      <th>aadavantage</th>\n",
       "      <th>aadelay</th>\n",
       "      <th>aadv</th>\n",
       "      <th>aadvantage</th>\n",
       "      <th>aafail</th>\n",
       "      <th>aaron</th>\n",
       "      <th>aateam</th>\n",
       "      <th>ab</th>\n",
       "      <th>aback</th>\n",
       "      <th>abandoned</th>\n",
       "      <th>abandonment</th>\n",
       "      <th>abassinet</th>\n",
       "      <th>abbreve</th>\n",
       "      <th>abc</th>\n",
       "      <th>abcletjetbluestreamfeed</th>\n",
       "      <th>abcnews</th>\n",
       "      <th>abducted</th>\n",
       "      <th>ability</th>\n",
       "      <th>able</th>\n",
       "      <th>aboard</th>\n",
       "      <th>aboout</th>\n",
       "      <th>abounds</th>\n",
       "      <th>...</th>\n",
       "      <th>yousuck</th>\n",
       "      <th>yout</th>\n",
       "      <th>youth</th>\n",
       "      <th>youve</th>\n",
       "      <th>yponthebeat</th>\n",
       "      <th>yr</th>\n",
       "      <th>ystrdy</th>\n",
       "      <th>yuck</th>\n",
       "      <th>yucki</th>\n",
       "      <th>yuma</th>\n",
       "      <th>yummy</th>\n",
       "      <th>yup</th>\n",
       "      <th>yvonne</th>\n",
       "      <th>yvr</th>\n",
       "      <th>yxe</th>\n",
       "      <th>yyc</th>\n",
       "      <th>yyj</th>\n",
       "      <th>yyz</th>\n",
       "      <th>zabsonre</th>\n",
       "      <th>zero</th>\n",
       "      <th>zfv</th>\n",
       "      <th>zipper</th>\n",
       "      <th>zone</th>\n",
       "      <th>zrh</th>\n",
       "      <th>zurich</th>\n",
       "    </tr>\n",
       "  </thead>\n",
       "  <tbody>\n",
       "    <tr>\n",
       "      <th>0</th>\n",
       "      <td>0.00000</td>\n",
       "      <td>0.0</td>\n",
       "      <td>0.0</td>\n",
       "      <td>0.0</td>\n",
       "      <td>0.0</td>\n",
       "      <td>0.0</td>\n",
       "      <td>0.0</td>\n",
       "      <td>0.0</td>\n",
       "      <td>0.0</td>\n",
       "      <td>0.0</td>\n",
       "      <td>0.0</td>\n",
       "      <td>0.0</td>\n",
       "      <td>0.0</td>\n",
       "      <td>0.0</td>\n",
       "      <td>0.0</td>\n",
       "      <td>0.0</td>\n",
       "      <td>0.0</td>\n",
       "      <td>0.0</td>\n",
       "      <td>0.0</td>\n",
       "      <td>0.0</td>\n",
       "      <td>0.0</td>\n",
       "      <td>0.0</td>\n",
       "      <td>0.0</td>\n",
       "      <td>0.0</td>\n",
       "      <td>0.0</td>\n",
       "      <td>...</td>\n",
       "      <td>0.0</td>\n",
       "      <td>0.0</td>\n",
       "      <td>0.0</td>\n",
       "      <td>0.0</td>\n",
       "      <td>0.0</td>\n",
       "      <td>0.0</td>\n",
       "      <td>0.0</td>\n",
       "      <td>0.0</td>\n",
       "      <td>0.0</td>\n",
       "      <td>0.0</td>\n",
       "      <td>0.0</td>\n",
       "      <td>0.0</td>\n",
       "      <td>0.0</td>\n",
       "      <td>0.0</td>\n",
       "      <td>0.0</td>\n",
       "      <td>0.0</td>\n",
       "      <td>0.0</td>\n",
       "      <td>0.0</td>\n",
       "      <td>0.0</td>\n",
       "      <td>0.0</td>\n",
       "      <td>0.0</td>\n",
       "      <td>0.0</td>\n",
       "      <td>0.0</td>\n",
       "      <td>0.0</td>\n",
       "      <td>0.0</td>\n",
       "    </tr>\n",
       "    <tr>\n",
       "      <th>1</th>\n",
       "      <td>0.00000</td>\n",
       "      <td>0.0</td>\n",
       "      <td>0.0</td>\n",
       "      <td>0.0</td>\n",
       "      <td>0.0</td>\n",
       "      <td>0.0</td>\n",
       "      <td>0.0</td>\n",
       "      <td>0.0</td>\n",
       "      <td>0.0</td>\n",
       "      <td>0.0</td>\n",
       "      <td>0.0</td>\n",
       "      <td>0.0</td>\n",
       "      <td>0.0</td>\n",
       "      <td>0.0</td>\n",
       "      <td>0.0</td>\n",
       "      <td>0.0</td>\n",
       "      <td>0.0</td>\n",
       "      <td>0.0</td>\n",
       "      <td>0.0</td>\n",
       "      <td>0.0</td>\n",
       "      <td>0.0</td>\n",
       "      <td>0.0</td>\n",
       "      <td>0.0</td>\n",
       "      <td>0.0</td>\n",
       "      <td>0.0</td>\n",
       "      <td>...</td>\n",
       "      <td>0.0</td>\n",
       "      <td>0.0</td>\n",
       "      <td>0.0</td>\n",
       "      <td>0.0</td>\n",
       "      <td>0.0</td>\n",
       "      <td>0.0</td>\n",
       "      <td>0.0</td>\n",
       "      <td>0.0</td>\n",
       "      <td>0.0</td>\n",
       "      <td>0.0</td>\n",
       "      <td>0.0</td>\n",
       "      <td>0.0</td>\n",
       "      <td>0.0</td>\n",
       "      <td>0.0</td>\n",
       "      <td>0.0</td>\n",
       "      <td>0.0</td>\n",
       "      <td>0.0</td>\n",
       "      <td>0.0</td>\n",
       "      <td>0.0</td>\n",
       "      <td>0.0</td>\n",
       "      <td>0.0</td>\n",
       "      <td>0.0</td>\n",
       "      <td>0.0</td>\n",
       "      <td>0.0</td>\n",
       "      <td>0.0</td>\n",
       "    </tr>\n",
       "    <tr>\n",
       "      <th>2</th>\n",
       "      <td>0.00000</td>\n",
       "      <td>0.0</td>\n",
       "      <td>0.0</td>\n",
       "      <td>0.0</td>\n",
       "      <td>0.0</td>\n",
       "      <td>0.0</td>\n",
       "      <td>0.0</td>\n",
       "      <td>0.0</td>\n",
       "      <td>0.0</td>\n",
       "      <td>0.0</td>\n",
       "      <td>0.0</td>\n",
       "      <td>0.0</td>\n",
       "      <td>0.0</td>\n",
       "      <td>0.0</td>\n",
       "      <td>0.0</td>\n",
       "      <td>0.0</td>\n",
       "      <td>0.0</td>\n",
       "      <td>0.0</td>\n",
       "      <td>0.0</td>\n",
       "      <td>0.0</td>\n",
       "      <td>0.0</td>\n",
       "      <td>0.0</td>\n",
       "      <td>0.0</td>\n",
       "      <td>0.0</td>\n",
       "      <td>0.0</td>\n",
       "      <td>...</td>\n",
       "      <td>0.0</td>\n",
       "      <td>0.0</td>\n",
       "      <td>0.0</td>\n",
       "      <td>0.0</td>\n",
       "      <td>0.0</td>\n",
       "      <td>0.0</td>\n",
       "      <td>0.0</td>\n",
       "      <td>0.0</td>\n",
       "      <td>0.0</td>\n",
       "      <td>0.0</td>\n",
       "      <td>0.0</td>\n",
       "      <td>0.0</td>\n",
       "      <td>0.0</td>\n",
       "      <td>0.0</td>\n",
       "      <td>0.0</td>\n",
       "      <td>0.0</td>\n",
       "      <td>0.0</td>\n",
       "      <td>0.0</td>\n",
       "      <td>0.0</td>\n",
       "      <td>0.0</td>\n",
       "      <td>0.0</td>\n",
       "      <td>0.0</td>\n",
       "      <td>0.0</td>\n",
       "      <td>0.0</td>\n",
       "      <td>0.0</td>\n",
       "    </tr>\n",
       "    <tr>\n",
       "      <th>3</th>\n",
       "      <td>0.00000</td>\n",
       "      <td>0.0</td>\n",
       "      <td>0.0</td>\n",
       "      <td>0.0</td>\n",
       "      <td>0.0</td>\n",
       "      <td>0.0</td>\n",
       "      <td>0.0</td>\n",
       "      <td>0.0</td>\n",
       "      <td>0.0</td>\n",
       "      <td>0.0</td>\n",
       "      <td>0.0</td>\n",
       "      <td>0.0</td>\n",
       "      <td>0.0</td>\n",
       "      <td>0.0</td>\n",
       "      <td>0.0</td>\n",
       "      <td>0.0</td>\n",
       "      <td>0.0</td>\n",
       "      <td>0.0</td>\n",
       "      <td>0.0</td>\n",
       "      <td>0.0</td>\n",
       "      <td>0.0</td>\n",
       "      <td>0.0</td>\n",
       "      <td>0.0</td>\n",
       "      <td>0.0</td>\n",
       "      <td>0.0</td>\n",
       "      <td>...</td>\n",
       "      <td>0.0</td>\n",
       "      <td>0.0</td>\n",
       "      <td>0.0</td>\n",
       "      <td>0.0</td>\n",
       "      <td>0.0</td>\n",
       "      <td>0.0</td>\n",
       "      <td>0.0</td>\n",
       "      <td>0.0</td>\n",
       "      <td>0.0</td>\n",
       "      <td>0.0</td>\n",
       "      <td>0.0</td>\n",
       "      <td>0.0</td>\n",
       "      <td>0.0</td>\n",
       "      <td>0.0</td>\n",
       "      <td>0.0</td>\n",
       "      <td>0.0</td>\n",
       "      <td>0.0</td>\n",
       "      <td>0.0</td>\n",
       "      <td>0.0</td>\n",
       "      <td>0.0</td>\n",
       "      <td>0.0</td>\n",
       "      <td>0.0</td>\n",
       "      <td>0.0</td>\n",
       "      <td>0.0</td>\n",
       "      <td>0.0</td>\n",
       "    </tr>\n",
       "    <tr>\n",
       "      <th>4</th>\n",
       "      <td>0.00000</td>\n",
       "      <td>0.0</td>\n",
       "      <td>0.0</td>\n",
       "      <td>0.0</td>\n",
       "      <td>0.0</td>\n",
       "      <td>0.0</td>\n",
       "      <td>0.0</td>\n",
       "      <td>0.0</td>\n",
       "      <td>0.0</td>\n",
       "      <td>0.0</td>\n",
       "      <td>0.0</td>\n",
       "      <td>0.0</td>\n",
       "      <td>0.0</td>\n",
       "      <td>0.0</td>\n",
       "      <td>0.0</td>\n",
       "      <td>0.0</td>\n",
       "      <td>0.0</td>\n",
       "      <td>0.0</td>\n",
       "      <td>0.0</td>\n",
       "      <td>0.0</td>\n",
       "      <td>0.0</td>\n",
       "      <td>0.0</td>\n",
       "      <td>0.0</td>\n",
       "      <td>0.0</td>\n",
       "      <td>0.0</td>\n",
       "      <td>...</td>\n",
       "      <td>0.0</td>\n",
       "      <td>0.0</td>\n",
       "      <td>0.0</td>\n",
       "      <td>0.0</td>\n",
       "      <td>0.0</td>\n",
       "      <td>0.0</td>\n",
       "      <td>0.0</td>\n",
       "      <td>0.0</td>\n",
       "      <td>0.0</td>\n",
       "      <td>0.0</td>\n",
       "      <td>0.0</td>\n",
       "      <td>0.0</td>\n",
       "      <td>0.0</td>\n",
       "      <td>0.0</td>\n",
       "      <td>0.0</td>\n",
       "      <td>0.0</td>\n",
       "      <td>0.0</td>\n",
       "      <td>0.0</td>\n",
       "      <td>0.0</td>\n",
       "      <td>0.0</td>\n",
       "      <td>0.0</td>\n",
       "      <td>0.0</td>\n",
       "      <td>0.0</td>\n",
       "      <td>0.0</td>\n",
       "      <td>0.0</td>\n",
       "    </tr>\n",
       "    <tr>\n",
       "      <th>...</th>\n",
       "      <td>...</td>\n",
       "      <td>...</td>\n",
       "      <td>...</td>\n",
       "      <td>...</td>\n",
       "      <td>...</td>\n",
       "      <td>...</td>\n",
       "      <td>...</td>\n",
       "      <td>...</td>\n",
       "      <td>...</td>\n",
       "      <td>...</td>\n",
       "      <td>...</td>\n",
       "      <td>...</td>\n",
       "      <td>...</td>\n",
       "      <td>...</td>\n",
       "      <td>...</td>\n",
       "      <td>...</td>\n",
       "      <td>...</td>\n",
       "      <td>...</td>\n",
       "      <td>...</td>\n",
       "      <td>...</td>\n",
       "      <td>...</td>\n",
       "      <td>...</td>\n",
       "      <td>...</td>\n",
       "      <td>...</td>\n",
       "      <td>...</td>\n",
       "      <td>...</td>\n",
       "      <td>...</td>\n",
       "      <td>...</td>\n",
       "      <td>...</td>\n",
       "      <td>...</td>\n",
       "      <td>...</td>\n",
       "      <td>...</td>\n",
       "      <td>...</td>\n",
       "      <td>...</td>\n",
       "      <td>...</td>\n",
       "      <td>...</td>\n",
       "      <td>...</td>\n",
       "      <td>...</td>\n",
       "      <td>...</td>\n",
       "      <td>...</td>\n",
       "      <td>...</td>\n",
       "      <td>...</td>\n",
       "      <td>...</td>\n",
       "      <td>...</td>\n",
       "      <td>...</td>\n",
       "      <td>...</td>\n",
       "      <td>...</td>\n",
       "      <td>...</td>\n",
       "      <td>...</td>\n",
       "      <td>...</td>\n",
       "      <td>...</td>\n",
       "    </tr>\n",
       "    <tr>\n",
       "      <th>11707</th>\n",
       "      <td>0.00000</td>\n",
       "      <td>0.0</td>\n",
       "      <td>0.0</td>\n",
       "      <td>0.0</td>\n",
       "      <td>0.0</td>\n",
       "      <td>0.0</td>\n",
       "      <td>0.0</td>\n",
       "      <td>0.0</td>\n",
       "      <td>0.0</td>\n",
       "      <td>0.0</td>\n",
       "      <td>0.0</td>\n",
       "      <td>0.0</td>\n",
       "      <td>0.0</td>\n",
       "      <td>0.0</td>\n",
       "      <td>0.0</td>\n",
       "      <td>0.0</td>\n",
       "      <td>0.0</td>\n",
       "      <td>0.0</td>\n",
       "      <td>0.0</td>\n",
       "      <td>0.0</td>\n",
       "      <td>0.0</td>\n",
       "      <td>0.0</td>\n",
       "      <td>0.0</td>\n",
       "      <td>0.0</td>\n",
       "      <td>0.0</td>\n",
       "      <td>...</td>\n",
       "      <td>0.0</td>\n",
       "      <td>0.0</td>\n",
       "      <td>0.0</td>\n",
       "      <td>0.0</td>\n",
       "      <td>0.0</td>\n",
       "      <td>0.0</td>\n",
       "      <td>0.0</td>\n",
       "      <td>0.0</td>\n",
       "      <td>0.0</td>\n",
       "      <td>0.0</td>\n",
       "      <td>0.0</td>\n",
       "      <td>0.0</td>\n",
       "      <td>0.0</td>\n",
       "      <td>0.0</td>\n",
       "      <td>0.0</td>\n",
       "      <td>0.0</td>\n",
       "      <td>0.0</td>\n",
       "      <td>0.0</td>\n",
       "      <td>0.0</td>\n",
       "      <td>0.0</td>\n",
       "      <td>0.0</td>\n",
       "      <td>0.0</td>\n",
       "      <td>0.0</td>\n",
       "      <td>0.0</td>\n",
       "      <td>0.0</td>\n",
       "    </tr>\n",
       "    <tr>\n",
       "      <th>11708</th>\n",
       "      <td>0.00000</td>\n",
       "      <td>0.0</td>\n",
       "      <td>0.0</td>\n",
       "      <td>0.0</td>\n",
       "      <td>0.0</td>\n",
       "      <td>0.0</td>\n",
       "      <td>0.0</td>\n",
       "      <td>0.0</td>\n",
       "      <td>0.0</td>\n",
       "      <td>0.0</td>\n",
       "      <td>0.0</td>\n",
       "      <td>0.0</td>\n",
       "      <td>0.0</td>\n",
       "      <td>0.0</td>\n",
       "      <td>0.0</td>\n",
       "      <td>0.0</td>\n",
       "      <td>0.0</td>\n",
       "      <td>0.0</td>\n",
       "      <td>0.0</td>\n",
       "      <td>0.0</td>\n",
       "      <td>0.0</td>\n",
       "      <td>0.0</td>\n",
       "      <td>0.0</td>\n",
       "      <td>0.0</td>\n",
       "      <td>0.0</td>\n",
       "      <td>...</td>\n",
       "      <td>0.0</td>\n",
       "      <td>0.0</td>\n",
       "      <td>0.0</td>\n",
       "      <td>0.0</td>\n",
       "      <td>0.0</td>\n",
       "      <td>0.0</td>\n",
       "      <td>0.0</td>\n",
       "      <td>0.0</td>\n",
       "      <td>0.0</td>\n",
       "      <td>0.0</td>\n",
       "      <td>0.0</td>\n",
       "      <td>0.0</td>\n",
       "      <td>0.0</td>\n",
       "      <td>0.0</td>\n",
       "      <td>0.0</td>\n",
       "      <td>0.0</td>\n",
       "      <td>0.0</td>\n",
       "      <td>0.0</td>\n",
       "      <td>0.0</td>\n",
       "      <td>0.0</td>\n",
       "      <td>0.0</td>\n",
       "      <td>0.0</td>\n",
       "      <td>0.0</td>\n",
       "      <td>0.0</td>\n",
       "      <td>0.0</td>\n",
       "    </tr>\n",
       "    <tr>\n",
       "      <th>11709</th>\n",
       "      <td>0.00000</td>\n",
       "      <td>0.0</td>\n",
       "      <td>0.0</td>\n",
       "      <td>0.0</td>\n",
       "      <td>0.0</td>\n",
       "      <td>0.0</td>\n",
       "      <td>0.0</td>\n",
       "      <td>0.0</td>\n",
       "      <td>0.0</td>\n",
       "      <td>0.0</td>\n",
       "      <td>0.0</td>\n",
       "      <td>0.0</td>\n",
       "      <td>0.0</td>\n",
       "      <td>0.0</td>\n",
       "      <td>0.0</td>\n",
       "      <td>0.0</td>\n",
       "      <td>0.0</td>\n",
       "      <td>0.0</td>\n",
       "      <td>0.0</td>\n",
       "      <td>0.0</td>\n",
       "      <td>0.0</td>\n",
       "      <td>0.0</td>\n",
       "      <td>0.0</td>\n",
       "      <td>0.0</td>\n",
       "      <td>0.0</td>\n",
       "      <td>...</td>\n",
       "      <td>0.0</td>\n",
       "      <td>0.0</td>\n",
       "      <td>0.0</td>\n",
       "      <td>0.0</td>\n",
       "      <td>0.0</td>\n",
       "      <td>0.0</td>\n",
       "      <td>0.0</td>\n",
       "      <td>0.0</td>\n",
       "      <td>0.0</td>\n",
       "      <td>0.0</td>\n",
       "      <td>0.0</td>\n",
       "      <td>0.0</td>\n",
       "      <td>0.0</td>\n",
       "      <td>0.0</td>\n",
       "      <td>0.0</td>\n",
       "      <td>0.0</td>\n",
       "      <td>0.0</td>\n",
       "      <td>0.0</td>\n",
       "      <td>0.0</td>\n",
       "      <td>0.0</td>\n",
       "      <td>0.0</td>\n",
       "      <td>0.0</td>\n",
       "      <td>0.0</td>\n",
       "      <td>0.0</td>\n",
       "      <td>0.0</td>\n",
       "    </tr>\n",
       "    <tr>\n",
       "      <th>11710</th>\n",
       "      <td>0.00000</td>\n",
       "      <td>0.0</td>\n",
       "      <td>0.0</td>\n",
       "      <td>0.0</td>\n",
       "      <td>0.0</td>\n",
       "      <td>0.0</td>\n",
       "      <td>0.0</td>\n",
       "      <td>0.0</td>\n",
       "      <td>0.0</td>\n",
       "      <td>0.0</td>\n",
       "      <td>0.0</td>\n",
       "      <td>0.0</td>\n",
       "      <td>0.0</td>\n",
       "      <td>0.0</td>\n",
       "      <td>0.0</td>\n",
       "      <td>0.0</td>\n",
       "      <td>0.0</td>\n",
       "      <td>0.0</td>\n",
       "      <td>0.0</td>\n",
       "      <td>0.0</td>\n",
       "      <td>0.0</td>\n",
       "      <td>0.0</td>\n",
       "      <td>0.0</td>\n",
       "      <td>0.0</td>\n",
       "      <td>0.0</td>\n",
       "      <td>...</td>\n",
       "      <td>0.0</td>\n",
       "      <td>0.0</td>\n",
       "      <td>0.0</td>\n",
       "      <td>0.0</td>\n",
       "      <td>0.0</td>\n",
       "      <td>0.0</td>\n",
       "      <td>0.0</td>\n",
       "      <td>0.0</td>\n",
       "      <td>0.0</td>\n",
       "      <td>0.0</td>\n",
       "      <td>0.0</td>\n",
       "      <td>0.0</td>\n",
       "      <td>0.0</td>\n",
       "      <td>0.0</td>\n",
       "      <td>0.0</td>\n",
       "      <td>0.0</td>\n",
       "      <td>0.0</td>\n",
       "      <td>0.0</td>\n",
       "      <td>0.0</td>\n",
       "      <td>0.0</td>\n",
       "      <td>0.0</td>\n",
       "      <td>0.0</td>\n",
       "      <td>0.0</td>\n",
       "      <td>0.0</td>\n",
       "      <td>0.0</td>\n",
       "    </tr>\n",
       "    <tr>\n",
       "      <th>11711</th>\n",
       "      <td>0.32332</td>\n",
       "      <td>0.0</td>\n",
       "      <td>0.0</td>\n",
       "      <td>0.0</td>\n",
       "      <td>0.0</td>\n",
       "      <td>0.0</td>\n",
       "      <td>0.0</td>\n",
       "      <td>0.0</td>\n",
       "      <td>0.0</td>\n",
       "      <td>0.0</td>\n",
       "      <td>0.0</td>\n",
       "      <td>0.0</td>\n",
       "      <td>0.0</td>\n",
       "      <td>0.0</td>\n",
       "      <td>0.0</td>\n",
       "      <td>0.0</td>\n",
       "      <td>0.0</td>\n",
       "      <td>0.0</td>\n",
       "      <td>0.0</td>\n",
       "      <td>0.0</td>\n",
       "      <td>0.0</td>\n",
       "      <td>0.0</td>\n",
       "      <td>0.0</td>\n",
       "      <td>0.0</td>\n",
       "      <td>0.0</td>\n",
       "      <td>...</td>\n",
       "      <td>0.0</td>\n",
       "      <td>0.0</td>\n",
       "      <td>0.0</td>\n",
       "      <td>0.0</td>\n",
       "      <td>0.0</td>\n",
       "      <td>0.0</td>\n",
       "      <td>0.0</td>\n",
       "      <td>0.0</td>\n",
       "      <td>0.0</td>\n",
       "      <td>0.0</td>\n",
       "      <td>0.0</td>\n",
       "      <td>0.0</td>\n",
       "      <td>0.0</td>\n",
       "      <td>0.0</td>\n",
       "      <td>0.0</td>\n",
       "      <td>0.0</td>\n",
       "      <td>0.0</td>\n",
       "      <td>0.0</td>\n",
       "      <td>0.0</td>\n",
       "      <td>0.0</td>\n",
       "      <td>0.0</td>\n",
       "      <td>0.0</td>\n",
       "      <td>0.0</td>\n",
       "      <td>0.0</td>\n",
       "      <td>0.0</td>\n",
       "    </tr>\n",
       "  </tbody>\n",
       "</table>\n",
       "<p>11712 rows × 8796 columns</p>\n",
       "</div>"
      ],
      "text/plain": [
       "            aa  aaadvantage  aaalwayslate  aadavantage  aadelay  aadv  \\\n",
       "0      0.00000          0.0           0.0          0.0      0.0   0.0   \n",
       "1      0.00000          0.0           0.0          0.0      0.0   0.0   \n",
       "2      0.00000          0.0           0.0          0.0      0.0   0.0   \n",
       "3      0.00000          0.0           0.0          0.0      0.0   0.0   \n",
       "4      0.00000          0.0           0.0          0.0      0.0   0.0   \n",
       "...        ...          ...           ...          ...      ...   ...   \n",
       "11707  0.00000          0.0           0.0          0.0      0.0   0.0   \n",
       "11708  0.00000          0.0           0.0          0.0      0.0   0.0   \n",
       "11709  0.00000          0.0           0.0          0.0      0.0   0.0   \n",
       "11710  0.00000          0.0           0.0          0.0      0.0   0.0   \n",
       "11711  0.32332          0.0           0.0          0.0      0.0   0.0   \n",
       "\n",
       "       aadvantage  aafail  aaron  aateam   ab  aback  abandoned  abandonment  \\\n",
       "0             0.0     0.0    0.0     0.0  0.0    0.0        0.0          0.0   \n",
       "1             0.0     0.0    0.0     0.0  0.0    0.0        0.0          0.0   \n",
       "2             0.0     0.0    0.0     0.0  0.0    0.0        0.0          0.0   \n",
       "3             0.0     0.0    0.0     0.0  0.0    0.0        0.0          0.0   \n",
       "4             0.0     0.0    0.0     0.0  0.0    0.0        0.0          0.0   \n",
       "...           ...     ...    ...     ...  ...    ...        ...          ...   \n",
       "11707         0.0     0.0    0.0     0.0  0.0    0.0        0.0          0.0   \n",
       "11708         0.0     0.0    0.0     0.0  0.0    0.0        0.0          0.0   \n",
       "11709         0.0     0.0    0.0     0.0  0.0    0.0        0.0          0.0   \n",
       "11710         0.0     0.0    0.0     0.0  0.0    0.0        0.0          0.0   \n",
       "11711         0.0     0.0    0.0     0.0  0.0    0.0        0.0          0.0   \n",
       "\n",
       "       abassinet  abbreve  abc  abcletjetbluestreamfeed  abcnews  abducted  \\\n",
       "0            0.0      0.0  0.0                      0.0      0.0       0.0   \n",
       "1            0.0      0.0  0.0                      0.0      0.0       0.0   \n",
       "2            0.0      0.0  0.0                      0.0      0.0       0.0   \n",
       "3            0.0      0.0  0.0                      0.0      0.0       0.0   \n",
       "4            0.0      0.0  0.0                      0.0      0.0       0.0   \n",
       "...          ...      ...  ...                      ...      ...       ...   \n",
       "11707        0.0      0.0  0.0                      0.0      0.0       0.0   \n",
       "11708        0.0      0.0  0.0                      0.0      0.0       0.0   \n",
       "11709        0.0      0.0  0.0                      0.0      0.0       0.0   \n",
       "11710        0.0      0.0  0.0                      0.0      0.0       0.0   \n",
       "11711        0.0      0.0  0.0                      0.0      0.0       0.0   \n",
       "\n",
       "       ability  able  aboard  aboout  abounds  ...  yousuck  yout  youth  \\\n",
       "0          0.0   0.0     0.0     0.0      0.0  ...      0.0   0.0    0.0   \n",
       "1          0.0   0.0     0.0     0.0      0.0  ...      0.0   0.0    0.0   \n",
       "2          0.0   0.0     0.0     0.0      0.0  ...      0.0   0.0    0.0   \n",
       "3          0.0   0.0     0.0     0.0      0.0  ...      0.0   0.0    0.0   \n",
       "4          0.0   0.0     0.0     0.0      0.0  ...      0.0   0.0    0.0   \n",
       "...        ...   ...     ...     ...      ...  ...      ...   ...    ...   \n",
       "11707      0.0   0.0     0.0     0.0      0.0  ...      0.0   0.0    0.0   \n",
       "11708      0.0   0.0     0.0     0.0      0.0  ...      0.0   0.0    0.0   \n",
       "11709      0.0   0.0     0.0     0.0      0.0  ...      0.0   0.0    0.0   \n",
       "11710      0.0   0.0     0.0     0.0      0.0  ...      0.0   0.0    0.0   \n",
       "11711      0.0   0.0     0.0     0.0      0.0  ...      0.0   0.0    0.0   \n",
       "\n",
       "       youve  yponthebeat   yr  ystrdy  yuck  yucki  yuma  yummy  yup  yvonne  \\\n",
       "0        0.0          0.0  0.0     0.0   0.0    0.0   0.0    0.0  0.0     0.0   \n",
       "1        0.0          0.0  0.0     0.0   0.0    0.0   0.0    0.0  0.0     0.0   \n",
       "2        0.0          0.0  0.0     0.0   0.0    0.0   0.0    0.0  0.0     0.0   \n",
       "3        0.0          0.0  0.0     0.0   0.0    0.0   0.0    0.0  0.0     0.0   \n",
       "4        0.0          0.0  0.0     0.0   0.0    0.0   0.0    0.0  0.0     0.0   \n",
       "...      ...          ...  ...     ...   ...    ...   ...    ...  ...     ...   \n",
       "11707    0.0          0.0  0.0     0.0   0.0    0.0   0.0    0.0  0.0     0.0   \n",
       "11708    0.0          0.0  0.0     0.0   0.0    0.0   0.0    0.0  0.0     0.0   \n",
       "11709    0.0          0.0  0.0     0.0   0.0    0.0   0.0    0.0  0.0     0.0   \n",
       "11710    0.0          0.0  0.0     0.0   0.0    0.0   0.0    0.0  0.0     0.0   \n",
       "11711    0.0          0.0  0.0     0.0   0.0    0.0   0.0    0.0  0.0     0.0   \n",
       "\n",
       "       yvr  yxe  yyc  yyj  yyz  zabsonre  zero  zfv  zipper  zone  zrh  zurich  \n",
       "0      0.0  0.0  0.0  0.0  0.0       0.0   0.0  0.0     0.0   0.0  0.0     0.0  \n",
       "1      0.0  0.0  0.0  0.0  0.0       0.0   0.0  0.0     0.0   0.0  0.0     0.0  \n",
       "2      0.0  0.0  0.0  0.0  0.0       0.0   0.0  0.0     0.0   0.0  0.0     0.0  \n",
       "3      0.0  0.0  0.0  0.0  0.0       0.0   0.0  0.0     0.0   0.0  0.0     0.0  \n",
       "4      0.0  0.0  0.0  0.0  0.0       0.0   0.0  0.0     0.0   0.0  0.0     0.0  \n",
       "...    ...  ...  ...  ...  ...       ...   ...  ...     ...   ...  ...     ...  \n",
       "11707  0.0  0.0  0.0  0.0  0.0       0.0   0.0  0.0     0.0   0.0  0.0     0.0  \n",
       "11708  0.0  0.0  0.0  0.0  0.0       0.0   0.0  0.0     0.0   0.0  0.0     0.0  \n",
       "11709  0.0  0.0  0.0  0.0  0.0       0.0   0.0  0.0     0.0   0.0  0.0     0.0  \n",
       "11710  0.0  0.0  0.0  0.0  0.0       0.0   0.0  0.0     0.0   0.0  0.0     0.0  \n",
       "11711  0.0  0.0  0.0  0.0  0.0       0.0   0.0  0.0     0.0   0.0  0.0     0.0  \n",
       "\n",
       "[11712 rows x 8796 columns]"
      ]
     },
     "execution_count": 50,
     "metadata": {},
     "output_type": "execute_result"
    }
   ],
   "source": [
    "# Look dataframe after process.\n",
    "pd.DataFrame(X_train_tf_idf.toarray(), columns = tf_idf_vectorizer.get_feature_names())"
   ]
  },
  {
   "cell_type": "markdown",
   "metadata": {},
   "source": [
    "### Naive Bayes"
   ]
  },
  {
   "cell_type": "code",
   "execution_count": 51,
   "metadata": {
    "ExecuteTime": {
     "end_time": "2022-03-01T01:33:33.869587Z",
     "start_time": "2022-03-01T01:33:33.839804Z"
    }
   },
   "outputs": [
    {
     "data": {
      "text/plain": [
       "MultinomialNB()"
      ]
     },
     "execution_count": 51,
     "metadata": {},
     "output_type": "execute_result"
    }
   ],
   "source": [
    "from sklearn.naive_bayes import MultinomialNB, BernoulliNB\n",
    "#Initiliazing first model.\n",
    "nb = MultinomialNB()\n",
    "nb.fit(X_train_tf_idf,y_train)"
   ]
  },
  {
   "cell_type": "code",
   "execution_count": 52,
   "metadata": {
    "ExecuteTime": {
     "end_time": "2022-03-01T01:33:34.208024Z",
     "start_time": "2022-03-01T01:33:33.871052Z"
    }
   },
   "outputs": [
    {
     "name": "stdout",
     "output_type": "stream",
     "text": [
      "NB MODEL\n",
      "==== Train Set ====\n",
      "              precision    recall  f1-score   support\n",
      "\n",
      "    negative       0.72      1.00      0.84      7342\n",
      "     neutral       0.90      0.30      0.46      2479\n",
      "    positive       0.95      0.39      0.55      1891\n",
      "\n",
      "    accuracy                           0.75     11712\n",
      "   macro avg       0.86      0.56      0.61     11712\n",
      "weighted avg       0.80      0.75      0.71     11712\n",
      "\n",
      "==== Test Set ====\n",
      "              precision    recall  f1-score   support\n",
      "\n",
      "    negative       0.69      0.99      0.81      1836\n",
      "     neutral       0.76      0.18      0.30       620\n",
      "    positive       0.90      0.23      0.36       472\n",
      "\n",
      "    accuracy                           0.70      2928\n",
      "   macro avg       0.78      0.47      0.49      2928\n",
      "weighted avg       0.74      0.70      0.63      2928\n",
      "\n"
     ]
    },
    {
     "data": {
      "image/png": "[encoded data removed]",
      "text/plain": [
       "<Figure size 864x432 with 2 Axes>"
      ]
     },
     "metadata": {},
     "output_type": "display_data"
    }
   ],
   "source": [
    "print(\"NB MODEL\")\n",
    "evaluation(nb, X_train_tf_idf, X_test_tf_idf)"
   ]
  },
  {
   "cell_type": "markdown",
   "metadata": {},
   "source": [
    "### Logistic Regression"
   ]
  },
  {
   "cell_type": "code",
   "execution_count": 53,
   "metadata": {
    "ExecuteTime": {
     "end_time": "2022-03-01T01:33:34.669303Z",
     "start_time": "2022-03-01T01:33:34.209016Z"
    }
   },
   "outputs": [
    {
     "data": {
      "text/plain": [
       "LogisticRegression(C=0.4, max_iter=1000)"
      ]
     },
     "execution_count": 53,
     "metadata": {},
     "output_type": "execute_result"
    }
   ],
   "source": [
    "#Initiliazing second model.\n",
    "log = LogisticRegression(C=0.4, max_iter=1000) \n",
    "log.fit(X_train_tf_idf,y_train)"
   ]
  },
  {
   "cell_type": "code",
   "execution_count": 54,
   "metadata": {
    "ExecuteTime": {
     "end_time": "2022-03-01T01:33:35.100056Z",
     "start_time": "2022-03-01T01:33:34.670792Z"
    }
   },
   "outputs": [
    {
     "name": "stdout",
     "output_type": "stream",
     "text": [
      "LOG MODEL\n",
      "==== Train Set ====\n",
      "              precision    recall  f1-score   support\n",
      "\n",
      "    negative       0.80      0.98      0.88      7342\n",
      "     neutral       0.84      0.51      0.63      2479\n",
      "    positive       0.89      0.59      0.71      1891\n",
      "\n",
      "    accuracy                           0.82     11712\n",
      "   macro avg       0.84      0.69      0.74     11712\n",
      "weighted avg       0.82      0.82      0.80     11712\n",
      "\n",
      "==== Test Set ====\n",
      "              precision    recall  f1-score   support\n",
      "\n",
      "    negative       0.78      0.96      0.86      1836\n",
      "     neutral       0.71      0.39      0.50       620\n",
      "    positive       0.83      0.57      0.67       472\n",
      "\n",
      "    accuracy                           0.77      2928\n",
      "   macro avg       0.77      0.64      0.68      2928\n",
      "weighted avg       0.77      0.77      0.75      2928\n",
      "\n"
     ]
    },
    {
     "data": {
      "image/png": "[encoded data removed]",
      "text/plain": [
       "<Figure size 864x432 with 2 Axes>"
      ]
     },
     "metadata": {},
     "output_type": "display_data"
    }
   ],
   "source": [
    "print(\"LOG MODEL\")\n",
    "evaluation(log, X_train_tf_idf, X_test_tf_idf)"
   ]
  },
  {
   "cell_type": "markdown",
   "metadata": {},
   "source": [
    "### Random Forest"
   ]
  },
  {
   "cell_type": "code",
   "execution_count": 55,
   "metadata": {
    "ExecuteTime": {
     "end_time": "2022-03-01T01:33:35.115432Z",
     "start_time": "2022-03-01T01:33:35.101020Z"
    }
   },
   "outputs": [],
   "source": [
    "from sklearn.ensemble import RandomForestClassifier"
   ]
  },
  {
   "cell_type": "code",
   "execution_count": 56,
   "metadata": {
    "ExecuteTime": {
     "end_time": "2022-03-01T01:33:35.392173Z",
     "start_time": "2022-03-01T01:33:35.116396Z"
    }
   },
   "outputs": [
    {
     "data": {
      "text/plain": [
       "RandomForestClassifier(max_depth=40, n_jobs=-1, random_state=42)"
      ]
     },
     "execution_count": 56,
     "metadata": {},
     "output_type": "execute_result"
    }
   ],
   "source": [
    "#Initiliazing third model.\n",
    "rf = RandomForestClassifier(100, max_depth=40, random_state = 42, n_jobs = -1)\n",
    "rf.fit(X_train_tf_idf, y_train)"
   ]
  },
  {
   "cell_type": "code",
   "execution_count": 57,
   "metadata": {
    "ExecuteTime": {
     "end_time": "2022-03-01T01:33:35.853623Z",
     "start_time": "2022-03-01T01:33:35.393169Z"
    }
   },
   "outputs": [
    {
     "name": "stdout",
     "output_type": "stream",
     "text": [
      "RF MODEL\n",
      "==== Train Set ====\n",
      "              precision    recall  f1-score   support\n",
      "\n",
      "    negative       0.69      1.00      0.82      7342\n",
      "     neutral       0.98      0.15      0.25      2479\n",
      "    positive       0.97      0.37      0.53      1891\n",
      "\n",
      "    accuracy                           0.72     11712\n",
      "   macro avg       0.88      0.50      0.53     11712\n",
      "weighted avg       0.80      0.72      0.65     11712\n",
      "\n",
      "==== Test Set ====\n",
      "              precision    recall  f1-score   support\n",
      "\n",
      "    negative       0.67      0.99      0.80      1836\n",
      "     neutral       0.81      0.08      0.15       620\n",
      "    positive       0.85      0.25      0.38       472\n",
      "\n",
      "    accuracy                           0.68      2928\n",
      "   macro avg       0.78      0.44      0.44      2928\n",
      "weighted avg       0.73      0.68      0.59      2928\n",
      "\n"
     ]
    },
    {
     "data": {
      "image/png": "[encoded data removed]",
      "text/plain": [
       "<Figure size 864x432 with 2 Axes>"
      ]
     },
     "metadata": {},
     "output_type": "display_data"
    }
   ],
   "source": [
    "print(\"RF MODEL\")\n",
    "evaluation(rf, X_train_tf_idf, X_test_tf_idf)"
   ]
  },
  {
   "cell_type": "markdown",
   "metadata": {},
   "source": [
    "**Best model is Random Forest until here. Looks like it did pretty well on negative class but need to improve neutral and positive classes too.**"
   ]
  },
  {
   "cell_type": "code",
   "execution_count": 58,
   "metadata": {
    "ExecuteTime": {
     "end_time": "2022-03-01T01:33:35.945494Z",
     "start_time": "2022-03-01T01:33:35.855111Z"
    }
   },
   "outputs": [],
   "source": [
    "from sklearn.ensemble import GradientBoostingClassifier\n",
    "from xgboost import XGBClassifier\n",
    "from sklearn.tree import DecisionTreeClassifier"
   ]
  },
  {
   "cell_type": "markdown",
   "metadata": {},
   "source": [
    "### Gradient Boosting"
   ]
  },
  {
   "cell_type": "code",
   "execution_count": 59,
   "metadata": {
    "ExecuteTime": {
     "end_time": "2022-03-01T01:33:42.418801Z",
     "start_time": "2022-03-01T01:33:35.946487Z"
    }
   },
   "outputs": [
    {
     "data": {
      "text/plain": [
       "GradientBoostingClassifier()"
      ]
     },
     "execution_count": 59,
     "metadata": {},
     "output_type": "execute_result"
    }
   ],
   "source": [
    "#Initiliazing fourth model.\n",
    "gb = GradientBoostingClassifier()\n",
    "gb.fit(X_train_tf_idf, y_train)"
   ]
  },
  {
   "cell_type": "code",
   "execution_count": 60,
   "metadata": {
    "ExecuteTime": {
     "end_time": "2022-03-01T01:33:42.880082Z",
     "start_time": "2022-03-01T01:33:42.419794Z"
    }
   },
   "outputs": [
    {
     "name": "stdout",
     "output_type": "stream",
     "text": [
      "RF MODEL\n",
      "==== Train Set ====\n",
      "              precision    recall  f1-score   support\n",
      "\n",
      "    negative       0.74      0.97      0.84      7342\n",
      "     neutral       0.78      0.24      0.37      2479\n",
      "    positive       0.79      0.56      0.66      1891\n",
      "\n",
      "    accuracy                           0.75     11712\n",
      "   macro avg       0.77      0.59      0.62     11712\n",
      "weighted avg       0.76      0.75      0.71     11712\n",
      "\n",
      "==== Test Set ====\n",
      "              precision    recall  f1-score   support\n",
      "\n",
      "    negative       0.74      0.96      0.83      1836\n",
      "     neutral       0.68      0.20      0.31       620\n",
      "    positive       0.73      0.57      0.64       472\n",
      "\n",
      "    accuracy                           0.73      2928\n",
      "   macro avg       0.72      0.57      0.59      2928\n",
      "weighted avg       0.72      0.73      0.69      2928\n",
      "\n"
     ]
    },
    {
     "data": {
      "image/png": "[encoded data removed]",
      "text/plain": [
       "<Figure size 864x432 with 2 Axes>"
      ]
     },
     "metadata": {},
     "output_type": "display_data"
    }
   ],
   "source": [
    "print(\"RF MODEL\")\n",
    "evaluation(gb, X_train_tf_idf, X_test_tf_idf)"
   ]
  },
  {
   "cell_type": "markdown",
   "metadata": {},
   "source": [
    "### Ada Boost"
   ]
  },
  {
   "cell_type": "code",
   "execution_count": 61,
   "metadata": {
    "ExecuteTime": {
     "end_time": "2022-03-01T01:33:51.629038Z",
     "start_time": "2022-03-01T01:33:42.881570Z"
    }
   },
   "outputs": [
    {
     "data": {
      "text/plain": [
       "AdaBoostClassifier(n_estimators=500, random_state=42)"
      ]
     },
     "execution_count": 61,
     "metadata": {},
     "output_type": "execute_result"
    }
   ],
   "source": [
    "#Initiliazing fifth model.\n",
    "ada = AdaBoostClassifier(n_estimators= 500, random_state = 42)\n",
    "ada.fit(X_train_tf_idf, y_train)"
   ]
  },
  {
   "cell_type": "code",
   "execution_count": 62,
   "metadata": {
    "ExecuteTime": {
     "end_time": "2022-03-01T01:33:53.135921Z",
     "start_time": "2022-03-01T01:33:51.630030Z"
    }
   },
   "outputs": [
    {
     "name": "stdout",
     "output_type": "stream",
     "text": [
      "Ada MODEL\n",
      "==== Train Set ====\n",
      "              precision    recall  f1-score   support\n",
      "\n",
      "    negative       0.81      0.92      0.86      7342\n",
      "     neutral       0.63      0.43      0.51      2479\n",
      "    positive       0.83      0.73      0.78      1891\n",
      "\n",
      "    accuracy                           0.78     11712\n",
      "   macro avg       0.76      0.69      0.72     11712\n",
      "weighted avg       0.77      0.78      0.77     11712\n",
      "\n",
      "==== Test Set ====\n",
      "              precision    recall  f1-score   support\n",
      "\n",
      "    negative       0.79      0.87      0.83      1836\n",
      "     neutral       0.53      0.39      0.45       620\n",
      "    positive       0.69      0.65      0.67       472\n",
      "\n",
      "    accuracy                           0.73      2928\n",
      "   macro avg       0.67      0.64      0.65      2928\n",
      "weighted avg       0.72      0.73      0.72      2928\n",
      "\n"
     ]
    },
    {
     "data": {
      "image/png": "[encoded data removed]",
      "text/plain": [
       "<Figure size 864x432 with 2 Axes>"
      ]
     },
     "metadata": {},
     "output_type": "display_data"
    }
   ],
   "source": [
    "print(\"Ada MODEL\")\n",
    "evaluation(ada, X_train_tf_idf, X_test_tf_idf)\n"
   ]
  },
  {
   "cell_type": "markdown",
   "metadata": {},
   "source": [
    "## Prediction"
   ]
  },
  {
   "cell_type": "code",
   "execution_count": 63,
   "metadata": {
    "ExecuteTime": {
     "end_time": "2022-03-01T01:33:53.151289Z",
     "start_time": "2022-03-01T01:33:53.137378Z"
    }
   },
   "outputs": [],
   "source": [
    "#Importing pipeline.\n",
    "from sklearn.pipeline import Pipeline"
   ]
  },
  {
   "cell_type": "code",
   "execution_count": 64,
   "metadata": {
    "ExecuteTime": {
     "end_time": "2022-03-01T01:33:53.166531Z",
     "start_time": "2022-03-01T01:33:53.152752Z"
    }
   },
   "outputs": [],
   "source": [
    "# Initializing pipeline.\n",
    "pipe = Pipeline([('tfidf',TfidfVectorizer()),('log',LogisticRegression(C=0.4, max_iter=1000))])"
   ]
  },
  {
   "cell_type": "code",
   "execution_count": 65,
   "metadata": {
    "ExecuteTime": {
     "end_time": "2022-03-01T01:33:53.858454Z",
     "start_time": "2022-03-01T01:33:53.167548Z"
    }
   },
   "outputs": [
    {
     "data": {
      "text/plain": [
       "Pipeline(steps=[('tfidf', TfidfVectorizer()),\n",
       "                ('log', LogisticRegression(C=0.4, max_iter=1000))])"
      ]
     },
     "execution_count": 65,
     "metadata": {},
     "output_type": "execute_result"
    }
   ],
   "source": [
    "#Fitting.\n",
    "pipe.fit(X, y)"
   ]
  },
  {
   "cell_type": "code",
   "execution_count": 66,
   "metadata": {
    "ExecuteTime": {
     "end_time": "2022-03-01T01:33:53.873830Z",
     "start_time": "2022-03-01T01:33:53.859942Z"
    }
   },
   "outputs": [
    {
     "data": {
      "text/plain": [
       "array(['negative'], dtype=object)"
      ]
     },
     "execution_count": 66,
     "metadata": {},
     "output_type": "execute_result"
    }
   ],
   "source": [
    "#Example prediction.\n",
    "tweet = \"it was not the worst flight i have ever been\"\n",
    "tweet = pd.Series(tweet).apply(cleaning)  \n",
    "pipe.predict(tweet)"
   ]
  },
  {
   "cell_type": "code",
   "execution_count": 67,
   "metadata": {
    "ExecuteTime": {
     "end_time": "2022-03-01T01:33:53.889206Z",
     "start_time": "2022-03-01T01:33:53.875317Z"
    }
   },
   "outputs": [
    {
     "data": {
      "text/plain": [
       "array(['negative'], dtype=object)"
      ]
     },
     "execution_count": 67,
     "metadata": {},
     "output_type": "execute_result"
    }
   ],
   "source": [
    "#Example prediction.\n",
    "tweet = \"don't enjoy flight\"\n",
    "tweet = pd.Series(tweet).apply(cleaning)\n",
    "pipe.predict(tweet)"
   ]
  },
  {
   "cell_type": "code",
   "execution_count": 68,
   "metadata": {
    "ExecuteTime": {
     "end_time": "2022-03-01T01:33:53.904582Z",
     "start_time": "2022-03-01T01:33:53.895158Z"
    }
   },
   "outputs": [
    {
     "data": {
      "text/plain": [
       "array(['neutral'], dtype=object)"
      ]
     },
     "execution_count": 68,
     "metadata": {},
     "output_type": "execute_result"
    }
   ],
   "source": [
    "#Example prediction.\n",
    "tweet = \"ok flight\"\n",
    "tweet = pd.Series(tweet).apply(cleaning)\n",
    "pipe.predict(tweet)"
   ]
  },
  {
   "cell_type": "code",
   "execution_count": 69,
   "metadata": {
    "ExecuteTime": {
     "end_time": "2022-03-01T01:33:53.919958Z",
     "start_time": "2022-03-01T01:33:53.907558Z"
    }
   },
   "outputs": [
    {
     "data": {
      "text/plain": [
       "array(['negative'], dtype=object)"
      ]
     },
     "execution_count": 69,
     "metadata": {},
     "output_type": "execute_result"
    }
   ],
   "source": [
    "#Example prediction.\n",
    "tweet = \"doesn't enjoy flight\"\n",
    "tweet = pd.Series(tweet).apply(cleaning)\n",
    "pipe.predict(tweet)"
   ]
  },
  {
   "cell_type": "code",
   "execution_count": 171,
   "metadata": {
    "ExecuteTime": {
     "end_time": "2022-03-01T05:24:07.302343Z",
     "start_time": "2022-03-01T05:24:07.293890Z"
    }
   },
   "outputs": [
    {
     "data": {
      "text/plain": [
       "array(['negative'], dtype=object)"
      ]
     },
     "execution_count": 171,
     "metadata": {},
     "output_type": "execute_result"
    }
   ],
   "source": [
    "#Example prediction.(\"\"\" WRONG PREDICTION BY MODEL \"\"\")\n",
    "tweet = \"liked\"\n",
    "tweet = pd.Series(tweet).apply(cleaning)\n",
    "pipe.predict(tweet)"
   ]
  },
  {
   "cell_type": "markdown",
   "metadata": {},
   "source": [
    "## Sequential"
   ]
  },
  {
   "cell_type": "code",
   "execution_count": 70,
   "metadata": {
    "ExecuteTime": {
     "end_time": "2022-03-01T01:33:55.625592Z",
     "start_time": "2022-03-01T01:33:53.922438Z"
    }
   },
   "outputs": [],
   "source": [
    "#Importing necessary modules.\n",
    "from tensorflow.keras import layers, models"
   ]
  },
  {
   "cell_type": "code",
   "execution_count": 72,
   "metadata": {
    "ExecuteTime": {
     "end_time": "2022-03-01T01:33:55.810115Z",
     "start_time": "2022-03-01T01:33:55.673372Z"
    }
   },
   "outputs": [],
   "source": [
    "#Importing necessary modules.\n",
    "import gensim\n",
    "from gensim.models import Word2Vec"
   ]
  },
  {
   "cell_type": "code",
   "execution_count": 76,
   "metadata": {
    "ExecuteTime": {
     "end_time": "2022-03-01T01:33:57.485213Z",
     "start_time": "2022-03-01T01:33:57.470828Z"
    }
   },
   "outputs": [
    {
     "data": {
      "text/html": [
       "<div>\n",
       "<style scoped>\n",
       "    .dataframe tbody tr th:only-of-type {\n",
       "        vertical-align: middle;\n",
       "    }\n",
       "\n",
       "    .dataframe tbody tr th {\n",
       "        vertical-align: top;\n",
       "    }\n",
       "\n",
       "    .dataframe thead th {\n",
       "        text-align: right;\n",
       "    }\n",
       "</style>\n",
       "<table border=\"1\" class=\"dataframe\">\n",
       "  <thead>\n",
       "    <tr style=\"text-align: right;\">\n",
       "      <th></th>\n",
       "      <th>airline_sentiment</th>\n",
       "      <th>text</th>\n",
       "    </tr>\n",
       "  </thead>\n",
       "  <tbody>\n",
       "    <tr>\n",
       "      <th>0</th>\n",
       "      <td>neutral</td>\n",
       "      <td>said</td>\n",
       "    </tr>\n",
       "    <tr>\n",
       "      <th>1</th>\n",
       "      <td>positive</td>\n",
       "      <td>plus youve added commercial experience tacky</td>\n",
       "    </tr>\n",
       "    <tr>\n",
       "      <th>2</th>\n",
       "      <td>neutral</td>\n",
       "      <td>didnt today must mean need take another trip</td>\n",
       "    </tr>\n",
       "    <tr>\n",
       "      <th>3</th>\n",
       "      <td>negative</td>\n",
       "      <td>really aggressive blast obnoxious entertainmen...</td>\n",
       "    </tr>\n",
       "    <tr>\n",
       "      <th>4</th>\n",
       "      <td>negative</td>\n",
       "      <td>really big bad thing</td>\n",
       "    </tr>\n",
       "    <tr>\n",
       "      <th>...</th>\n",
       "      <td>...</td>\n",
       "      <td>...</td>\n",
       "    </tr>\n",
       "    <tr>\n",
       "      <th>14635</th>\n",
       "      <td>positive</td>\n",
       "      <td>thank got different flight chicago</td>\n",
       "    </tr>\n",
       "    <tr>\n",
       "      <th>14636</th>\n",
       "      <td>negative</td>\n",
       "      <td>leaving minute late flight warning communicati...</td>\n",
       "    </tr>\n",
       "    <tr>\n",
       "      <th>14637</th>\n",
       "      <td>neutral</td>\n",
       "      <td>please bring american airline</td>\n",
       "    </tr>\n",
       "    <tr>\n",
       "      <th>14638</th>\n",
       "      <td>negative</td>\n",
       "      <td>money change flight dont answer phone suggesti...</td>\n",
       "    </tr>\n",
       "    <tr>\n",
       "      <th>14639</th>\n",
       "      <td>neutral</td>\n",
       "      <td>ppl need know many seat next flight plz put u ...</td>\n",
       "    </tr>\n",
       "  </tbody>\n",
       "</table>\n",
       "<p>14640 rows × 2 columns</p>\n",
       "</div>"
      ],
      "text/plain": [
       "      airline_sentiment                                               text\n",
       "0               neutral                                               said\n",
       "1              positive       plus youve added commercial experience tacky\n",
       "2               neutral       didnt today must mean need take another trip\n",
       "3              negative  really aggressive blast obnoxious entertainmen...\n",
       "4              negative                               really big bad thing\n",
       "...                 ...                                                ...\n",
       "14635          positive                 thank got different flight chicago\n",
       "14636          negative  leaving minute late flight warning communicati...\n",
       "14637           neutral                      please bring american airline\n",
       "14638          negative  money change flight dont answer phone suggesti...\n",
       "14639           neutral  ppl need know many seat next flight plz put u ...\n",
       "\n",
       "[14640 rows x 2 columns]"
      ]
     },
     "execution_count": 76,
     "metadata": {},
     "output_type": "execute_result"
    }
   ],
   "source": [
    "# Remembering data.\n",
    "df2"
   ]
  },
  {
   "cell_type": "code",
   "execution_count": 77,
   "metadata": {
    "ExecuteTime": {
     "end_time": "2022-03-01T01:33:58.623038Z",
     "start_time": "2022-03-01T01:33:57.486205Z"
    }
   },
   "outputs": [],
   "source": [
    "#Creating target and feature.\n",
    "target = df2['airline_sentiment']\n",
    "data = df2['text'].map(word_tokenize).values"
   ]
  },
  {
   "cell_type": "code",
   "execution_count": 80,
   "metadata": {
    "ExecuteTime": {
     "end_time": "2022-03-01T01:33:58.669040Z",
     "start_time": "2022-03-01T01:33:58.654655Z"
    }
   },
   "outputs": [],
   "source": [
    "# Creating function to tokenize.\n",
    "def tokenize(d):\n",
    "    return word_tokenize(d)"
   ]
  },
  {
   "cell_type": "code",
   "execution_count": 81,
   "metadata": {
    "ExecuteTime": {
     "end_time": "2022-03-01T01:33:59.822195Z",
     "start_time": "2022-03-01T01:33:58.671520Z"
    }
   },
   "outputs": [],
   "source": [
    "# Creating variable for tokenized target variable.\n",
    "texts_w2v = df2.text.apply(tokenize).to_list()"
   ]
  },
  {
   "cell_type": "markdown",
   "metadata": {},
   "source": [
    "### Word2Vec Model"
   ]
  },
  {
   "cell_type": "code",
   "execution_count": 82,
   "metadata": {
    "ExecuteTime": {
     "end_time": "2022-03-01T01:34:00.329766Z",
     "start_time": "2022-03-01T01:33:59.823187Z"
    }
   },
   "outputs": [],
   "source": [
    "# Initializing Word2Vec model.\n",
    "w2v = Word2Vec(sentences = texts_w2v, window = 3,\n",
    "               vector_size = 100, min_count = 5, workers = 4, sg = 1)"
   ]
  },
  {
   "cell_type": "code",
   "execution_count": 83,
   "metadata": {
    "ExecuteTime": {
     "end_time": "2022-03-01T01:34:00.345142Z",
     "start_time": "2022-03-01T01:34:00.330758Z"
    }
   },
   "outputs": [
    {
     "data": {
      "text/plain": [
       "[['said'],\n",
       " ['plus', 'youve', 'added', 'commercial', 'experience', 'tacky'],\n",
       " ['didnt', 'today', 'must', 'mean', 'need', 'take', 'another', 'trip'],\n",
       " ['really',\n",
       "  'aggressive',\n",
       "  'blast',\n",
       "  'obnoxious',\n",
       "  'entertainment',\n",
       "  'guest',\n",
       "  'face',\n",
       "  'amp',\n",
       "  'little',\n",
       "  'recourse'],\n",
       " ['really', 'big', 'bad', 'thing']]"
      ]
     },
     "execution_count": 83,
     "metadata": {},
     "output_type": "execute_result"
    }
   ],
   "source": [
    "# Looking for tokenized and listed data.\n",
    "texts_w2v[:5]"
   ]
  },
  {
   "cell_type": "markdown",
   "metadata": {},
   "source": [
    "#### Similar words with the given word examples"
   ]
  },
  {
   "cell_type": "code",
   "execution_count": 84,
   "metadata": {
    "ExecuteTime": {
     "end_time": "2022-03-01T01:34:00.360518Z",
     "start_time": "2022-03-01T01:34:00.346134Z"
    }
   },
   "outputs": [
    {
     "data": {
      "text/plain": [
       "[('much', 0.9669926762580872),\n",
       " ('quick', 0.9581903219223022),\n",
       " ('appreciate', 0.9512640833854675),\n",
       " ('amazing', 0.9477537274360657),\n",
       " ('twitter', 0.9317639470100403),\n",
       " ('care', 0.9286403656005859),\n",
       " ('awesome', 0.9187070727348328),\n",
       " ('complaint', 0.9129829406738281),\n",
       " ('medium', 0.9096567034721375),\n",
       " ('tweet', 0.9080104827880859)]"
      ]
     },
     "execution_count": 84,
     "metadata": {},
     "output_type": "execute_result"
    }
   ],
   "source": [
    "#Looking for similar word with given words.\n",
    "w2v.wv.most_similar('thank')"
   ]
  },
  {
   "cell_type": "code",
   "execution_count": 85,
   "metadata": {
    "ExecuteTime": {
     "end_time": "2022-03-01T01:34:00.376082Z",
     "start_time": "2022-03-01T01:34:00.362006Z"
    }
   },
   "outputs": [
    {
     "data": {
      "text/plain": [
       "[('nightmare', 0.994503378868103),\n",
       " ('neveragain', 0.9943042397499084),\n",
       " ('biggest', 0.9914339184761047),\n",
       " ('abysmal', 0.9903689026832581),\n",
       " ('horrendous', 0.9900234937667847),\n",
       " ('bullshit', 0.9893454313278198),\n",
       " ('ashamed', 0.9892138838768005),\n",
       " ('loved', 0.9888815879821777),\n",
       " ('est', 0.9888523817062378),\n",
       " ('learned', 0.9888007044792175)]"
      ]
     },
     "execution_count": 85,
     "metadata": {},
     "output_type": "execute_result"
    }
   ],
   "source": [
    "#Looking for similar word with given words.\n",
    "w2v.wv.most_similar('customerservice')"
   ]
  },
  {
   "cell_type": "code",
   "execution_count": 86,
   "metadata": {
    "ExecuteTime": {
     "end_time": "2022-03-01T01:34:00.391478Z",
     "start_time": "2022-03-01T01:34:00.377570Z"
    }
   },
   "outputs": [
    {
     "data": {
      "text/plain": [
       "[('pilot', 0.917129397392273),\n",
       " ('ground', 0.8944821357727051),\n",
       " ('jfk', 0.8787472248077393),\n",
       " ('attendant', 0.8657433986663818),\n",
       " ('plane', 0.85694420337677),\n",
       " ('staff', 0.8503057360649109),\n",
       " ('landing', 0.8486275672912598),\n",
       " ('made', 0.848362147808075),\n",
       " ('ord', 0.8384466767311096),\n",
       " ('san', 0.8360778093338013)]"
      ]
     },
     "execution_count": 86,
     "metadata": {},
     "output_type": "execute_result"
    }
   ],
   "source": [
    "#Looking for similar word with given words.\n",
    "w2v.wv.most_similar('crew')"
   ]
  },
  {
   "cell_type": "code",
   "execution_count": 87,
   "metadata": {
    "ExecuteTime": {
     "end_time": "2022-03-01T01:34:00.406877Z",
     "start_time": "2022-03-01T01:34:00.393461Z"
    }
   },
   "outputs": [
    {
     "data": {
      "text/plain": [
       "[('delayed', 0.9398424029350281),\n",
       " ('ewr', 0.9230515956878662),\n",
       " ('stuck', 0.9222317337989807),\n",
       " ('sfo', 0.9217750430107117),\n",
       " ('maintenance', 0.9214389324188232),\n",
       " ('due', 0.9181495904922485),\n",
       " ('mechanical', 0.9120343327522278),\n",
       " ('phx', 0.9107290506362915),\n",
       " ('phl', 0.9033175706863403),\n",
       " ('jfk', 0.9022048115730286)]"
      ]
     },
     "execution_count": 87,
     "metadata": {},
     "output_type": "execute_result"
    }
   ],
   "source": [
    "#Looking for similar word with given words.\n",
    "w2v.wv.most_similar('delay')"
   ]
  },
  {
   "cell_type": "code",
   "execution_count": 88,
   "metadata": {
    "ExecuteTime": {
     "end_time": "2022-03-01T01:34:00.422249Z",
     "start_time": "2022-03-01T01:34:00.407845Z"
    }
   },
   "outputs": [
    {
     "data": {
      "text/plain": [
       "[('fee', 0.9149150252342224),\n",
       " ('award', 0.9119688868522644),\n",
       " ('name', 0.9083679914474487),\n",
       " ('credit', 0.902630090713501),\n",
       " ('refund', 0.9007839560508728),\n",
       " ('use', 0.8909323215484619),\n",
       " ('add', 0.8878641128540039),\n",
       " ('booked', 0.8862524628639221),\n",
       " ('pay', 0.8824276328086853),\n",
       " ('companion', 0.8818210363388062)]"
      ]
     },
     "execution_count": 88,
     "metadata": {},
     "output_type": "execute_result"
    }
   ],
   "source": [
    "#Looking for similar word with given words.\n",
    "w2v.wv.most_similar('ticket')"
   ]
  },
  {
   "cell_type": "code",
   "execution_count": 89,
   "metadata": {
    "ExecuteTime": {
     "end_time": "2022-03-01T01:34:02.175122Z",
     "start_time": "2022-03-01T01:34:00.423222Z"
    }
   },
   "outputs": [
    {
     "data": {
      "text/html": [
       "<div>\n",
       "<style scoped>\n",
       "    .dataframe tbody tr th:only-of-type {\n",
       "        vertical-align: middle;\n",
       "    }\n",
       "\n",
       "    .dataframe tbody tr th {\n",
       "        vertical-align: top;\n",
       "    }\n",
       "\n",
       "    .dataframe thead th {\n",
       "        text-align: right;\n",
       "    }\n",
       "</style>\n",
       "<table border=\"1\" class=\"dataframe\">\n",
       "  <thead>\n",
       "    <tr style=\"text-align: right;\">\n",
       "      <th></th>\n",
       "      <th>text</th>\n",
       "      <th>w2v_vector</th>\n",
       "    </tr>\n",
       "  </thead>\n",
       "  <tbody>\n",
       "    <tr>\n",
       "      <th>0</th>\n",
       "      <td>said</td>\n",
       "      <td>[-0.10832026600837708, 0.027967197820544243, -...</td>\n",
       "    </tr>\n",
       "    <tr>\n",
       "      <th>1</th>\n",
       "      <td>plus youve added commercial experience tacky</td>\n",
       "      <td>[-0.07126817880198359, 0.12060708254575729, -0...</td>\n",
       "    </tr>\n",
       "  </tbody>\n",
       "</table>\n",
       "</div>"
      ],
      "text/plain": [
       "                                           text  \\\n",
       "0                                          said   \n",
       "1  plus youve added commercial experience tacky   \n",
       "\n",
       "                                          w2v_vector  \n",
       "0  [-0.10832026600837708, 0.027967197820544243, -...  \n",
       "1  [-0.07126817880198359, 0.12060708254575729, -0...  "
      ]
     },
     "execution_count": 89,
     "metadata": {},
     "output_type": "execute_result"
    }
   ],
   "source": [
    "# Creating vectors for every text.\n",
    "def get_avg_vector(sent):\n",
    "    vector = np.zeros(100)\n",
    "    total_words = 0\n",
    "    for word in sent.split():        \n",
    "        if word in w2v.wv.index_to_key:    # don't use .wv.vocab method in kaggle notebook. instead, use .wv.index_to_key method.\n",
    "            vector += w2v.wv.word_vec(word)\n",
    "            total_words += 1\n",
    "    if total_words > 0:\n",
    "        return vector / total_words\n",
    "    else:\n",
    "        return vector\n",
    "    \n",
    "df2['w2v_vector'] = df2['text'].map(get_avg_vector)\n",
    "df2[['text', 'w2v_vector']].head(2)"
   ]
  },
  {
   "cell_type": "code",
   "execution_count": 90,
   "metadata": {
    "ExecuteTime": {
     "end_time": "2022-03-01T01:34:02.190472Z",
     "start_time": "2022-03-01T01:34:02.176087Z"
    }
   },
   "outputs": [],
   "source": [
    "#Importing necesarry modules.\n",
    "from sklearn.svm import SVC\n",
    "from sklearn.model_selection import StratifiedKFold\n",
    "from sklearn.metrics import accuracy_score"
   ]
  },
  {
   "cell_type": "code",
   "execution_count": 91,
   "metadata": {
    "ExecuteTime": {
     "end_time": "2022-03-01T01:35:38.104873Z",
     "start_time": "2022-03-01T01:34:02.191463Z"
    }
   },
   "outputs": [
    {
     "name": "stdout",
     "output_type": "stream",
     "text": [
      "Model: LogisticRegression, Word2Vec, Accuracy: 72.097%\n",
      "\n",
      "Model: RandomForest, Word2Vec, Accuracy: 73.340%\n",
      "\n",
      "Model: SupportVectorMachine, Word2Vec, Accuracy: 71.407%\n",
      "\n"
     ]
    }
   ],
   "source": [
    "# Checking three different models accuracy for improve further.\n",
    "model_params = {'random_state':42}\n",
    "model_list = [LogisticRegression(**model_params, solver='liblinear'),\n",
    "              RandomForestClassifier(**model_params),\n",
    "#               MultinomialNB(),  # Don't use Naive Bayes since w2v_vector contains negative numbers, then it causes an error.\n",
    "              SVC(**model_params)]\n",
    "model_name = ['LogisticRegression', 'RandomForest', 'SupportVectorMachine']\n",
    "\n",
    "skf = StratifiedKFold(n_splits=5, shuffle=True, random_state=42)\n",
    "\n",
    "for model, model_name in zip(model_list, model_name):\n",
    "    for n_fold, (trn_idx, vld_idx) in enumerate(skf.split(df2.index, df2.airline_sentiment)):        \n",
    "        X_trn = np.stack(df2.loc[trn_idx, 'w2v_vector'])\n",
    "        y_trn = df2.loc[trn_idx, 'airline_sentiment']\n",
    "        \n",
    "        X_vld = np.stack(df2.loc[vld_idx, 'w2v_vector'])\n",
    "        y_vld = df2.loc[vld_idx, 'airline_sentiment']        \n",
    "        \n",
    "        model.fit(X_trn, y_trn)\n",
    "        pred_col = f\"{model_name}_w2v_pred\"\n",
    "        df2.loc[vld_idx, pred_col] = model.predict(X_vld)\n",
    "        \n",
    "\n",
    "    print(f\"Model: {model_name}, Word2Vec, Accuracy: {accuracy_score(df2.airline_sentiment, df2[pred_col]):.3%}\\n\")"
   ]
  },
  {
   "cell_type": "code",
   "execution_count": 98,
   "metadata": {
    "ExecuteTime": {
     "end_time": "2022-03-01T01:38:25.374653Z",
     "start_time": "2022-03-01T01:38:25.357293Z"
    }
   },
   "outputs": [],
   "source": [
    "#Importing necesarry modules.\n",
    "from keras.models import Sequential\n",
    "from keras.layers import Dense, LSTM, Bidirectional,Embedding\n",
    "from keras.layers import Dropout, Conv1D, MaxPooling1D\n",
    "from keras.callbacks import EarlyStopping\n",
    "from keras.layers import Dense, LSTM, Bidirectional,Embedding, Dropout, Conv1D, MaxPooling1D\n",
    "from keras.preprocessing.text import Tokenizer\n",
    "from keras.preprocessing.sequence import pad_sequences"
   ]
  },
  {
   "cell_type": "code",
   "execution_count": 99,
   "metadata": {
    "ExecuteTime": {
     "end_time": "2022-03-01T01:38:27.218077Z",
     "start_time": "2022-03-01T01:38:26.740906Z"
    }
   },
   "outputs": [
    {
     "name": "stdout",
     "output_type": "stream",
     "text": [
      "Before Tokenization & Padding \n",
      " said \n",
      "\n",
      "After Tokenization & Padding \n",
      " [ 81  62 226   0   0   0   0   0   0   0   0   0   0   0   0   0   0   0\n",
      "   0   0   0   0   0   0   0   0   0   0   0   0   0   0   0   0   0   0\n",
      "   0   0   0   0   0   0   0   0   0   0   0   0   0   0   0   0   0   0\n",
      "   0   0   0   0   0   0   0   0   0   0   0   0   0   0   0   0   0   0\n",
      "   0   0   0   0   0   0   0   0   0   0   0   0   0   0   0   0   0   0\n",
      "   0   0   0   0   0   0   0   0   0   0]\n"
     ]
    }
   ],
   "source": [
    "#Making function for tokenize and padding.\n",
    "\n",
    "max_words = 5000\n",
    "max_len = 100\n",
    "\n",
    "def tokenize_pad_sequences(text):\n",
    "    '''\n",
    "    This function tokenize the input text into sequnences of intergers and then\n",
    "    pad each sequence to the same length\n",
    "    '''\n",
    "    # Text tokenization\n",
    "    tokenizer = Tokenizer(num_words=max_words, lower=True, split=' ')\n",
    "    tokenizer.fit_on_texts(text)\n",
    "    # Transforms text to a sequence of integers\n",
    "    X = tokenizer.texts_to_sequences(text)\n",
    "    # Pad sequences to the same length\n",
    "    X = pad_sequences(X, padding='post', maxlen=max_len)\n",
    "    # return sequences\n",
    "    return X, tokenizer\n",
    "\n",
    "print('Before Tokenization & Padding \\n', df2['text'][0],'\\n')\n",
    "X, tokenizer = tokenize_pad_sequences(df['text'])\n",
    "print('After Tokenization & Padding \\n', X[0])"
   ]
  },
  {
   "cell_type": "code",
   "execution_count": 100,
   "metadata": {
    "ExecuteTime": {
     "end_time": "2022-03-01T01:38:29.168002Z",
     "start_time": "2022-03-01T01:38:29.035054Z"
    }
   },
   "outputs": [
    {
     "name": "stdout",
     "output_type": "stream",
     "text": [
      "Train:          (8198, 100) (8198, 3)\n",
      "Validation Set: (3514, 100) (3514, 3)\n",
      "Test Set:       (2928, 100) (2928, 3)\n"
     ]
    }
   ],
   "source": [
    "#Train test split.\n",
    "y = pd.get_dummies(df.airline_sentiment)\n",
    "X_trn, X_tst, y_trn, y_tst = train_test_split(X, y, test_size=0.2, random_state=42, stratify=y)\n",
    "X_trn, X_vld, y_trn, y_vld = train_test_split(X_trn, y_trn, test_size=0.3, random_state=42, stratify=y_trn)\n",
    "\n",
    "print('Train:         ', X_trn.shape, y_trn.shape)\n",
    "print('Validation Set:', X_vld.shape, y_vld.shape)\n",
    "print('Test Set:      ', X_tst.shape, y_tst.shape)"
   ]
  },
  {
   "cell_type": "markdown",
   "metadata": {},
   "source": [
    "### Sequential Model"
   ]
  },
  {
   "cell_type": "code",
   "execution_count": 101,
   "metadata": {
    "ExecuteTime": {
     "end_time": "2022-03-01T01:38:29.983698Z",
     "start_time": "2022-03-01T01:38:29.455459Z"
    }
   },
   "outputs": [],
   "source": [
    "#Creating necessary variables and initializing sequential model. Adding layers.\n",
    "vocab_size = 5000\n",
    "embedding_size = 32\n",
    "epochs=50\n",
    "max_words = 5000\n",
    "max_len = 100\n",
    "batch_size = 64\n",
    "\n",
    "model= Sequential()\n",
    "model.add(Embedding(vocab_size, embedding_size, input_length=max_len))\n",
    "model.add(Conv1D(filters=32, kernel_size=3, padding='same', activation='relu'))\n",
    "model.add(MaxPooling1D(pool_size=2, padding='same'))\n",
    "model.add(Bidirectional(LSTM(32)))\n",
    "model.add(Dropout(0.4))\n",
    "model.add(Dense(3, activation='softmax'))"
   ]
  },
  {
   "cell_type": "code",
   "execution_count": 102,
   "metadata": {
    "ExecuteTime": {
     "end_time": "2022-03-01T01:38:30.891293Z",
     "start_time": "2022-03-01T01:38:30.879885Z"
    }
   },
   "outputs": [
    {
     "name": "stdout",
     "output_type": "stream",
     "text": [
      "Model: \"sequential_1\"\n",
      "_________________________________________________________________\n",
      "Layer (type)                 Output Shape              Param #   \n",
      "=================================================================\n",
      "embedding (Embedding)        (None, 100, 32)           160000    \n",
      "_________________________________________________________________\n",
      "conv1d (Conv1D)              (None, 100, 32)           3104      \n",
      "_________________________________________________________________\n",
      "max_pooling1d (MaxPooling1D) (None, 50, 32)            0         \n",
      "_________________________________________________________________\n",
      "bidirectional (Bidirectional (None, 64)                16640     \n",
      "_________________________________________________________________\n",
      "dropout (Dropout)            (None, 64)                0         \n",
      "_________________________________________________________________\n",
      "dense (Dense)                (None, 3)                 195       \n",
      "=================================================================\n",
      "Total params: 179,939\n",
      "Trainable params: 179,939\n",
      "Non-trainable params: 0\n",
      "_________________________________________________________________\n",
      "None\n"
     ]
    }
   ],
   "source": [
    "#Compiling model. Looking into it.\n",
    "model.compile(loss='categorical_crossentropy', optimizer='adam', metrics=['accuracy'])\n",
    "print(model.summary())"
   ]
  },
  {
   "cell_type": "code",
   "execution_count": 103,
   "metadata": {
    "ExecuteTime": {
     "end_time": "2022-03-01T01:38:48.004389Z",
     "start_time": "2022-03-01T01:38:31.543160Z"
    }
   },
   "outputs": [
    {
     "name": "stdout",
     "output_type": "stream",
     "text": [
      "Epoch 1/50\n",
      "129/129 [==============================] - 2s 19ms/step - loss: 0.8140 - accuracy: 0.6494 - val_loss: 0.6619 - val_accuracy: 0.7001\n",
      "Epoch 2/50\n",
      "129/129 [==============================] - 2s 12ms/step - loss: 0.5572 - accuracy: 0.7570 - val_loss: 0.6161 - val_accuracy: 0.7612\n",
      "Epoch 3/50\n",
      "129/129 [==============================] - 2s 12ms/step - loss: 0.4457 - accuracy: 0.8248 - val_loss: 0.6031 - val_accuracy: 0.7706\n",
      "Epoch 4/50\n",
      "129/129 [==============================] - 2s 12ms/step - loss: 0.3590 - accuracy: 0.8655 - val_loss: 0.6650 - val_accuracy: 0.7729\n",
      "Epoch 5/50\n",
      "129/129 [==============================] - 2s 12ms/step - loss: 0.2787 - accuracy: 0.8999 - val_loss: 0.7160 - val_accuracy: 0.7803\n",
      "Epoch 6/50\n",
      "129/129 [==============================] - 2s 12ms/step - loss: 0.2213 - accuracy: 0.9219 - val_loss: 0.7294 - val_accuracy: 0.7749\n",
      "Epoch 7/50\n",
      "129/129 [==============================] - 2s 12ms/step - loss: 0.1672 - accuracy: 0.9455 - val_loss: 0.8347 - val_accuracy: 0.7735\n",
      "Epoch 8/50\n",
      "129/129 [==============================] - 2s 12ms/step - loss: 0.1359 - accuracy: 0.9540 - val_loss: 0.9739 - val_accuracy: 0.7678\n"
     ]
    }
   ],
   "source": [
    "#Trying early stopping and fitting model.\n",
    "es = EarlyStopping(monitor = 'val_loss', patience=5)\n",
    "batch_size = 64\n",
    "\n",
    "history = model.fit(X_trn, y_trn,validation_data=(X_vld, y_vld),batch_size=batch_size, epochs=epochs, verbose=1,callbacks = es)"
   ]
  },
  {
   "cell_type": "code",
   "execution_count": 104,
   "metadata": {
    "ExecuteTime": {
     "end_time": "2022-03-01T01:38:48.281161Z",
     "start_time": "2022-03-01T01:38:48.005872Z"
    }
   },
   "outputs": [
    {
     "name": "stdout",
     "output_type": "stream",
     "text": [
      "Accuracy  : 0.7845\n"
     ]
    }
   ],
   "source": [
    "# Evaluate model on the test set\n",
    "loss, accuracy = model.evaluate(X_tst, y_tst, verbose=0)\n",
    "\n",
    "# Print metrics\n",
    "print('Accuracy  : {:.4f}'.format(accuracy))"
   ]
  },
  {
   "cell_type": "code",
   "execution_count": 105,
   "metadata": {
    "ExecuteTime": {
     "end_time": "2022-03-01T01:42:44.347569Z",
     "start_time": "2022-03-01T01:42:44.062836Z"
    }
   },
   "outputs": [
    {
     "data": {
      "image/png": "[encoded data removed]",
      "text/plain": [
       "<Figure size 864x288 with 2 Axes>"
      ]
     },
     "metadata": {},
     "output_type": "display_data"
    }
   ],
   "source": [
    "# Visualizing loss and accuracy on sequential model.\n",
    "plt.figure(figsize=(12, 4))\n",
    "\n",
    "plt.subplot(1, 2, 1)\n",
    "plt.plot(history.history['loss'], 'b--', label = 'loss')\n",
    "plt.plot(history.history['val_loss'], 'r:', label = 'val_loss')\n",
    "plt.xlabel('Epochs')\n",
    "plt.legend()\n",
    "\n",
    "plt.subplot(1, 2, 2)\n",
    "plt.plot(history.history['accuracy'], 'b--', label = 'acc')\n",
    "plt.plot(history.history['val_accuracy'], 'r:', label = 'val_acc')\n",
    "plt.xlabel('Epochs')\n",
    "plt.legend()\n",
    "\n",
    "plt.show()"
   ]
  },
  {
   "cell_type": "code",
   "execution_count": 106,
   "metadata": {
    "ExecuteTime": {
     "end_time": "2022-03-01T01:42:47.206413Z",
     "start_time": "2022-03-01T01:42:46.199619Z"
    }
   },
   "outputs": [
    {
     "data": {
      "image/png": "[encoded data removed]",
      "text/plain": [
       "<Figure size 576x432 with 2 Axes>"
      ]
     },
     "metadata": {},
     "output_type": "display_data"
    }
   ],
   "source": [
    "from sklearn.metrics import confusion_matrix\n",
    "\n",
    "# Creating function to see confusion matrix for sequential model.\n",
    "\n",
    "def plot_confusion_matrix(model, X_test, y_test):\n",
    "    '''Function to plot confusion matrix for the passed model and the data'''\n",
    "    \n",
    "    sentiment_classes = ['Negative', 'Neutral', 'Positive']\n",
    "    # use model to do the prediction\n",
    "    y_pred = model.predict(X_test)\n",
    "    # compute confusion matrix\n",
    "    cm = confusion_matrix(np.argmax(np.array(y_test),axis=1), np.argmax(y_pred, axis=1))\n",
    "    # plot confusion matrix\n",
    "    plt.figure(figsize=(8,6))\n",
    "    sns.heatmap(cm, cmap=plt.cm.Blues, annot=True, fmt='d', \n",
    "                xticklabels=sentiment_classes,\n",
    "                yticklabels=sentiment_classes)\n",
    "    plt.title('Confusion matrix', fontsize=16)\n",
    "    plt.xlabel('Actual label', fontsize=12)\n",
    "    plt.ylabel('Predicted label', fontsize=12)\n",
    "    \n",
    "plot_confusion_matrix(model, X_tst, y_tst)"
   ]
  },
  {
   "cell_type": "markdown",
   "metadata": {},
   "source": [
    "### Improved(Second) Model"
   ]
  },
  {
   "cell_type": "code",
   "execution_count": 173,
   "metadata": {
    "ExecuteTime": {
     "end_time": "2022-03-01T05:34:30.122670Z",
     "start_time": "2022-03-01T05:34:30.115249Z"
    }
   },
   "outputs": [],
   "source": [
    "# Adding negative reasons from original data.\n",
    "df2['negativereason'] = df['negativereason']"
   ]
  },
  {
   "cell_type": "code",
   "execution_count": 174,
   "metadata": {
    "ExecuteTime": {
     "end_time": "2022-03-01T05:34:30.506193Z",
     "start_time": "2022-03-01T05:34:30.493296Z"
    }
   },
   "outputs": [],
   "source": [
    "# Filling missing values.\n",
    "df2['negativereason'].fillna('missing', inplace=True)"
   ]
  },
  {
   "cell_type": "code",
   "execution_count": 175,
   "metadata": {
    "ExecuteTime": {
     "end_time": "2022-03-01T05:34:30.843674Z",
     "start_time": "2022-03-01T05:34:30.824296Z"
    }
   },
   "outputs": [
    {
     "data": {
      "text/html": [
       "<div>\n",
       "<style scoped>\n",
       "    .dataframe tbody tr th:only-of-type {\n",
       "        vertical-align: middle;\n",
       "    }\n",
       "\n",
       "    .dataframe tbody tr th {\n",
       "        vertical-align: top;\n",
       "    }\n",
       "\n",
       "    .dataframe thead th {\n",
       "        text-align: right;\n",
       "    }\n",
       "</style>\n",
       "<table border=\"1\" class=\"dataframe\">\n",
       "  <thead>\n",
       "    <tr style=\"text-align: right;\">\n",
       "      <th></th>\n",
       "      <th>airline_sentiment</th>\n",
       "      <th>text</th>\n",
       "      <th>negativereason</th>\n",
       "      <th>reason_text</th>\n",
       "    </tr>\n",
       "  </thead>\n",
       "  <tbody>\n",
       "    <tr>\n",
       "      <th>0</th>\n",
       "      <td>neutral</td>\n",
       "      <td>said</td>\n",
       "      <td>missing</td>\n",
       "      <td>missing said</td>\n",
       "    </tr>\n",
       "    <tr>\n",
       "      <th>1</th>\n",
       "      <td>positive</td>\n",
       "      <td>plus youve added commercial experience tacky</td>\n",
       "      <td>missing</td>\n",
       "      <td>missing plus youve added commercial experience...</td>\n",
       "    </tr>\n",
       "    <tr>\n",
       "      <th>2</th>\n",
       "      <td>neutral</td>\n",
       "      <td>didnt today must mean need take another trip</td>\n",
       "      <td>missing</td>\n",
       "      <td>missing didnt today must mean need take anothe...</td>\n",
       "    </tr>\n",
       "    <tr>\n",
       "      <th>3</th>\n",
       "      <td>negative</td>\n",
       "      <td>really aggressive blast obnoxious entertainmen...</td>\n",
       "      <td>Bad Flight</td>\n",
       "      <td>Bad Flight really aggressive blast obnoxious e...</td>\n",
       "    </tr>\n",
       "    <tr>\n",
       "      <th>4</th>\n",
       "      <td>negative</td>\n",
       "      <td>really big bad thing</td>\n",
       "      <td>Can't Tell</td>\n",
       "      <td>Can't Tell really big bad thing</td>\n",
       "    </tr>\n",
       "  </tbody>\n",
       "</table>\n",
       "</div>"
      ],
      "text/plain": [
       "  airline_sentiment                                               text  \\\n",
       "0           neutral                                               said   \n",
       "1          positive       plus youve added commercial experience tacky   \n",
       "2           neutral       didnt today must mean need take another trip   \n",
       "3          negative  really aggressive blast obnoxious entertainmen...   \n",
       "4          negative                               really big bad thing   \n",
       "\n",
       "  negativereason                                        reason_text  \n",
       "0        missing                                       missing said  \n",
       "1        missing  missing plus youve added commercial experience...  \n",
       "2        missing  missing didnt today must mean need take anothe...  \n",
       "3     Bad Flight  Bad Flight really aggressive blast obnoxious e...  \n",
       "4     Can't Tell                    Can't Tell really big bad thing  "
      ]
     },
     "execution_count": 175,
     "metadata": {},
     "output_type": "execute_result"
    }
   ],
   "source": [
    "# Adding new column to data.\n",
    "df2['reason_text'] = df2['negativereason'] + ' ' + df2['text']\n",
    "df2.head()"
   ]
  },
  {
   "cell_type": "code",
   "execution_count": 176,
   "metadata": {
    "ExecuteTime": {
     "end_time": "2022-03-01T05:36:13.796068Z",
     "start_time": "2022-03-01T05:36:13.442916Z"
    }
   },
   "outputs": [
    {
     "name": "stdout",
     "output_type": "stream",
     "text": [
      "Before Tokenization & Padding \n",
      " missing said \n",
      "\n",
      "After Tokenization & Padding \n",
      " [  2 133   0   0   0   0   0   0   0   0   0   0   0   0   0   0   0   0\n",
      "   0   0   0   0   0   0   0   0   0   0   0   0   0   0   0   0   0   0\n",
      "   0   0   0   0   0   0   0   0   0   0   0   0   0   0   0   0   0   0\n",
      "   0   0   0   0   0   0   0   0   0   0   0   0   0   0   0   0   0   0\n",
      "   0   0   0   0   0   0   0   0   0   0   0   0   0   0   0   0   0   0\n",
      "   0   0   0   0   0   0   0   0   0   0]\n"
     ]
    }
   ],
   "source": [
    "# Applying tokenize and padding function on new column.\n",
    "print('Before Tokenization & Padding \\n', df2['reason_text'][0],'\\n')\n",
    "X, tokenizer = tokenize_pad_sequences(df2['reason_text'])\n",
    "print('After Tokenization & Padding \\n', X[0])\n",
    "\n"
   ]
  },
  {
   "cell_type": "code",
   "execution_count": 114,
   "metadata": {
    "ExecuteTime": {
     "end_time": "2022-03-01T01:43:42.286672Z",
     "start_time": "2022-03-01T01:43:42.153223Z"
    }
   },
   "outputs": [
    {
     "name": "stdout",
     "output_type": "stream",
     "text": [
      "Train:          (8198, 100) (8198, 3)\n",
      "Validation Set: (3514, 100) (3514, 3)\n",
      "Test Set:       (2928, 100) (2928, 3)\n"
     ]
    }
   ],
   "source": [
    "# Train test split.\n",
    "X_trn, X_tst, y_trn, y_tst = train_test_split(X, y, test_size=0.2, random_state=42, stratify=y)\n",
    "X_trn, X_vld, y_trn, y_vld = train_test_split(X_trn, y_trn, test_size=0.3, random_state=42, stratify=y_trn)\n",
    "\n",
    "print('Train:         ', X_trn.shape, y_trn.shape)\n",
    "print('Validation Set:', X_vld.shape, y_vld.shape)\n",
    "print('Test Set:      ', X_tst.shape, y_tst.shape)"
   ]
  },
  {
   "cell_type": "code",
   "execution_count": 116,
   "metadata": {
    "ExecuteTime": {
     "end_time": "2022-03-01T01:44:01.446558Z",
     "start_time": "2022-03-01T01:44:00.748219Z"
    }
   },
   "outputs": [],
   "source": [
    "# Initializing another sequential model.\n",
    "vocab_size = 5000\n",
    "embedding_size = 32\n",
    "epochs=50\n",
    "\n",
    "model= Sequential()\n",
    "model.add(Embedding(vocab_size, embedding_size, input_length=max_len))\n",
    "model.add(Conv1D(filters=32, kernel_size=3, padding='same', activation='relu'))\n",
    "model.add(MaxPooling1D(pool_size=2))\n",
    "model.add(Bidirectional(LSTM(32)))\n",
    "model.add(Dropout(0.4))\n",
    "model.add(Dense(3, activation='softmax'))\n"
   ]
  },
  {
   "cell_type": "code",
   "execution_count": 117,
   "metadata": {
    "ExecuteTime": {
     "end_time": "2022-03-01T01:44:18.761199Z",
     "start_time": "2022-03-01T01:44:18.738856Z"
    }
   },
   "outputs": [
    {
     "name": "stdout",
     "output_type": "stream",
     "text": [
      "Model: \"sequential_3\"\n",
      "_________________________________________________________________\n",
      "Layer (type)                 Output Shape              Param #   \n",
      "=================================================================\n",
      "embedding_2 (Embedding)      (None, 100, 32)           160000    \n",
      "_________________________________________________________________\n",
      "conv1d_2 (Conv1D)            (None, 100, 32)           3104      \n",
      "_________________________________________________________________\n",
      "max_pooling1d_2 (MaxPooling1 (None, 50, 32)            0         \n",
      "_________________________________________________________________\n",
      "bidirectional_2 (Bidirection (None, 64)                16640     \n",
      "_________________________________________________________________\n",
      "dropout_2 (Dropout)          (None, 64)                0         \n",
      "_________________________________________________________________\n",
      "dense_2 (Dense)              (None, 3)                 195       \n",
      "=================================================================\n",
      "Total params: 179,939\n",
      "Trainable params: 179,939\n",
      "Non-trainable params: 0\n",
      "_________________________________________________________________\n",
      "None\n"
     ]
    }
   ],
   "source": [
    "#Compiling and looking to model.\n",
    "model.compile(loss='categorical_crossentropy', optimizer='adam', metrics=['accuracy'])\n",
    "print(model.summary())"
   ]
  },
  {
   "cell_type": "code",
   "execution_count": 118,
   "metadata": {
    "ExecuteTime": {
     "end_time": "2022-03-01T01:45:02.335688Z",
     "start_time": "2022-03-01T01:44:46.067885Z"
    }
   },
   "outputs": [
    {
     "name": "stdout",
     "output_type": "stream",
     "text": [
      "Epoch 1/50\n",
      "129/129 [==============================] - 2s 18ms/step - loss: 0.6676 - accuracy: 0.7079 - val_loss: 0.2751 - val_accuracy: 0.8367\n",
      "Epoch 2/50\n",
      "129/129 [==============================] - 2s 12ms/step - loss: 0.2431 - accuracy: 0.8644 - val_loss: 0.2313 - val_accuracy: 0.8919\n",
      "Epoch 3/50\n",
      "129/129 [==============================] - 2s 12ms/step - loss: 0.1382 - accuracy: 0.9485 - val_loss: 0.1621 - val_accuracy: 0.9291\n",
      "Epoch 4/50\n",
      "129/129 [==============================] - 2s 12ms/step - loss: 0.0883 - accuracy: 0.9673 - val_loss: 0.1820 - val_accuracy: 0.9266\n",
      "Epoch 5/50\n",
      "129/129 [==============================] - 2s 12ms/step - loss: 0.0628 - accuracy: 0.9783 - val_loss: 0.2081 - val_accuracy: 0.9254\n",
      "Epoch 6/50\n",
      "129/129 [==============================] - 2s 12ms/step - loss: 0.0482 - accuracy: 0.9841 - val_loss: 0.2427 - val_accuracy: 0.9229\n",
      "Epoch 7/50\n",
      "129/129 [==============================] - 2s 13ms/step - loss: 0.0375 - accuracy: 0.9894 - val_loss: 0.2612 - val_accuracy: 0.9212\n",
      "Epoch 8/50\n",
      "129/129 [==============================] - 2s 13ms/step - loss: 0.0305 - accuracy: 0.9918 - val_loss: 0.2775 - val_accuracy: 0.9220\n"
     ]
    }
   ],
   "source": [
    "# Trying early stopping and fitting model.\n",
    "es = EarlyStopping(monitor = 'val_loss', patience=5)\n",
    "batch_size = 64\n",
    "\n",
    "history = model.fit(X_trn, y_trn,\n",
    "                    validation_data=(X_vld, y_vld),\n",
    "                    batch_size=batch_size, epochs=epochs, verbose=1,\n",
    "                    callbacks = [es])\n",
    "\n"
   ]
  },
  {
   "cell_type": "code",
   "execution_count": 121,
   "metadata": {
    "ExecuteTime": {
     "end_time": "2022-03-01T01:45:31.543768Z",
     "start_time": "2022-03-01T01:45:31.275644Z"
    }
   },
   "outputs": [
    {
     "name": "stdout",
     "output_type": "stream",
     "text": [
      "Accuracy  : 0.9286\n"
     ]
    }
   ],
   "source": [
    "# Evaluate model on the test set\n",
    "loss, accuracy = model.evaluate(X_tst, y_tst, verbose=0)\n",
    "\n",
    "# Print metrics\n",
    "print('Accuracy  : {:.4f}'.format(accuracy))"
   ]
  },
  {
   "cell_type": "code",
   "execution_count": 122,
   "metadata": {
    "ExecuteTime": {
     "end_time": "2022-03-01T01:45:41.815785Z",
     "start_time": "2022-03-01T01:45:41.526617Z"
    }
   },
   "outputs": [
    {
     "data": {
      "image/png": "[encoded data removed]",
      "text/plain": [
       "<Figure size 864x288 with 2 Axes>"
      ]
     },
     "metadata": {},
     "output_type": "display_data"
    }
   ],
   "source": [
    "# Visualizing loss and accuracy on sequential model.\n",
    "plt.figure(figsize=(12, 4))\n",
    "\n",
    "plt.subplot(1, 2, 1)\n",
    "plt.plot(history.history['loss'], 'b--', label = 'loss')\n",
    "plt.plot(history.history['val_loss'], 'r:', label = 'val_loss')\n",
    "plt.xlabel('Epochs')\n",
    "plt.legend()\n",
    "\n",
    "plt.subplot(1, 2, 2)\n",
    "plt.plot(history.history['accuracy'], 'b--', label = 'acc')\n",
    "plt.plot(history.history['val_accuracy'], 'r:', label = 'val_acc')\n",
    "plt.xlabel('Epochs')\n",
    "plt.legend()\n",
    "\n",
    "plt.show()"
   ]
  },
  {
   "cell_type": "code",
   "execution_count": 177,
   "metadata": {
    "ExecuteTime": {
     "end_time": "2022-03-01T05:37:50.545834Z",
     "start_time": "2022-03-01T05:37:50.087396Z"
    }
   },
   "outputs": [
    {
     "data": {
      "image/png": "[encoded data removed]",
      "text/plain": [
       "<Figure size 576x432 with 2 Axes>"
      ]
     },
     "metadata": {},
     "output_type": "display_data"
    }
   ],
   "source": [
    "# Looking last model confusion matrix.  \n",
    "plot_confusion_matrix(model, X_tst, y_tst)"
   ]
  },
  {
   "cell_type": "markdown",
   "metadata": {},
   "source": [
    "## Conclusion"
   ]
  },
  {
   "cell_type": "markdown",
   "metadata": {},
   "source": [
    "With final model, prediction accuracy on test set is %92. What this mean is with the **customer review text** my model will predict 92/100 true positive, true neutral or true negative. 8 of 100 tweets is going to be false for true positive, neutral or negatives(as example: 'liked' tweet at prediction section predicted negative which is false negative).\n",
    "\n",
    "Used accuracy score to evaluation metric because target variables(sentiment) positive,negative and neutral classes imbalanced and all of them equal important for us. We are not focusing just one of them and wanted to accuracy of each of them."
   ]
  },
  {
   "cell_type": "markdown",
   "metadata": {},
   "source": [
    "## Future Work"
   ]
  },
  {
   "cell_type": "markdown",
   "metadata": {},
   "source": [
    "We can work on detail text and improve our model. For example we still get little bit of false positive,neutral or negatives. We would work why is that and what we could do more on our model.\n",
    "\n",
    "Why liked tweet predicted negative etc."
   ]
  }
 ],
 "metadata": {
  "kernelspec": {
   "display_name": "Python (learn-env)",
   "language": "python",
   "name": "learn-env"
  },
  "language_info": {
   "codemirror_mode": {
    "name": "ipython",
    "version": 3
   },
   "file_extension": ".py",
   "mimetype": "text/x-python",
   "name": "python",
   "nbconvert_exporter": "python",
   "pygments_lexer": "ipython3",
   "version": "3.8.5"
  },
  "toc": {
   "base_numbering": 1,
   "nav_menu": {},
   "number_sections": true,
   "sideBar": true,
   "skip_h1_title": false,
   "title_cell": "Table of Contents",
   "title_sidebar": "Contents",
   "toc_cell": false,
   "toc_position": {
    "height": "calc(100% - 180px)",
    "left": "10px",
    "top": "150px",
    "width": "183px"
   },
   "toc_section_display": true,
   "toc_window_display": true
  }
 },
 "nbformat": 4,
 "nbformat_minor": 4
}
